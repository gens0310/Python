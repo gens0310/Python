{
  "nbformat": 4,
  "nbformat_minor": 0,
  "metadata": {
    "colab": {
      "name": "U08_불과비교논리연산자.ipynb",
      "provenance": [],
      "collapsed_sections": []
    },
    "kernelspec": {
      "name": "python3",
      "display_name": "Python 3"
    },
    "language_info": {
      "name": "python"
    }
  },
  "cells": [
    {
      "cell_type": "markdown",
      "metadata": {
        "id": "fHJI6SlWeZR5"
      },
      "source": [
        "# Unit 8. 불과 비교, 논리 연산자"
      ]
    },
    {
      "cell_type": "markdown",
      "metadata": {
        "id": "71XQuR5reinj"
      },
      "source": [
        "## 8.1 불(Bool)과 비교 연산자"
      ]
    },
    {
      "cell_type": "code",
      "metadata": {
        "colab": {
          "base_uri": "https://localhost:8080/"
        },
        "id": "lzXr6JExeRx3",
        "outputId": "6e918059-aee4-471a-b04e-491a7cb37f06"
      },
      "source": [
        "True, False"
      ],
      "execution_count": 1,
      "outputs": [
        {
          "output_type": "execute_result",
          "data": {
            "text/plain": [
              "(True, False)"
            ]
          },
          "metadata": {
            "tags": []
          },
          "execution_count": 1
        }
      ]
    },
    {
      "cell_type": "code",
      "metadata": {
        "colab": {
          "base_uri": "https://localhost:8080/"
        },
        "id": "oVmlo3YEe7Ec",
        "outputId": "1edef3cd-72d0-4c78-c2cd-34f535a739f1"
      },
      "source": [
        "# >, >=, <, <=, ==, !=\n",
        "10 >= 5"
      ],
      "execution_count": 2,
      "outputs": [
        {
          "output_type": "execute_result",
          "data": {
            "text/plain": [
              "True"
            ]
          },
          "metadata": {
            "tags": []
          },
          "execution_count": 2
        }
      ]
    },
    {
      "cell_type": "code",
      "metadata": {
        "colab": {
          "base_uri": "https://localhost:8080/"
        },
        "id": "6HnHwDUQf2OD",
        "outputId": "3907aee5-b95a-4002-8ef7-bb6f335f1960"
      },
      "source": [
        "a = 10 != 5\n",
        "a"
      ],
      "execution_count": 3,
      "outputs": [
        {
          "output_type": "execute_result",
          "data": {
            "text/plain": [
              "True"
            ]
          },
          "metadata": {
            "tags": []
          },
          "execution_count": 3
        }
      ]
    },
    {
      "cell_type": "code",
      "metadata": {
        "colab": {
          "base_uri": "https://localhost:8080/"
        },
        "id": "Lh_T4I8BgGNZ",
        "outputId": "f4481aef-db37-4a41-f4ef-9c54b94330a7"
      },
      "source": [
        "'Python' == 'python'"
      ],
      "execution_count": 4,
      "outputs": [
        {
          "output_type": "execute_result",
          "data": {
            "text/plain": [
              "False"
            ]
          },
          "metadata": {
            "tags": []
          },
          "execution_count": 4
        }
      ]
    },
    {
      "cell_type": "markdown",
      "metadata": {
        "id": "TvxkK777giF5"
      },
      "source": [
        "## 8.2 논리 연산자\n",
        "- and, or, not"
      ]
    },
    {
      "cell_type": "code",
      "metadata": {
        "colab": {
          "base_uri": "https://localhost:8080/"
        },
        "id": "y3PpiWlBgMuC",
        "outputId": "b31214b6-393d-4eaa-8ff5-0a5dd12adaee"
      },
      "source": [
        "not True and False or not False"
      ],
      "execution_count": 5,
      "outputs": [
        {
          "output_type": "execute_result",
          "data": {
            "text/plain": [
              "True"
            ]
          },
          "metadata": {
            "tags": []
          },
          "execution_count": 5
        }
      ]
    },
    {
      "cell_type": "code",
      "metadata": {
        "colab": {
          "base_uri": "https://localhost:8080/"
        },
        "id": "2lM0fw6_kHT5",
        "outputId": "8bf3b458-f29f-4d02-b089-956d5c54dba6"
      },
      "source": [
        "((not True)and False)or(not False)"
      ],
      "execution_count": 6,
      "outputs": [
        {
          "output_type": "execute_result",
          "data": {
            "text/plain": [
              "True"
            ]
          },
          "metadata": {
            "tags": []
          },
          "execution_count": 6
        }
      ]
    },
    {
      "cell_type": "code",
      "metadata": {
        "colab": {
          "base_uri": "https://localhost:8080/"
        },
        "id": "Spew6NUWkSd6",
        "outputId": "c7274ef9-e061-4532-e348-0e7afcc52ea4"
      },
      "source": [
        "# x > 10, x < 5\n",
        "x = 6\n",
        "x > 10 or x < 5"
      ],
      "execution_count": 7,
      "outputs": [
        {
          "output_type": "execute_result",
          "data": {
            "text/plain": [
              "False"
            ]
          },
          "metadata": {
            "tags": []
          },
          "execution_count": 7
        }
      ]
    },
    {
      "cell_type": "code",
      "metadata": {
        "colab": {
          "base_uri": "https://localhost:8080/"
        },
        "id": "ks0BGmJkkjAr",
        "outputId": "c480a1c3-171a-4fda-8cdb-ab883c3b7c43"
      },
      "source": [
        "# 5 < x < 10\n",
        "x > 5 and x < 10"
      ],
      "execution_count": 8,
      "outputs": [
        {
          "output_type": "execute_result",
          "data": {
            "text/plain": [
              "True"
            ]
          },
          "metadata": {
            "tags": []
          },
          "execution_count": 8
        }
      ]
    },
    {
      "cell_type": "code",
      "metadata": {
        "colab": {
          "base_uri": "https://localhost:8080/"
        },
        "id": "z0gnBO-ZksL2",
        "outputId": "4426a03c-15d9-47de-8114-108b294210de"
      },
      "source": [
        "5 < x < 10 # Python에서만 허용"
      ],
      "execution_count": 10,
      "outputs": [
        {
          "output_type": "execute_result",
          "data": {
            "text/plain": [
              "True"
            ]
          },
          "metadata": {
            "tags": []
          },
          "execution_count": 10
        }
      ]
    },
    {
      "cell_type": "markdown",
      "metadata": {
        "id": "nT-RASAZlGAE"
      },
      "source": [
        "### 정수, 실수, 문자열"
      ]
    },
    {
      "cell_type": "code",
      "metadata": {
        "colab": {
          "base_uri": "https://localhost:8080/"
        },
        "id": "jrGFhXO3kvy7",
        "outputId": "c6d65428-78be-428f-efd9-817f5827c1cd"
      },
      "source": [
        "bool(0), bool(1), bool(4) # bool(0)만 아니면 True"
      ],
      "execution_count": 12,
      "outputs": [
        {
          "output_type": "execute_result",
          "data": {
            "text/plain": [
              "(False, True, True)"
            ]
          },
          "metadata": {
            "tags": []
          },
          "execution_count": 12
        }
      ]
    },
    {
      "cell_type": "code",
      "metadata": {
        "colab": {
          "base_uri": "https://localhost:8080/"
        },
        "id": "_ZZTFeU_lQwu",
        "outputId": "1cff9bfb-522f-4308-adc2-cdb7d827d771"
      },
      "source": [
        "bool(0.0), bool(1.), bool(-4.)"
      ],
      "execution_count": 13,
      "outputs": [
        {
          "output_type": "execute_result",
          "data": {
            "text/plain": [
              "(False, True, True)"
            ]
          },
          "metadata": {
            "tags": []
          },
          "execution_count": 13
        }
      ]
    },
    {
      "cell_type": "code",
      "metadata": {
        "colab": {
          "base_uri": "https://localhost:8080/"
        },
        "id": "mjpnWAdglh0l",
        "outputId": "ce33cbf6-1451-446d-af4b-4ae326eeb0cc"
      },
      "source": [
        "bool(''), bool('a')"
      ],
      "execution_count": 14,
      "outputs": [
        {
          "output_type": "execute_result",
          "data": {
            "text/plain": [
              "(False, True)"
            ]
          },
          "metadata": {
            "tags": []
          },
          "execution_count": 14
        }
      ]
    },
    {
      "cell_type": "code",
      "metadata": {
        "colab": {
          "base_uri": "https://localhost:8080/"
        },
        "id": "3k3QtnG2lmtF",
        "outputId": "242d2551-de2d-4aa3-f470-9a91b8f3ef52"
      },
      "source": [
        "if 4:\n",
        "    print('4 is True')"
      ],
      "execution_count": 16,
      "outputs": [
        {
          "output_type": "stream",
          "text": [
            "4 is True\n"
          ],
          "name": "stdout"
        }
      ]
    },
    {
      "cell_type": "code",
      "metadata": {
        "colab": {
          "base_uri": "https://localhost:8080/"
        },
        "id": "fak2Ezkvlu7b",
        "outputId": "0b7410e4-7548-4b14-e2a6-87d107cc0b48"
      },
      "source": [
        "int(True), int(False)"
      ],
      "execution_count": 17,
      "outputs": [
        {
          "output_type": "execute_result",
          "data": {
            "text/plain": [
              "(1, 0)"
            ]
          },
          "metadata": {
            "tags": []
          },
          "execution_count": 17
        }
      ]
    },
    {
      "cell_type": "markdown",
      "metadata": {
        "id": "JIRU-v3ump4F"
      },
      "source": [
        "### Short-circuit Evaluation"
      ]
    },
    {
      "cell_type": "code",
      "metadata": {
        "colab": {
          "base_uri": "https://localhost:8080/"
        },
        "id": "BNgL2NNimBEO",
        "outputId": "00cdba77-320b-4194-e876-7a94f43bac54"
      },
      "source": [
        "1 or 'Python'"
      ],
      "execution_count": 18,
      "outputs": [
        {
          "output_type": "execute_result",
          "data": {
            "text/plain": [
              "1"
            ]
          },
          "metadata": {
            "tags": []
          },
          "execution_count": 18
        }
      ]
    },
    {
      "cell_type": "code",
      "metadata": {
        "colab": {
          "base_uri": "https://localhost:8080/",
          "height": 35
        },
        "id": "Pt-UjZlLmQbL",
        "outputId": "6fe49e4b-600c-42f2-d7a0-7a43bdd8f669"
      },
      "source": [
        "0 or 'Python'"
      ],
      "execution_count": 19,
      "outputs": [
        {
          "output_type": "execute_result",
          "data": {
            "application/vnd.google.colaboratory.intrinsic+json": {
              "type": "string"
            },
            "text/plain": [
              "'Python'"
            ]
          },
          "metadata": {
            "tags": []
          },
          "execution_count": 19
        }
      ]
    },
    {
      "cell_type": "code",
      "metadata": {
        "colab": {
          "base_uri": "https://localhost:8080/",
          "height": 35
        },
        "id": "NCT6of5OmUc-",
        "outputId": "1ef9c62c-86ae-455f-937b-55f8415e9701"
      },
      "source": [
        "1 and 'Python'"
      ],
      "execution_count": 20,
      "outputs": [
        {
          "output_type": "execute_result",
          "data": {
            "application/vnd.google.colaboratory.intrinsic+json": {
              "type": "string"
            },
            "text/plain": [
              "'Python'"
            ]
          },
          "metadata": {
            "tags": []
          },
          "execution_count": 20
        }
      ]
    },
    {
      "cell_type": "code",
      "metadata": {
        "colab": {
          "base_uri": "https://localhost:8080/"
        },
        "id": "qBWOuXKKmdpt",
        "outputId": "9ee55415-d4fb-4fe3-ec86-022679726aa8"
      },
      "source": [
        "0 and 'Python'"
      ],
      "execution_count": 21,
      "outputs": [
        {
          "output_type": "execute_result",
          "data": {
            "text/plain": [
              "0"
            ]
          },
          "metadata": {
            "tags": []
          },
          "execution_count": 21
        }
      ]
    }
  ]
}