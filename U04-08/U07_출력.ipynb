{
  "nbformat": 4,
  "nbformat_minor": 0,
  "metadata": {
    "colab": {
      "name": "U07_출력.ipynb",
      "provenance": [],
      "collapsed_sections": []
    },
    "kernelspec": {
      "name": "python3",
      "display_name": "Python 3"
    },
    "language_info": {
      "name": "python"
    }
  },
  "cells": [
    {
      "cell_type": "markdown",
      "metadata": {
        "id": "nexcY3j6Y0gm"
      },
      "source": [
        "# Unit 7. 출력"
      ]
    },
    {
      "cell_type": "markdown",
      "metadata": {
        "id": "6M_Ju0R3aa-A"
      },
      "source": [
        "## 7.1 여러 개의 값을 출력"
      ]
    },
    {
      "cell_type": "code",
      "metadata": {
        "colab": {
          "base_uri": "https://localhost:8080/"
        },
        "id": "WwXEI15zYwDS",
        "outputId": "81364491-3422-4d83-ea22-dc0867126003"
      },
      "source": [
        "a, b = map(int, input('두 개의 정수를 입력> ').split())\n",
        "a\n",
        "b"
      ],
      "execution_count": 1,
      "outputs": [
        {
          "output_type": "stream",
          "text": [
            "두 개의 정수를 입력> 10 20\n"
          ],
          "name": "stdout"
        },
        {
          "output_type": "execute_result",
          "data": {
            "text/plain": [
              "20"
            ]
          },
          "metadata": {
            "tags": []
          },
          "execution_count": 1
        }
      ]
    },
    {
      "cell_type": "code",
      "metadata": {
        "colab": {
          "base_uri": "https://localhost:8080/"
        },
        "id": "hipIVTHsaGfq",
        "outputId": "93346e2a-a65f-4afc-cb36-50369afc049c"
      },
      "source": [
        "a, b = map(int, input('두 개의 정수를 입력> ').split())\n",
        "print(a)\n",
        "print(b)"
      ],
      "execution_count": 2,
      "outputs": [
        {
          "output_type": "stream",
          "text": [
            "두 개의 정수를 입력> 10 20\n",
            "10\n",
            "20\n"
          ],
          "name": "stdout"
        }
      ]
    },
    {
      "cell_type": "code",
      "metadata": {
        "colab": {
          "base_uri": "https://localhost:8080/"
        },
        "id": "Ka5j5dOJaTtg",
        "outputId": "491e83d1-4344-4ae6-b115-faf58039ec75"
      },
      "source": [
        "print(a, b)"
      ],
      "execution_count": 3,
      "outputs": [
        {
          "output_type": "stream",
          "text": [
            "10 20\n"
          ],
          "name": "stdout"
        }
      ]
    },
    {
      "cell_type": "code",
      "metadata": {
        "colab": {
          "base_uri": "https://localhost:8080/"
        },
        "id": "D4WaQ5vPapOi",
        "outputId": "349ccd6a-90c3-4cc0-d30d-f2a3dedc5b00"
      },
      "source": [
        "print(a, b, sep = ', ')"
      ],
      "execution_count": 4,
      "outputs": [
        {
          "output_type": "stream",
          "text": [
            "10, 20\n"
          ],
          "name": "stdout"
        }
      ]
    },
    {
      "cell_type": "markdown",
      "metadata": {
        "id": "RkobI-5QbAWJ"
      },
      "source": [
        "## 7.2 줄바꿈 활용하기"
      ]
    },
    {
      "cell_type": "code",
      "metadata": {
        "colab": {
          "base_uri": "https://localhost:8080/"
        },
        "id": "2VofEf3Ra1dp",
        "outputId": "425cb7c3-7331-450a-c71c-2db7e0fe0d26"
      },
      "source": [
        "print(a, b, sep = '\\n')"
      ],
      "execution_count": 5,
      "outputs": [
        {
          "output_type": "stream",
          "text": [
            "10\n",
            "20\n"
          ],
          "name": "stdout"
        }
      ]
    },
    {
      "cell_type": "code",
      "metadata": {
        "colab": {
          "base_uri": "https://localhost:8080/"
        },
        "id": "EcTKqpbvbOsJ",
        "outputId": "35a5c9aa-d0b4-4464-8e4d-f687c44feb23"
      },
      "source": [
        "print(a, b, sep = '/\\\\')"
      ],
      "execution_count": 6,
      "outputs": [
        {
          "output_type": "stream",
          "text": [
            "10/\\20\n"
          ],
          "name": "stdout"
        }
      ]
    },
    {
      "cell_type": "code",
      "metadata": {
        "colab": {
          "base_uri": "https://localhost:8080/"
        },
        "id": "OsyfwIIicOpb",
        "outputId": "08f0b03c-24f5-4be9-bd5d-bd61a69e64a1"
      },
      "source": [
        "print(a, end = ' ')\n",
        "print(b)"
      ],
      "execution_count": 9,
      "outputs": [
        {
          "output_type": "stream",
          "text": [
            "10 20\n"
          ],
          "name": "stdout"
        }
      ]
    },
    {
      "cell_type": "code",
      "metadata": {
        "colab": {
          "base_uri": "https://localhost:8080/"
        },
        "id": "C3ozJcm4cgw6",
        "outputId": "2f0b84fb-7ccd-4c1a-931f-c9333a17810f"
      },
      "source": [
        "for i in range(5):\n",
        "    print(i, end = ' ')"
      ],
      "execution_count": 10,
      "outputs": [
        {
          "output_type": "stream",
          "text": [
            "0 1 2 3 4 "
          ],
          "name": "stdout"
        }
      ]
    }
  ]
}