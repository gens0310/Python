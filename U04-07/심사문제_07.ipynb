{
  "nbformat": 4,
  "nbformat_minor": 0,
  "metadata": {
    "colab": {
      "name": "심사문제 07.ipynb",
      "provenance": [],
      "collapsed_sections": []
    },
    "kernelspec": {
      "name": "python3",
      "display_name": "Python 3"
    },
    "language_info": {
      "name": "python"
    }
  },
  "cells": [
    {
      "cell_type": "markdown",
      "metadata": {
        "id": "HAtWEv1IGX8x"
      },
      "source": [
        "# 심사문제 07"
      ]
    },
    {
      "cell_type": "markdown",
      "metadata": {
        "id": "nXz0IgomGbYp"
      },
      "source": [
        "## 표준 입력으로 년, 월, 일, 시, 분, 초가 입력됩니다. 다음 소스 코드를 완성하여 입력된 날짜와 시간을 년-월-일T시:분:초 형식으로 출력되게 만드세요.\n",
        "\n",
        " * 부분 완성형 문제이므로 밑줄친 부분에 들어갈 코드만 제출하세요."
      ]
    },
    {
      "cell_type": "markdown",
      "metadata": {
        "id": "y3w4qVrKGbVO"
      },
      "source": [
        "### judge_print.py\n",
        "year, month, day, hour, minute, second = input().split()\n",
        "\n",
        "_______________________________________\n",
        "print(hour, minute, second, sep=':')"
      ]
    },
    {
      "cell_type": "code",
      "metadata": {
        "id": "t7xOb1zhG8I8"
      },
      "source": [
        "print(year, month, day, sep='-', end='T')"
      ],
      "execution_count": null,
      "outputs": []
    }
  ]
}