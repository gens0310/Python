{
  "nbformat": 4,
  "nbformat_minor": 0,
  "metadata": {
    "colab": {
      "name": "U04_기본문법.ipynb",
      "provenance": []
    },
    "kernelspec": {
      "name": "python3",
      "display_name": "Python 3"
    },
    "language_info": {
      "name": "python"
    }
  },
  "cells": [
    {
      "cell_type": "code",
      "metadata": {
        "id": "5UWsBzGfdocI"
      },
      "source": [
        "# C 프로그래밍 예\n",
        "\"\"\"\n",
        "sum = 0;\n",
        "for (i=1;i<=0;i++) {\n",
        "  sum += 1;\n",
        "}\n",
        "printf(sum);\n",
        "\"\"\""
      ],
      "execution_count": null,
      "outputs": []
    },
    {
      "cell_type": "code",
      "metadata": {
        "colab": {
          "base_uri": "https://localhost:8080/"
        },
        "id": "mj1k1MzXjj_8",
        "outputId": "006819c1-0626-42fc-eb3d-ff2133dc29f7"
      },
      "source": [
        "# Python 예\n",
        "sum = 0\n",
        "for i in range(1,11):\n",
        "  sum += i\n",
        "print(sum)"
      ],
      "execution_count": 3,
      "outputs": [
        {
          "output_type": "stream",
          "text": [
            "55\n"
          ],
          "name": "stdout"
        }
      ]
    },
    {
      "cell_type": "code",
      "metadata": {
        "colab": {
          "base_uri": "https://localhost:8080/"
        },
        "id": "S5x6glmCkb_u",
        "outputId": "485a700c-95c1-494d-bb59-e61370307236"
      },
      "source": [
        "# 기본 공백 : SPACE*4, TAB, SHIFT+TAB\n",
        "sum = 0\n",
        "for i in range(1,11):\n",
        "  sum += i\n",
        "  if (i>9):\n",
        "    print(i)\n",
        "print(sum)"
      ],
      "execution_count": 4,
      "outputs": [
        {
          "output_type": "stream",
          "text": [
            "10\n",
            "55\n"
          ],
          "name": "stdout"
        }
      ]
    }
  ]
}