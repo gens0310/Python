{
  "nbformat": 4,
  "nbformat_minor": 0,
  "metadata": {
    "colab": {
      "name": "심사문제 06.ipynb",
      "provenance": [],
      "collapsed_sections": []
    },
    "kernelspec": {
      "name": "python3",
      "display_name": "Python 3"
    },
    "language_info": {
      "name": "python"
    }
  },
  "cells": [
    {
      "cell_type": "markdown",
      "metadata": {
        "id": "4AKcqTrMFUbZ"
      },
      "source": [
        "# 심사문제 06"
      ]
    },
    {
      "cell_type": "markdown",
      "metadata": {
        "id": "m7n502IPFhAT"
      },
      "source": [
        "## 표준 입력으로 국어, 영어, 수학, 과학 점수가 입력됩니다. 평균 점수를 출력하는 프로그램을 만드세요(input에서 안내 문자열은 출력하지 않아야 합니다). 단, 평균 점수를 출력할 때는 소수점 이하 자리는 버립니다(정수로 출력)."
      ]
    },
    {
      "cell_type": "markdown",
      "metadata": {
        "id": "RA8dOKtmFjL6"
      },
      "source": [
        "### 참고 | 심사문제에서 안내 문자열은?\n",
        "input에 문자열을 지정하면 입력을 받기 전에 안내 문자열을 출력할 수 있습니다. 하지만 심사문제에서는 입력을 받을 때 안내 문자열을 출력하면 안 됩니다.\n",
        "\n",
        "a = int(input('숫자를 입력하세요: '))  # X 심사문제를 통과할 수 없음\n",
        "a = int(input())                     # O 올바른 코드\n",
        " \n",
        "a, b = map(int, input('숫자 두 개를 입력하세요: ').split()) # X 심사문제를 통과할 수 없음\n",
        "a, b = map(int, input().split())                          # O 올바른 코드\n",
        "따라서 input()과 같이 안내 문자열이 없는 형태로 사용해주세요."
      ]
    },
    {
      "cell_type": "code",
      "metadata": {
        "colab": {
          "base_uri": "https://localhost:8080/"
        },
        "id": "D2le3yuJFP-l",
        "outputId": "ba25ebc3-f8e9-476e-a5e8-18831f4e3afd"
      },
      "source": [
        "kor, eng, mat, sci = map(int, input().split())\n",
        "print(int((kor + eng + mat + sci) // 4))"
      ],
      "execution_count": 1,
      "outputs": [
        {
          "output_type": "stream",
          "text": [
            "50 55 32 45\n",
            "45\n"
          ],
          "name": "stdout"
        }
      ]
    }
  ]
}