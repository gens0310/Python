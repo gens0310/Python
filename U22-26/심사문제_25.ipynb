{
  "nbformat": 4,
  "nbformat_minor": 0,
  "metadata": {
    "colab": {
      "name": "심사문제 25.ipynb",
      "provenance": [],
      "collapsed_sections": []
    },
    "kernelspec": {
      "name": "python3",
      "display_name": "Python 3"
    },
    "language_info": {
      "name": "python"
    }
  },
  "cells": [
    {
      "cell_type": "markdown",
      "metadata": {
        "id": "DhJAX5QhDDLN"
      },
      "source": [
        "# 심사문제 25"
      ]
    },
    {
      "cell_type": "markdown",
      "metadata": {
        "id": "QwAH5lApDDDc"
      },
      "source": [
        "## 표준 입력으로 문자열 여러 개와 숫자 여러 개가 두 줄로 입력되고, 첫 번째 줄은 키, 두 번째 줄은 값으로 하여 딕셔너리를 생성합니다. 다음 코드를 완성하여 딕셔너리에서 키가 'delta'인 키-값 쌍과 값이 30인 키-값 쌍을 삭제하도록 만드세요."
      ]
    },
    {
      "cell_type": "markdown",
      "metadata": {
        "id": "Pke83xDJDC8n"
      },
      "source": [
        "### judge_dict_del.py\n",
        "keys = input().split()\n",
        "values = map(int, input().split())\n",
        " \n",
        "x = dict(zip(keys, values))\n",
        " \n",
        "________________\n",
        "________________\n",
        " \n",
        "print(x)"
      ]
    },
    {
      "cell_type": "code",
      "metadata": {
        "id": "tXyiOPlVDAna",
        "colab": {
          "base_uri": "https://localhost:8080/"
        },
        "outputId": "eb0035e3-6a78-406c-c7eb-0724ab689445"
      },
      "source": [
        "keys = input().split()\n",
        "values = map(int, input().split())\n",
        "x = dict(zip(keys, values))\n",
        "x.pop('delta')\n",
        "x = {key: value for key, value in x.items() if value != 30}\n",
        "print(x)"
      ],
      "execution_count": 1,
      "outputs": [
        {
          "output_type": "stream",
          "text": [
            "alpha bravo charlie delta\n",
            "10 20 30 40\n",
            "{'alpha': 10, 'bravo': 20}\n"
          ],
          "name": "stdout"
        }
      ]
    }
  ]
}