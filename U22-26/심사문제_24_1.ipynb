{
  "nbformat": 4,
  "nbformat_minor": 0,
  "metadata": {
    "colab": {
      "name": "심사문제 24-1.ipynb",
      "provenance": [],
      "collapsed_sections": []
    },
    "kernelspec": {
      "name": "python3",
      "display_name": "Python 3"
    },
    "language_info": {
      "name": "python"
    }
  },
  "cells": [
    {
      "cell_type": "markdown",
      "metadata": {
        "id": "2wF0Yw9eC5F6"
      },
      "source": [
        "# 심사문제 24-1"
      ]
    },
    {
      "cell_type": "markdown",
      "metadata": {
        "id": "oaILnPVhC49q"
      },
      "source": [
        "## 표준 입력으로 문자열이 입력됩니다. 입력된 문자열에서 'the'의 개수를 출력하는 프로그램을 만드세요(input에서 안내 문자열은 출력하지 않아야 합니다). 단, 모든 문자가 소문자인 'the'만 찾으면 되며 'them', 'there', 'their' 등은 포함하지 않아야 합니다."
      ]
    },
    {
      "cell_type": "markdown",
      "metadata": {
        "id": "ulF2a5LjC42M"
      },
      "source": [
        "### judge_string_count.py\n",
        "________________\n",
        "________________\n",
        "________________\n",
        "________________\n",
        "________________\n",
        "________________\n",
        "________________"
      ]
    },
    {
      "cell_type": "code",
      "metadata": {
        "id": "r8yxW6MQC1Y8",
        "colab": {
          "base_uri": "https://localhost:8080/"
        },
        "outputId": "f648b70f-b9fb-4b33-c7a9-a933d7d74d6c"
      },
      "source": [
        "import string\n",
        "x=str(input())\n",
        "a=[]\n",
        "for i in x:\n",
        "  a.append(i.translate(x.maketrans('','',string.punctuation)))\n",
        "x=''.join(a)\n",
        "x = x.split()\n",
        "print(x.count('the'))"
      ],
      "execution_count": null,
      "outputs": [
        {
          "output_type": "stream",
          "text": [
            "the grown-ups' response, this time, was to advise me to lay aside my drawings of boa constrictors, whether from the inside or the outside, and devote myself instead to geography, history, arithmetic, and grammar. That is why, at the, age of six, I gave up what might have been a magnificent career as a painter. I had been disheartened by the failure of my Drawing Number One and my Drawing Number Two. Grown-ups never understand anything by themselves, and it is tiresome for children to be always and forever explaining things to the.\n",
            "6\n"
          ],
          "name": "stdout"
        }
      ]
    }
  ]
}