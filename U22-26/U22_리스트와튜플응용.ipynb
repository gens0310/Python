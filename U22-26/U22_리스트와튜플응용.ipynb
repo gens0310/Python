{
  "nbformat": 4,
  "nbformat_minor": 0,
  "metadata": {
    "colab": {
      "name": "U22_리스트와튜플응용.ipynb",
      "provenance": [],
      "collapsed_sections": []
    },
    "kernelspec": {
      "name": "python3",
      "display_name": "Python 3"
    },
    "language_info": {
      "name": "python"
    }
  },
  "cells": [
    {
      "cell_type": "markdown",
      "metadata": {
        "id": "vftKm5uAnV3X"
      },
      "source": [
        "# Unit 22. 리스트와 튜플 응용"
      ]
    },
    {
      "cell_type": "markdown",
      "metadata": {
        "id": "-LNcTrGjndvk"
      },
      "source": [
        "## 22.1 리스트 조작"
      ]
    },
    {
      "cell_type": "code",
      "metadata": {
        "id": "H_851JalnM6Q"
      },
      "source": [
        "a = [10, 20, 30]"
      ],
      "execution_count": 1,
      "outputs": []
    },
    {
      "cell_type": "code",
      "metadata": {
        "colab": {
          "base_uri": "https://localhost:8080/"
        },
        "id": "nC7mizp_reWU",
        "outputId": "1a4eebc2-3a70-4e66-f677-e7b2249b95e0"
      },
      "source": [
        "# 리스트 맨 뒤에 요소 하나를 추가하는 메소드(Method)\n",
        "a.append(500)\n",
        "a"
      ],
      "execution_count": 2,
      "outputs": [
        {
          "output_type": "execute_result",
          "data": {
            "text/plain": [
              "[10, 20, 30, 500]"
            ]
          },
          "metadata": {
            "tags": []
          },
          "execution_count": 2
        }
      ]
    },
    {
      "cell_type": "code",
      "metadata": {
        "colab": {
          "base_uri": "https://localhost:8080/"
        },
        "id": "15764mbGrpwY",
        "outputId": "11b89832-3be3-4c77-dece-85d4a91d6669"
      },
      "source": [
        "a.append(['x', 'y'])\n",
        "a"
      ],
      "execution_count": 4,
      "outputs": [
        {
          "output_type": "execute_result",
          "data": {
            "text/plain": [
              "[10, 20, 30, 500, ['x', 'y']]"
            ]
          },
          "metadata": {
            "tags": []
          },
          "execution_count": 4
        }
      ]
    },
    {
      "cell_type": "code",
      "metadata": {
        "colab": {
          "base_uri": "https://localhost:8080/"
        },
        "id": "Qu0YC_0frvqv",
        "outputId": "c41f429f-e02f-4699-fc44-e9478ac8bbc5"
      },
      "source": [
        "b = [10, 20, 30]\n",
        "b.extend(['x', 'y'])\n",
        "b"
      ],
      "execution_count": 5,
      "outputs": [
        {
          "output_type": "execute_result",
          "data": {
            "text/plain": [
              "[10, 20, 30, 'x', 'y']"
            ]
          },
          "metadata": {
            "tags": []
          },
          "execution_count": 5
        }
      ]
    },
    {
      "cell_type": "code",
      "metadata": {
        "colab": {
          "base_uri": "https://localhost:8080/"
        },
        "id": "rj2RLNKor5_e",
        "outputId": "1a0e3239-96f5-45ec-d172-320ca7b372f2"
      },
      "source": [
        "empty_list = []\n",
        "for i in range(5):\n",
        "    empty_list.append(i)\n",
        "empty_list"
      ],
      "execution_count": 6,
      "outputs": [
        {
          "output_type": "execute_result",
          "data": {
            "text/plain": [
              "[0, 1, 2, 3, 4]"
            ]
          },
          "metadata": {
            "tags": []
          },
          "execution_count": 6
        }
      ]
    },
    {
      "cell_type": "code",
      "metadata": {
        "colab": {
          "base_uri": "https://localhost:8080/"
        },
        "id": "0YEjKiTLsR_w",
        "outputId": "bc3a21ed-f7b1-4569-e9ba-6cb5753ab185"
      },
      "source": [
        "del a[4]\n",
        "a"
      ],
      "execution_count": 7,
      "outputs": [
        {
          "output_type": "execute_result",
          "data": {
            "text/plain": [
              "[10, 20, 30, 500]"
            ]
          },
          "metadata": {
            "tags": []
          },
          "execution_count": 7
        }
      ]
    },
    {
      "cell_type": "markdown",
      "metadata": {
        "id": "PKFxYR3NuCVO"
      },
      "source": [
        "### Stack and Queue"
      ]
    },
    {
      "cell_type": "code",
      "metadata": {
        "colab": {
          "base_uri": "https://localhost:8080/"
        },
        "id": "gwLVBpuCtQUd",
        "outputId": "90a2e763-0736-485b-c469-2a89ec2027e5"
      },
      "source": [
        "# stack에 push\n",
        "stack = []\n",
        "stack.append(1); stack.append(2); stack.append(3);\n",
        "stack"
      ],
      "execution_count": 11,
      "outputs": [
        {
          "output_type": "execute_result",
          "data": {
            "text/plain": [
              "[1, 2, 3]"
            ]
          },
          "metadata": {
            "tags": []
          },
          "execution_count": 11
        }
      ]
    },
    {
      "cell_type": "code",
      "metadata": {
        "colab": {
          "base_uri": "https://localhost:8080/"
        },
        "id": "WKxU4iQZuTT9",
        "outputId": "ff6a3e68-57d5-457b-eec5-f917eeeff891"
      },
      "source": [
        "# stack으로부터 pop\n",
        "value = stack.pop()\n",
        "print(value, stack)"
      ],
      "execution_count": 12,
      "outputs": [
        {
          "output_type": "stream",
          "text": [
            "3 [1, 2]\n"
          ],
          "name": "stdout"
        }
      ]
    },
    {
      "cell_type": "code",
      "metadata": {
        "colab": {
          "base_uri": "https://localhost:8080/"
        },
        "id": "2Vh_mlBRuhhQ",
        "outputId": "a42a4fa0-01c8-490c-c720-4268cd35c381"
      },
      "source": [
        "# queue에 insert\n",
        "queue = []\n",
        "queue.insert(0, 1); queue.insert(0, 2); queue.insert(0, 3);\n",
        "queue"
      ],
      "execution_count": 15,
      "outputs": [
        {
          "output_type": "execute_result",
          "data": {
            "text/plain": [
              "[3, 2, 1]"
            ]
          },
          "metadata": {
            "tags": []
          },
          "execution_count": 15
        }
      ]
    },
    {
      "cell_type": "code",
      "metadata": {
        "colab": {
          "base_uri": "https://localhost:8080/"
        },
        "id": "aFgQ83vkvDxO",
        "outputId": "541e202d-1b43-49d4-ec64-40fbb833f60d"
      },
      "source": [
        "# queue로부터 pop\n",
        "value = queue.pop()\n",
        "print(value, queue)"
      ],
      "execution_count": 16,
      "outputs": [
        {
          "output_type": "stream",
          "text": [
            "1 [3, 2]\n"
          ],
          "name": "stdout"
        }
      ]
    },
    {
      "cell_type": "markdown",
      "metadata": {
        "id": "k-MVszhfvpJy"
      },
      "source": [
        "### 다양한 메소드"
      ]
    },
    {
      "cell_type": "code",
      "metadata": {
        "colab": {
          "base_uri": "https://localhost:8080/"
        },
        "id": "4Hj8u91WvYAe",
        "outputId": "fc23925a-2f7b-44b8-c983-0ac4aba44094"
      },
      "source": [
        "a = [10, 20, 30, 40, 50, 60]\n",
        "a.index(30)"
      ],
      "execution_count": 19,
      "outputs": [
        {
          "output_type": "execute_result",
          "data": {
            "text/plain": [
              "2"
            ]
          },
          "metadata": {
            "tags": []
          },
          "execution_count": 19
        }
      ]
    },
    {
      "cell_type": "code",
      "metadata": {
        "id": "FzZB6nRNvzr1"
      },
      "source": [
        "num =45\n",
        "if num in a:\n",
        "    a.index(num)"
      ],
      "execution_count": 20,
      "outputs": []
    },
    {
      "cell_type": "code",
      "metadata": {
        "colab": {
          "base_uri": "https://localhost:8080/"
        },
        "id": "YaGbv0_ev4u9",
        "outputId": "06fc2da2-e7a1-41b1-f214-b99c88c5be4a"
      },
      "source": [
        "a.count(10), a.count(45)"
      ],
      "execution_count": 21,
      "outputs": [
        {
          "output_type": "execute_result",
          "data": {
            "text/plain": [
              "(1, 0)"
            ]
          },
          "metadata": {
            "tags": []
          },
          "execution_count": 21
        }
      ]
    },
    {
      "cell_type": "code",
      "metadata": {
        "colab": {
          "base_uri": "https://localhost:8080/"
        },
        "id": "e80RAONmwTKN",
        "outputId": "672def0b-beea-44de-e40d-19012a5685f3"
      },
      "source": [
        "a = [10, 20, 30, 40, 50, 60]\n",
        "a.index(10), a.index(40)"
      ],
      "execution_count": 22,
      "outputs": [
        {
          "output_type": "execute_result",
          "data": {
            "text/plain": [
              "(0, 3)"
            ]
          },
          "metadata": {
            "tags": []
          },
          "execution_count": 22
        }
      ]
    },
    {
      "cell_type": "markdown",
      "metadata": {
        "id": "5KjRVqQLxbGg"
      },
      "source": [
        "### 정렬(Sort)"
      ]
    },
    {
      "cell_type": "code",
      "metadata": {
        "colab": {
          "base_uri": "https://localhost:8080/"
        },
        "id": "lBTyXs_MxY9V",
        "outputId": "55e619f2-7987-4396-a5a0-567e130e009a"
      },
      "source": [
        "# 오름차순이 default\n",
        "a = [20, 15, 10, 30, 40]\n",
        "a.sort()\n",
        "a"
      ],
      "execution_count": 29,
      "outputs": [
        {
          "output_type": "execute_result",
          "data": {
            "text/plain": [
              "[10, 15, 20, 30, 40]"
            ]
          },
          "metadata": {
            "tags": []
          },
          "execution_count": 29
        }
      ]
    },
    {
      "cell_type": "code",
      "metadata": {
        "colab": {
          "base_uri": "https://localhost:8080/"
        },
        "id": "bJEPjhAmxlR0",
        "outputId": "94baec39-a649-4f77-d7cd-088f7be3fec6"
      },
      "source": [
        "b = [20, 15, 10, 30, 40]\n",
        "sorted(b)"
      ],
      "execution_count": 24,
      "outputs": [
        {
          "output_type": "execute_result",
          "data": {
            "text/plain": [
              "[10, 15, 20, 30, 40]"
            ]
          },
          "metadata": {
            "tags": []
          },
          "execution_count": 24
        }
      ]
    },
    {
      "cell_type": "code",
      "metadata": {
        "colab": {
          "base_uri": "https://localhost:8080/"
        },
        "id": "kThO4lR3xunl",
        "outputId": "82530a8c-6ee3-4191-9629-6befcb50a3b4"
      },
      "source": [
        "b"
      ],
      "execution_count": 25,
      "outputs": [
        {
          "output_type": "execute_result",
          "data": {
            "text/plain": [
              "[20, 15, 10, 30, 40]"
            ]
          },
          "metadata": {
            "tags": []
          },
          "execution_count": 25
        }
      ]
    },
    {
      "cell_type": "code",
      "metadata": {
        "colab": {
          "base_uri": "https://localhost:8080/"
        },
        "id": "7I5-UyXfxvnC",
        "outputId": "1c798917-fdd8-4681-bc53-71e495c3113e"
      },
      "source": [
        "b = [20, 15, 10, 30, 40]\n",
        "b = sorted(b)\n",
        "b"
      ],
      "execution_count": 26,
      "outputs": [
        {
          "output_type": "execute_result",
          "data": {
            "text/plain": [
              "[10, 15, 20, 30, 40]"
            ]
          },
          "metadata": {
            "tags": []
          },
          "execution_count": 26
        }
      ]
    },
    {
      "cell_type": "code",
      "metadata": {
        "colab": {
          "base_uri": "https://localhost:8080/"
        },
        "id": "98tQPfttx3_V",
        "outputId": "2b16fde3-d3e5-40c6-c01f-c40be73608f9"
      },
      "source": [
        "# 내림차순\n",
        "a = [20, 15, 10, 30, 40]\n",
        "a.sort(reverse = True)\n",
        "a"
      ],
      "execution_count": 28,
      "outputs": [
        {
          "output_type": "execute_result",
          "data": {
            "text/plain": [
              "[40, 30, 20, 15, 10]"
            ]
          },
          "metadata": {
            "tags": []
          },
          "execution_count": 28
        }
      ]
    },
    {
      "cell_type": "markdown",
      "metadata": {
        "id": "RKWYXfUzzKL0"
      },
      "source": [
        "## 22.2 리스트 할당과 복사"
      ]
    },
    {
      "cell_type": "code",
      "metadata": {
        "colab": {
          "base_uri": "https://localhost:8080/"
        },
        "id": "Glr_LqW9yqDs",
        "outputId": "f5e397df-426e-4411-b051-097fb104018d"
      },
      "source": [
        "# Shallow copy, pointer만 copy\n",
        "a = [0, 0, 0, 0, 0]\n",
        "b = a\n",
        "b"
      ],
      "execution_count": 30,
      "outputs": [
        {
          "output_type": "execute_result",
          "data": {
            "text/plain": [
              "[0, 0, 0, 0, 0]"
            ]
          },
          "metadata": {
            "tags": []
          },
          "execution_count": 30
        }
      ]
    },
    {
      "cell_type": "code",
      "metadata": {
        "colab": {
          "base_uri": "https://localhost:8080/"
        },
        "id": "p4Hui5G5zZU5",
        "outputId": "a4362d93-7e44-45a8-875c-72dd752ac541"
      },
      "source": [
        "b[2] = 99\n",
        "b"
      ],
      "execution_count": 31,
      "outputs": [
        {
          "output_type": "execute_result",
          "data": {
            "text/plain": [
              "[0, 0, 99, 0, 0]"
            ]
          },
          "metadata": {
            "tags": []
          },
          "execution_count": 31
        }
      ]
    },
    {
      "cell_type": "code",
      "metadata": {
        "colab": {
          "base_uri": "https://localhost:8080/"
        },
        "id": "j8EswmJOzc6G",
        "outputId": "6f65c4fd-b1de-4eca-e94d-1e035cb18b03"
      },
      "source": [
        "a"
      ],
      "execution_count": 32,
      "outputs": [
        {
          "output_type": "execute_result",
          "data": {
            "text/plain": [
              "[0, 0, 99, 0, 0]"
            ]
          },
          "metadata": {
            "tags": []
          },
          "execution_count": 32
        }
      ]
    },
    {
      "cell_type": "code",
      "metadata": {
        "colab": {
          "base_uri": "https://localhost:8080/"
        },
        "id": "V1LKC5PVzeS1",
        "outputId": "3a03c252-4b10-4490-cb6a-f9afbb199763"
      },
      "source": [
        "# data를 copy\n",
        "a = [0, 0, 0, 0, 0]\n",
        "b = a.copy()\n",
        "b"
      ],
      "execution_count": 33,
      "outputs": [
        {
          "output_type": "execute_result",
          "data": {
            "text/plain": [
              "[0, 0, 0, 0, 0]"
            ]
          },
          "metadata": {
            "tags": []
          },
          "execution_count": 33
        }
      ]
    },
    {
      "cell_type": "code",
      "metadata": {
        "colab": {
          "base_uri": "https://localhost:8080/"
        },
        "id": "4FZyu9YVz7Ms",
        "outputId": "11730a82-8e49-411c-a010-7588b9dca82c"
      },
      "source": [
        "a"
      ],
      "execution_count": 34,
      "outputs": [
        {
          "output_type": "execute_result",
          "data": {
            "text/plain": [
              "[0, 0, 0, 0, 0]"
            ]
          },
          "metadata": {
            "tags": []
          },
          "execution_count": 34
        }
      ]
    },
    {
      "cell_type": "markdown",
      "metadata": {
        "id": "1aihjYsu2l0E"
      },
      "source": [
        "## 22.3 리스트와 반복문"
      ]
    },
    {
      "cell_type": "code",
      "metadata": {
        "colab": {
          "base_uri": "https://localhost:8080/"
        },
        "id": "UPpXKjhIz9Rk",
        "outputId": "71ff878c-1765-4561-b790-2f0dea60b573"
      },
      "source": [
        "for fruit in ['apple', 'banana', 'cherry']:\n",
        "    print(fruit)"
      ],
      "execution_count": 35,
      "outputs": [
        {
          "output_type": "stream",
          "text": [
            "apple\n",
            "banana\n",
            "cherry\n"
          ],
          "name": "stdout"
        }
      ]
    },
    {
      "cell_type": "code",
      "metadata": {
        "colab": {
          "base_uri": "https://localhost:8080/"
        },
        "id": "TdToxxkS207E",
        "outputId": "4416fc43-e301-4751-efa8-a79a8e0e19cc"
      },
      "source": [
        "fruits = ['apple', 'banana', 'cherry']\n",
        "for index, fruit in enumerate(fruits):\n",
        "    print(index, fruit)"
      ],
      "execution_count": 37,
      "outputs": [
        {
          "output_type": "stream",
          "text": [
            "0 apple\n",
            "1 banana\n",
            "2 cherry\n"
          ],
          "name": "stdout"
        }
      ]
    },
    {
      "cell_type": "code",
      "metadata": {
        "colab": {
          "base_uri": "https://localhost:8080/"
        },
        "id": "TaF5Nyy63LeQ",
        "outputId": "0f4b4a64-51e9-40e8-d7e9-f20a7752d767"
      },
      "source": [
        "for i in range(len(fruits)):\n",
        "    print(i, fruits[i])"
      ],
      "execution_count": 39,
      "outputs": [
        {
          "output_type": "stream",
          "text": [
            "0 apple\n",
            "1 banana\n",
            "2 cherry\n"
          ],
          "name": "stdout"
        }
      ]
    },
    {
      "cell_type": "markdown",
      "metadata": {
        "id": "bXD0ottp4JpN"
      },
      "source": [
        "## 22.4 리스트에서 min, max, sum 함수 활용"
      ]
    },
    {
      "cell_type": "code",
      "metadata": {
        "colab": {
          "base_uri": "https://localhost:8080/"
        },
        "id": "E0uFgcdr34C0",
        "outputId": "275ecc1a-3999-49a1-fdfa-e461d9ba784a"
      },
      "source": [
        "a = [38, 21, 53, 62, 19]\n",
        "a.sort()\n",
        "a[0]"
      ],
      "execution_count": 40,
      "outputs": [
        {
          "output_type": "execute_result",
          "data": {
            "text/plain": [
              "19"
            ]
          },
          "metadata": {
            "tags": []
          },
          "execution_count": 40
        }
      ]
    },
    {
      "cell_type": "code",
      "metadata": {
        "colab": {
          "base_uri": "https://localhost:8080/"
        },
        "id": "CvWJ4hj64tJi",
        "outputId": "d91a5729-f6b0-44dc-c009-4ec0322cb087"
      },
      "source": [
        "a[-1]"
      ],
      "execution_count": 41,
      "outputs": [
        {
          "output_type": "execute_result",
          "data": {
            "text/plain": [
              "62"
            ]
          },
          "metadata": {
            "tags": []
          },
          "execution_count": 41
        }
      ]
    },
    {
      "cell_type": "code",
      "metadata": {
        "colab": {
          "base_uri": "https://localhost:8080/"
        },
        "id": "zEOapcyC4yC9",
        "outputId": "71580a00-0e56-42bb-b601-0fbcb16bbdd5"
      },
      "source": [
        "a = [38, 21, 53, 62, 19]\n",
        "sorted(a)[0], sorted(a)[-1]"
      ],
      "execution_count": 43,
      "outputs": [
        {
          "output_type": "execute_result",
          "data": {
            "text/plain": [
              "(19, 62)"
            ]
          },
          "metadata": {
            "tags": []
          },
          "execution_count": 43
        }
      ]
    },
    {
      "cell_type": "code",
      "metadata": {
        "colab": {
          "base_uri": "https://localhost:8080/"
        },
        "id": "3HpI0u7w4-se",
        "outputId": "6e595782-15f0-4554-e0da-bf8def47eb63"
      },
      "source": [
        "# 리스트 원소의 합\n",
        "sum_of_list = 0\n",
        "for elem in a:\n",
        "    sum_of_list += elem\n",
        "sum_of_list, sum(a)"
      ],
      "execution_count": 44,
      "outputs": [
        {
          "output_type": "execute_result",
          "data": {
            "text/plain": [
              "(193, 193)"
            ]
          },
          "metadata": {
            "tags": []
          },
          "execution_count": 44
        }
      ]
    },
    {
      "cell_type": "markdown",
      "metadata": {
        "id": "K5tX_FHY5vtQ"
      },
      "source": [
        "## 22.5 리스트 표현식(Comprehension) 사용"
      ]
    },
    {
      "cell_type": "code",
      "metadata": {
        "colab": {
          "base_uri": "https://localhost:8080/"
        },
        "id": "ABAk-zmj5YF7",
        "outputId": "146a6cc2-32ca-405d-8719-3b0b07053001"
      },
      "source": [
        "[fruit for fruit in fruits]"
      ],
      "execution_count": 45,
      "outputs": [
        {
          "output_type": "execute_result",
          "data": {
            "text/plain": [
              "['apple', 'banana', 'cherry']"
            ]
          },
          "metadata": {
            "tags": []
          },
          "execution_count": 45
        }
      ]
    },
    {
      "cell_type": "code",
      "metadata": {
        "colab": {
          "base_uri": "https://localhost:8080/"
        },
        "id": "nS8cVoEe6OwN",
        "outputId": "ecd458c0-acef-4a76-9cc3-ed20e09ae79a"
      },
      "source": [
        "[fruit * index for index, fruit in enumerate(fruits)]"
      ],
      "execution_count": 46,
      "outputs": [
        {
          "output_type": "execute_result",
          "data": {
            "text/plain": [
              "['', 'banana', 'cherrycherry']"
            ]
          },
          "metadata": {
            "tags": []
          },
          "execution_count": 46
        }
      ]
    },
    {
      "cell_type": "code",
      "metadata": {
        "colab": {
          "base_uri": "https://localhost:8080/"
        },
        "id": "NhnSF3fY6qTN",
        "outputId": "aea4b992-a0c7-41a8-e3f7-9177ba7a59d1"
      },
      "source": [
        "[i * i for i in range(1, 11)]"
      ],
      "execution_count": 47,
      "outputs": [
        {
          "output_type": "execute_result",
          "data": {
            "text/plain": [
              "[1, 4, 9, 16, 25, 36, 49, 64, 81, 100]"
            ]
          },
          "metadata": {
            "tags": []
          },
          "execution_count": 47
        }
      ]
    },
    {
      "cell_type": "code",
      "metadata": {
        "colab": {
          "base_uri": "https://localhost:8080/"
        },
        "id": "aszT6kUD69UD",
        "outputId": "dfe2bbdc-c861-4cdb-bb6d-7775a9a61a24"
      },
      "source": [
        "list(i * i for i in range(1, 11))"
      ],
      "execution_count": 48,
      "outputs": [
        {
          "output_type": "execute_result",
          "data": {
            "text/plain": [
              "[1, 4, 9, 16, 25, 36, 49, 64, 81, 100]"
            ]
          },
          "metadata": {
            "tags": []
          },
          "execution_count": 48
        }
      ]
    },
    {
      "cell_type": "code",
      "metadata": {
        "colab": {
          "base_uri": "https://localhost:8080/"
        },
        "id": "jFo4xh4D7Ryc",
        "outputId": "97029bc4-f074-4188-b156-9d1708139eb2"
      },
      "source": [
        "sq_list = []\n",
        "for i in range(1, 11):\n",
        "    sq_list.append(i * i)\n",
        "sq_list"
      ],
      "execution_count": 49,
      "outputs": [
        {
          "output_type": "execute_result",
          "data": {
            "text/plain": [
              "[1, 4, 9, 16, 25, 36, 49, 64, 81, 100]"
            ]
          },
          "metadata": {
            "tags": []
          },
          "execution_count": 49
        }
      ]
    },
    {
      "cell_type": "markdown",
      "metadata": {
        "id": "kPqs0avW788e"
      },
      "source": [
        "## 22.5 리스트 표현식에서 if 조건문 사용"
      ]
    },
    {
      "cell_type": "code",
      "metadata": {
        "colab": {
          "base_uri": "https://localhost:8080/"
        },
        "id": "jpljV5Lz7lX8",
        "outputId": "6a51e561-1fd5-456f-9e32-02257a2ad1b0"
      },
      "source": [
        "[i * i for i in range(1, 11, 2)]"
      ],
      "execution_count": 50,
      "outputs": [
        {
          "output_type": "execute_result",
          "data": {
            "text/plain": [
              "[1, 9, 25, 49, 81]"
            ]
          },
          "metadata": {
            "tags": []
          },
          "execution_count": 50
        }
      ]
    },
    {
      "cell_type": "code",
      "metadata": {
        "colab": {
          "base_uri": "https://localhost:8080/"
        },
        "id": "Dyf6oN8S8SrQ",
        "outputId": "02d8d8ba-4ade-41fc-a038-309681a873ae"
      },
      "source": [
        "[i * i for i in range(1, 11) if i % 2 == 1]"
      ],
      "execution_count": 51,
      "outputs": [
        {
          "output_type": "execute_result",
          "data": {
            "text/plain": [
              "[1, 9, 25, 49, 81]"
            ]
          },
          "metadata": {
            "tags": []
          },
          "execution_count": 51
        }
      ]
    },
    {
      "cell_type": "markdown",
      "metadata": {
        "id": "bN7qzxEv9AKf"
      },
      "source": [
        "### for를 여러번 사용"
      ]
    },
    {
      "cell_type": "code",
      "metadata": {
        "colab": {
          "base_uri": "https://localhost:8080/"
        },
        "id": "OrZYy_qC8YOm",
        "outputId": "af860c4e-30c8-4399-8fb9-9ee689beb91f"
      },
      "source": [
        "# 구구단\n",
        "a = [i * k for i in range(2, 10) for k in range(1, 10)]\n",
        "print(a)"
      ],
      "execution_count": 53,
      "outputs": [
        {
          "output_type": "stream",
          "text": [
            "[2, 4, 6, 8, 10, 12, 14, 16, 18, 3, 6, 9, 12, 15, 18, 21, 24, 27, 4, 8, 12, 16, 20, 24, 28, 32, 36, 5, 10, 15, 20, 25, 30, 35, 40, 45, 6, 12, 18, 24, 30, 36, 42, 48, 54, 7, 14, 21, 28, 35, 42, 49, 56, 63, 8, 16, 24, 32, 40, 48, 56, 64, 72, 9, 18, 27, 36, 45, 54, 63, 72, 81]\n"
          ],
          "name": "stdout"
        }
      ]
    },
    {
      "cell_type": "code",
      "metadata": {
        "colab": {
          "base_uri": "https://localhost:8080/"
        },
        "id": "l9GxTKR-9Sis",
        "outputId": "ab5a7f5b-3c3f-40a8-d3d3-6876f6d57c68"
      },
      "source": [
        "b = [i * k for i in range(2, 10)\n",
        "            for k in range(1, 10)]\n",
        "print(b)"
      ],
      "execution_count": 54,
      "outputs": [
        {
          "output_type": "stream",
          "text": [
            "[2, 4, 6, 8, 10, 12, 14, 16, 18, 3, 6, 9, 12, 15, 18, 21, 24, 27, 4, 8, 12, 16, 20, 24, 28, 32, 36, 5, 10, 15, 20, 25, 30, 35, 40, 45, 6, 12, 18, 24, 30, 36, 42, 48, 54, 7, 14, 21, 28, 35, 42, 49, 56, 63, 8, 16, 24, 32, 40, 48, 56, 64, 72, 9, 18, 27, 36, 45, 54, 63, 72, 81]\n"
          ],
          "name": "stdout"
        }
      ]
    },
    {
      "cell_type": "markdown",
      "metadata": {
        "id": "zCe-mf5L9_pP"
      },
      "source": [
        "## 22.6 리스트에 map 사용"
      ]
    },
    {
      "cell_type": "code",
      "metadata": {
        "colab": {
          "base_uri": "https://localhost:8080/"
        },
        "id": "oIN-HJsb93_M",
        "outputId": "75e75726-6ce2-437e-9f29-de950c7a5a07"
      },
      "source": [
        "a = [1.2, 2.3, 3.5, 4.8]\n",
        "for i in range(len(a)):\n",
        "    a[i] = int(a[i])\n",
        "a"
      ],
      "execution_count": 55,
      "outputs": [
        {
          "output_type": "execute_result",
          "data": {
            "text/plain": [
              "[1, 2, 3, 4]"
            ]
          },
          "metadata": {
            "tags": []
          },
          "execution_count": 55
        }
      ]
    },
    {
      "cell_type": "code",
      "metadata": {
        "colab": {
          "base_uri": "https://localhost:8080/"
        },
        "id": "sSdxVJmN-gkk",
        "outputId": "bc388f53-2487-4a5c-a811-9857edbf274b"
      },
      "source": [
        "a = [1.2, 2.3, 3.5, 4.8]\n",
        "for i in a:\n",
        "    i = int(i)\n",
        "a"
      ],
      "execution_count": 56,
      "outputs": [
        {
          "output_type": "execute_result",
          "data": {
            "text/plain": [
              "[1.2, 2.3, 3.5, 4.8]"
            ]
          },
          "metadata": {
            "tags": []
          },
          "execution_count": 56
        }
      ]
    },
    {
      "cell_type": "code",
      "metadata": {
        "colab": {
          "base_uri": "https://localhost:8080/"
        },
        "id": "mcONhboY-uQz",
        "outputId": "97e09a0e-ba17-4037-faf0-66307635873f"
      },
      "source": [
        "a = [1.2, 2.3, 3.5, 4.8]\n",
        "for i, val in enumerate(a):\n",
        "    a[i] = int(val)\n",
        "a"
      ],
      "execution_count": 57,
      "outputs": [
        {
          "output_type": "execute_result",
          "data": {
            "text/plain": [
              "[1, 2, 3, 4]"
            ]
          },
          "metadata": {
            "tags": []
          },
          "execution_count": 57
        }
      ]
    },
    {
      "cell_type": "code",
      "metadata": {
        "colab": {
          "base_uri": "https://localhost:8080/"
        },
        "id": "DiHDcvtG--3T",
        "outputId": "08ef457c-7869-422e-cceb-c846edf6f7fe"
      },
      "source": [
        "a = [1.2, 2.3, 3.5, 4.8]\n",
        "a = list(map(int, a))\n",
        "a"
      ],
      "execution_count": 58,
      "outputs": [
        {
          "output_type": "execute_result",
          "data": {
            "text/plain": [
              "[1, 2, 3, 4]"
            ]
          },
          "metadata": {
            "tags": []
          },
          "execution_count": 58
        }
      ]
    },
    {
      "cell_type": "markdown",
      "metadata": {
        "id": "WqiyocC8_5Dz"
      },
      "source": [
        "## 22.7 튜플"
      ]
    },
    {
      "cell_type": "code",
      "metadata": {
        "colab": {
          "base_uri": "https://localhost:8080/"
        },
        "id": "qYDgDBRF_3pk",
        "outputId": "746cb312-2bb5-4a80-e0f5-17ab155c10a0"
      },
      "source": [
        "tuple(i * i for i in range(1, 11) if i % 2 == 0)"
      ],
      "execution_count": 59,
      "outputs": [
        {
          "output_type": "execute_result",
          "data": {
            "text/plain": [
              "(4, 16, 36, 64, 100)"
            ]
          },
          "metadata": {
            "tags": []
          },
          "execution_count": 59
        }
      ]
    }
  ]
}