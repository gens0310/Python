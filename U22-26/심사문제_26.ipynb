{
  "nbformat": 4,
  "nbformat_minor": 0,
  "metadata": {
    "colab": {
      "name": "심사문제 26.ipynb",
      "provenance": [],
      "collapsed_sections": []
    },
    "kernelspec": {
      "name": "python3",
      "display_name": "Python 3"
    },
    "language_info": {
      "name": "python"
    }
  },
  "cells": [
    {
      "cell_type": "markdown",
      "metadata": {
        "id": "O7-CJ3ZxDMK1"
      },
      "source": [
        "# 심사문제 26"
      ]
    },
    {
      "cell_type": "markdown",
      "metadata": {
        "id": "xpQLJcAqDMIH"
      },
      "source": [
        "## 표준 입력으로 양의 정수 두 개가 입력됩니다. 다음 소스 코드를 완성하여 두 숫자의 공약수를 세트 형태로 구하도록 만드세요. 단, 최종 결과는 공약수의 합으로 판단합니다."
      ]
    },
    {
      "cell_type": "markdown",
      "metadata": {
        "id": "3AD43rlcDMFM"
      },
      "source": [
        "### judge_set_intersection.py\n",
        "________________\n",
        "________________\n",
        "________________\n",
        " \n",
        "divisor = a & b\n",
        " \n",
        "result = 0\n",
        "if type(divisor) == set:\n",
        "    result = sum(divisor)\n",
        " \n",
        "print(result)"
      ]
    },
    {
      "cell_type": "code",
      "metadata": {
        "id": "5qcuPDIGDK8Z",
        "colab": {
          "base_uri": "https://localhost:8080/"
        },
        "outputId": "7693e266-e668-43bb-fe38-31a8a2ce5a7d"
      },
      "source": [
        "x, y = map(int, input().split())\n",
        "a = {i for i in range(1, x + 1) if x % i == 0}\n",
        "b = {i for i in range(1, y + 1) if y % i == 0}\n",
        "divisor = a & b\n",
        "result = 0\n",
        "if type(divisor) == set:\n",
        "    result = sum(divisor)\n",
        "print(result)"
      ],
      "execution_count": 1,
      "outputs": [
        {
          "output_type": "stream",
          "text": [
            "10 20\n",
            "18\n"
          ],
          "name": "stdout"
        }
      ]
    }
  ]
}