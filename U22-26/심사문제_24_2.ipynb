{
  "nbformat": 4,
  "nbformat_minor": 0,
  "metadata": {
    "colab": {
      "name": "심사문제 24-2.ipynb",
      "provenance": [],
      "collapsed_sections": []
    },
    "kernelspec": {
      "name": "python3",
      "display_name": "Python 3"
    },
    "language_info": {
      "name": "python"
    }
  },
  "cells": [
    {
      "cell_type": "markdown",
      "metadata": {
        "id": "ZVTsOwq9HSGi"
      },
      "source": [
        "# 심사문제 24-2"
      ]
    },
    {
      "cell_type": "markdown",
      "metadata": {
        "id": "eQwy1G8oHR_B"
      },
      "source": [
        "## 표준 입력으로 물품 가격 여러 개가 문자열 한 줄로 입력되고, 각 가격은 ;(세미콜론)으로 구분되어 있습니다. 입력된 가격을 높은 가격순으로 출력하는 프로그램을 만드세요(input에서 안내 문자열은 출력하지 않아야 합니다). 이때 가격은 길이를 9로 만든 뒤 오른쪽으로 정렬하고 천단위로 ,(콤마)를 넣으세요."
      ]
    },
    {
      "cell_type": "markdown",
      "metadata": {
        "id": "qFGlBrmNHR2f"
      },
      "source": [
        "### judge_string_alignment.py\n",
        "________________\n",
        "________________\n",
        "________________\n",
        "________________"
      ]
    },
    {
      "cell_type": "code",
      "metadata": {
        "colab": {
          "base_uri": "https://localhost:8080/"
        },
        "id": "3NEFEPHSHLOR",
        "outputId": "4ddf37a7-c691-4f98-e852-5185c824dd40"
      },
      "source": [
        "a=list(map(int, input().split(';')))\n",
        "a.sort(reverse=True)\n",
        "for price in a:\n",
        "  print('{:>9,}'.format(price))"
      ],
      "execution_count": null,
      "outputs": [
        {
          "output_type": "stream",
          "text": [
            "5600;23400;1230;43200;23200;65000\n",
            "   65,000\n",
            "   43,200\n",
            "   23,400\n",
            "   23,200\n",
            "    5,600\n",
            "    1,230\n"
          ],
          "name": "stdout"
        }
      ]
    }
  ]
}