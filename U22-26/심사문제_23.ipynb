{
  "nbformat": 4,
  "nbformat_minor": 0,
  "metadata": {
    "colab": {
      "name": "심사문제 23.ipynb",
      "provenance": [],
      "collapsed_sections": []
    },
    "kernelspec": {
      "name": "python3",
      "display_name": "Python 3"
    },
    "language_info": {
      "name": "python"
    }
  },
  "cells": [
    {
      "cell_type": "markdown",
      "metadata": {
        "id": "p4rUMRBPr_k4"
      },
      "source": [
        "# 심사문제 23"
      ]
    },
    {
      "cell_type": "markdown",
      "metadata": {
        "id": "RkIDUQXMsCG6"
      },
      "source": [
        "## 표준 입력으로 2차원 리스트의 가로(col)와 세로(row)가 입력되고 그 다음 줄부터 리스트의 요소로 들어갈 문자가 입력됩니다. 이때 2차원 리스트 안에서 *는 지뢰이고 .은 지뢰가 아닙니다. 지뢰가 아닌 요소에는 인접한 지뢰의 개수를 출력하는 프로그램을 만드세요(input에서 안내 문자열은 출력하지 않아야 합니다).\n",
        "\n",
        "여러 줄을 입력 받으려면 다음과 같이 for 반복문에서 input을 호출한 뒤 append로 각 줄을 추가하면 됩니다(list 안에 문자열을 넣으면 문자열이 문자 리스트로 변환됩니다).\n",
        "\n",
        "matrix = []\n",
        "for i in range(row):\n",
        "    matrix.append(list(input()))\n",
        "이 문제는 지금까지 심사문제 중에서 가장 어렵습니다. 처음 풀어보는 경우 대략 두 시간은 걸립니다. 시간을 두고 천천히 고민해서 풀어보세요. 지금까지 학습한 내용을 모두 동원해야 풀 수 있으며 막힐 때는 지금까지 학습한 내용을 다시 복습하면서 힌트를 찾아보세요."
      ]
    },
    {
      "cell_type": "markdown",
      "metadata": {
        "id": "zwBgOppmsB9Y"
      },
      "source": [
        "### judge_minesweeper.py\n",
        "________________\n",
        "________________\n",
        "________________\n",
        "________________\n",
        "________________\n",
        "________________\n",
        "________________\n",
        "________________\n",
        "________________\n",
        "________________\n",
        "________________\n",
        "________________\n",
        "________________\n",
        "________________\n",
        "________________\n",
        "________________\n",
        "________________\n",
        "________________\n",
        "________________\n",
        "________________\n",
        "________________"
      ]
    },
    {
      "cell_type": "code",
      "metadata": {
        "colab": {
          "base_uri": "https://localhost:8080/"
        },
        "id": "NMbgASesrNEP",
        "outputId": "ce103497-7282-493b-cc12-560b5f6039a6"
      },
      "source": [
        "row, col = map(int, input().split())\n",
        "matrix = []\n",
        "for i in range(col):\n",
        "    matrix.append(list(input()))\n",
        "for i in range(col):\n",
        "    for k in range(row):\n",
        "        if matrix[i][k] == '*':\n",
        "            print(matrix[i][k], sep = '', end = '')\n",
        "        else:\n",
        "            count = 0\n",
        "            for x in range(i - 1, i + 2):\n",
        "                for y in range(k - 1, k + 2):\n",
        "                    if x < 0 or y < 0 or x >= col or y >= row:\n",
        "                        continue\n",
        "                    elif matrix[x][y]=='*':\n",
        "                        count += 1\n",
        "            print(count, sep = '', end = '')                          \n",
        "    print()"
      ],
      "execution_count": 3,
      "outputs": [
        {
          "output_type": "stream",
          "text": [
            "3 3\n",
            "..*\n",
            ".*.\n",
            "*..\n",
            "12*\n",
            "2*2\n",
            "*21\n"
          ],
          "name": "stdout"
        }
      ]
    }
  ]
}