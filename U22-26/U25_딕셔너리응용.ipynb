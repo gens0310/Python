{
  "nbformat": 4,
  "nbformat_minor": 0,
  "metadata": {
    "colab": {
      "name": "U25_딕셔너리응용.ipynb",
      "provenance": [],
      "collapsed_sections": []
    },
    "kernelspec": {
      "name": "python3",
      "display_name": "Python 3"
    },
    "language_info": {
      "name": "python"
    }
  },
  "cells": [
    {
      "cell_type": "markdown",
      "metadata": {
        "id": "H3mTn-lZCZie"
      },
      "source": [
        "# Unit 25. 딕셔너리 응용"
      ]
    },
    {
      "cell_type": "markdown",
      "metadata": {
        "id": "s4WYoMmMCZZt"
      },
      "source": [
        "## 25.1 딕셔너리 조작"
      ]
    },
    {
      "cell_type": "code",
      "metadata": {
        "id": "4if-UW-UCU_S",
        "colab": {
          "base_uri": "https://localhost:8080/"
        },
        "outputId": "6e2f1261-f7b1-4862-f6b8-0b21a3fd2099"
      },
      "source": [
        "x = {'a':10, 'b':20, 'c':30, 'd':40}\n",
        "y = x.setdefault('e', 100)\n",
        "x, y"
      ],
      "execution_count": 1,
      "outputs": [
        {
          "output_type": "execute_result",
          "data": {
            "text/plain": [
              "({'a': 10, 'b': 20, 'c': 30, 'd': 40, 'e': 100}, 100)"
            ]
          },
          "metadata": {
            "tags": []
          },
          "execution_count": 1
        }
      ]
    },
    {
      "cell_type": "code",
      "metadata": {
        "colab": {
          "base_uri": "https://localhost:8080/"
        },
        "id": "8B-0Lq6Jozmj",
        "outputId": "b203e3cf-d49c-47ef-ab36-5c4844c239e8"
      },
      "source": [
        "x = {'a':10, 'b':20, 'c':30, 'd':40}\n",
        "x.update(a=90)\n",
        "x"
      ],
      "execution_count": 2,
      "outputs": [
        {
          "output_type": "execute_result",
          "data": {
            "text/plain": [
              "{'a': 90, 'b': 20, 'c': 30, 'd': 40}"
            ]
          },
          "metadata": {
            "tags": []
          },
          "execution_count": 2
        }
      ]
    },
    {
      "cell_type": "code",
      "metadata": {
        "colab": {
          "base_uri": "https://localhost:8080/"
        },
        "id": "TM2mar9apDon",
        "outputId": "2ff8dc0f-dec0-4fe1-8115-91af7a7338cb"
      },
      "source": [
        "x.update(e=100)\n",
        "x"
      ],
      "execution_count": 3,
      "outputs": [
        {
          "output_type": "execute_result",
          "data": {
            "text/plain": [
              "{'a': 90, 'b': 20, 'c': 30, 'd': 40, 'e': 100}"
            ]
          },
          "metadata": {
            "tags": []
          },
          "execution_count": 3
        }
      ]
    },
    {
      "cell_type": "code",
      "metadata": {
        "colab": {
          "base_uri": "https://localhost:8080/"
        },
        "id": "_sDHSt0NpGsC",
        "outputId": "a92a0581-e0e0-42a5-aa46-9e1db19e2924"
      },
      "source": [
        "x = {'a':10, 'b':20, 'c':30, 'd':40}\n",
        "x['e'] = 100\n",
        "x"
      ],
      "execution_count": 4,
      "outputs": [
        {
          "output_type": "execute_result",
          "data": {
            "text/plain": [
              "{'a': 10, 'b': 20, 'c': 30, 'd': 40, 'e': 100}"
            ]
          },
          "metadata": {
            "tags": []
          },
          "execution_count": 4
        }
      ]
    },
    {
      "cell_type": "code",
      "metadata": {
        "colab": {
          "base_uri": "https://localhost:8080/"
        },
        "id": "l4yINHTOpKw5",
        "outputId": "74f1b0c5-9573-471d-8521-1d4d41bf5abd"
      },
      "source": [
        "x['a'] = 90\n",
        "x"
      ],
      "execution_count": 5,
      "outputs": [
        {
          "output_type": "execute_result",
          "data": {
            "text/plain": [
              "{'a': 90, 'b': 20, 'c': 30, 'd': 40, 'e': 100}"
            ]
          },
          "metadata": {
            "tags": []
          },
          "execution_count": 5
        }
      ]
    },
    {
      "cell_type": "code",
      "metadata": {
        "colab": {
          "base_uri": "https://localhost:8080/"
        },
        "id": "H8XCm8_opO3L",
        "outputId": "1cf58c94-3412-4808-a610-d75da0454870"
      },
      "source": [
        "x.pop('e')"
      ],
      "execution_count": 6,
      "outputs": [
        {
          "output_type": "execute_result",
          "data": {
            "text/plain": [
              "100"
            ]
          },
          "metadata": {
            "tags": []
          },
          "execution_count": 6
        }
      ]
    },
    {
      "cell_type": "code",
      "metadata": {
        "colab": {
          "base_uri": "https://localhost:8080/"
        },
        "id": "DQNrh2P8qAfC",
        "outputId": "a77c384e-1c79-4001-92e6-e1d4f5ef4fcd"
      },
      "source": [
        "x"
      ],
      "execution_count": 7,
      "outputs": [
        {
          "output_type": "execute_result",
          "data": {
            "text/plain": [
              "{'a': 90, 'b': 20, 'c': 30, 'd': 40}"
            ]
          },
          "metadata": {
            "tags": []
          },
          "execution_count": 7
        }
      ]
    },
    {
      "cell_type": "code",
      "metadata": {
        "colab": {
          "base_uri": "https://localhost:8080/"
        },
        "id": "Cw1P2Zv0qDkZ",
        "outputId": "a231ced7-8f0f-4982-b5fc-c9ee90407981"
      },
      "source": [
        "x.get('c')"
      ],
      "execution_count": 8,
      "outputs": [
        {
          "output_type": "execute_result",
          "data": {
            "text/plain": [
              "30"
            ]
          },
          "metadata": {
            "tags": []
          },
          "execution_count": 8
        }
      ]
    },
    {
      "cell_type": "code",
      "metadata": {
        "colab": {
          "base_uri": "https://localhost:8080/"
        },
        "id": "zup12CZsqTmZ",
        "outputId": "08c3f832-c535-48ad-b957-add0a2df645a"
      },
      "source": [
        "x['c']"
      ],
      "execution_count": 9,
      "outputs": [
        {
          "output_type": "execute_result",
          "data": {
            "text/plain": [
              "30"
            ]
          },
          "metadata": {
            "tags": []
          },
          "execution_count": 9
        }
      ]
    },
    {
      "cell_type": "markdown",
      "metadata": {
        "id": "Om0gnp-0qYx4"
      },
      "source": [
        "### 키-값 쌍 모두 가져오기"
      ]
    },
    {
      "cell_type": "code",
      "metadata": {
        "colab": {
          "base_uri": "https://localhost:8080/"
        },
        "id": "FKCcacFNqVZc",
        "outputId": "e8bc95d1-4a62-4ca5-8396-fe0a61b47f81"
      },
      "source": [
        "x = {'a':10, 'b':20, 'c':30, 'd':40}\n",
        "x.items()"
      ],
      "execution_count": 10,
      "outputs": [
        {
          "output_type": "execute_result",
          "data": {
            "text/plain": [
              "dict_items([('a', 10), ('b', 20), ('c', 30), ('d', 40)])"
            ]
          },
          "metadata": {
            "tags": []
          },
          "execution_count": 10
        }
      ]
    },
    {
      "cell_type": "code",
      "metadata": {
        "colab": {
          "base_uri": "https://localhost:8080/"
        },
        "id": "tHxTFcwiqkvo",
        "outputId": "e96832a1-ded6-42b0-c1fd-72db6b353c59"
      },
      "source": [
        "x.keys()"
      ],
      "execution_count": 11,
      "outputs": [
        {
          "output_type": "execute_result",
          "data": {
            "text/plain": [
              "dict_keys(['a', 'b', 'c', 'd'])"
            ]
          },
          "metadata": {
            "tags": []
          },
          "execution_count": 11
        }
      ]
    },
    {
      "cell_type": "code",
      "metadata": {
        "colab": {
          "base_uri": "https://localhost:8080/"
        },
        "id": "nddMLxx9q7qi",
        "outputId": "00453bde-a429-4999-c932-7d9e5e3ed26f"
      },
      "source": [
        "x.values()"
      ],
      "execution_count": 12,
      "outputs": [
        {
          "output_type": "execute_result",
          "data": {
            "text/plain": [
              "dict_values([10, 20, 30, 40])"
            ]
          },
          "metadata": {
            "tags": []
          },
          "execution_count": 12
        }
      ]
    },
    {
      "cell_type": "markdown",
      "metadata": {
        "id": "_HzWLQzRr4d7"
      },
      "source": [
        "### 리스트와 튜플로 딕셔너리 생성"
      ]
    },
    {
      "cell_type": "code",
      "metadata": {
        "colab": {
          "base_uri": "https://localhost:8080/"
        },
        "id": "tmv-JkbYq83P",
        "outputId": "5c074bea-80a7-4bb6-bd93-cd8b2d9047f7"
      },
      "source": [
        "dict(zip(x.values(), x.keys()))"
      ],
      "execution_count": 13,
      "outputs": [
        {
          "output_type": "execute_result",
          "data": {
            "text/plain": [
              "{10: 'a', 20: 'b', 30: 'c', 40: 'd'}"
            ]
          },
          "metadata": {
            "tags": []
          },
          "execution_count": 13
        }
      ]
    },
    {
      "cell_type": "code",
      "metadata": {
        "colab": {
          "base_uri": "https://localhost:8080/"
        },
        "id": "1dE4Qk5JrU_o",
        "outputId": "c2b2d246-7351-4e54-8126-bc9de96548b1"
      },
      "source": [
        "k = ('a', 'b', 'c', 'd', 'e')\n",
        "v = (10, 20, 30, 40, 50)\n",
        "dict(zip(k, v))"
      ],
      "execution_count": 14,
      "outputs": [
        {
          "output_type": "execute_result",
          "data": {
            "text/plain": [
              "{'a': 10, 'b': 20, 'c': 30, 'd': 40, 'e': 50}"
            ]
          },
          "metadata": {
            "tags": []
          },
          "execution_count": 14
        }
      ]
    },
    {
      "cell_type": "markdown",
      "metadata": {
        "id": "Y7dMOtR1sPQZ"
      },
      "source": [
        "## 25.2 반복문"
      ]
    },
    {
      "cell_type": "code",
      "metadata": {
        "colab": {
          "base_uri": "https://localhost:8080/"
        },
        "id": "X8rqG9qqr1FQ",
        "outputId": "4e6cd3bf-0dbf-4503-8536-55621c1b40da"
      },
      "source": [
        "x = {'a':10, 'b':20, 'c':30, 'd':40}\n",
        "for key, value in x.items():\n",
        "    print(f'{key}:{value}')"
      ],
      "execution_count": 15,
      "outputs": [
        {
          "output_type": "stream",
          "text": [
            "a:10\n",
            "b:20\n",
            "c:30\n",
            "d:40\n"
          ],
          "name": "stdout"
        }
      ]
    },
    {
      "cell_type": "code",
      "metadata": {
        "colab": {
          "base_uri": "https://localhost:8080/"
        },
        "id": "CP02oDyMscGs",
        "outputId": "a07d9a26-8fb9-4b80-bbc5-496b5b44c258"
      },
      "source": [
        "for key in x.keys():\n",
        "    print(f'{key}:{x[key]}')"
      ],
      "execution_count": 16,
      "outputs": [
        {
          "output_type": "stream",
          "text": [
            "a:10\n",
            "b:20\n",
            "c:30\n",
            "d:40\n"
          ],
          "name": "stdout"
        }
      ]
    },
    {
      "cell_type": "code",
      "metadata": {
        "colab": {
          "base_uri": "https://localhost:8080/"
        },
        "id": "unXA5-dssye3",
        "outputId": "0b3c1f2c-4f7f-43f2-eee9-d670b368546e"
      },
      "source": [
        "for i, (k, v) in enumerate(x.items()):\n",
        "    print(i, k, v)"
      ],
      "execution_count": 17,
      "outputs": [
        {
          "output_type": "stream",
          "text": [
            "0 a 10\n",
            "1 b 20\n",
            "2 c 30\n",
            "3 d 40\n"
          ],
          "name": "stdout"
        }
      ]
    },
    {
      "cell_type": "markdown",
      "metadata": {
        "id": "dyn4lLvhttXX"
      },
      "source": [
        "## 25.3 딕셔너리 표현식"
      ]
    },
    {
      "cell_type": "code",
      "metadata": {
        "colab": {
          "base_uri": "https://localhost:8080/"
        },
        "id": "YMVfUI58tT8I",
        "outputId": "75e975cc-eeca-4d72-958b-8b3a433117c4"
      },
      "source": [
        "x = {'a':10, 'b':20, 'c':30, 'd':40}\n",
        "x2 = {key: value * value for key, value in x.items()}\n",
        "x2"
      ],
      "execution_count": 19,
      "outputs": [
        {
          "output_type": "execute_result",
          "data": {
            "text/plain": [
              "{'a': 100, 'b': 400, 'c': 900, 'd': 1600}"
            ]
          },
          "metadata": {
            "tags": []
          },
          "execution_count": 19
        }
      ]
    },
    {
      "cell_type": "code",
      "metadata": {
        "colab": {
          "base_uri": "https://localhost:8080/"
        },
        "id": "Ja7B1aU4uPk4",
        "outputId": "c42c86c3-7c5b-4156-cc8f-bacc24a3b649"
      },
      "source": [
        "x2 = {}\n",
        "for key, value in x.items():\n",
        "    x2[key] = value * value\n",
        "x2"
      ],
      "execution_count": 20,
      "outputs": [
        {
          "output_type": "execute_result",
          "data": {
            "text/plain": [
              "{'a': 100, 'b': 400, 'c': 900, 'd': 1600}"
            ]
          },
          "metadata": {
            "tags": []
          },
          "execution_count": 20
        }
      ]
    },
    {
      "cell_type": "markdown",
      "metadata": {
        "id": "7TCWY1obu5NJ"
      },
      "source": [
        "## 25.4 딕셔너리 내 딕셔너리 사용"
      ]
    },
    {
      "cell_type": "code",
      "metadata": {
        "id": "-BuNE-KiuhDS"
      },
      "source": [
        "terrestrial_planet = {\n",
        "    'Mercury': {\n",
        "        'mean_radius': 2439.7,\n",
        "        'mass': 3.3022E+23,\n",
        "        'orbital_period': 87.969\n",
        "    },\n",
        "    'Venus': {\n",
        "        'mean_radius': 6051.8,\n",
        "        'mass': 4.8676E+24,\n",
        "        'orbital_period': 224.70069,\n",
        "    },\n",
        "    'Earth': {\n",
        "        'mean_radius': 6371.0,\n",
        "        'mass': 5.97219E+24,\n",
        "        'orbital_period': 365.25641,\n",
        "    },\n",
        "    'Mars': {\n",
        "        'mean_radius': 3389.5,\n",
        "        'mass': 6.4185E+23,\n",
        "        'orbital_period': 686.9600,\n",
        "    }\n",
        "}"
      ],
      "execution_count": 21,
      "outputs": []
    },
    {
      "cell_type": "code",
      "metadata": {
        "colab": {
          "base_uri": "https://localhost:8080/"
        },
        "id": "o2bEa00kveUG",
        "outputId": "5dde6789-2aa5-4234-bd30-db080944891c"
      },
      "source": [
        "terrestrial_planet['Venus']['mean_radius']"
      ],
      "execution_count": 22,
      "outputs": [
        {
          "output_type": "execute_result",
          "data": {
            "text/plain": [
              "6051.8"
            ]
          },
          "metadata": {
            "tags": []
          },
          "execution_count": 22
        }
      ]
    },
    {
      "cell_type": "code",
      "metadata": {
        "id": "VcfrWiZtvo7G"
      },
      "source": [
        "result = {'results': {'common': {'countPerPage': '10',\n",
        "                                 'currentPage': '1',\n",
        "                                 'errorCode': '0',\n",
        "                                 'errorMessage': '정상',\n",
        "                                 'totalCount': '1'},\n",
        "                      'juso': [{'admCd': '4215013700',\n",
        "                                'bdKdcd': '0',\n",
        "                                'bdMgtSn': '4215013700100940000017657',\n",
        "                                'bdNm': '경포대',\n",
        "                                'buldMnnm': '365',\n",
        "                                'buldSlno': '0',\n",
        "                                'detBdNmList': '',\n",
        "                                'emdNm': '저동',\n",
        "                                'emdNo': '03',\n",
        "                                'engAddr': '365, Gyeongpo-ro, Gangneung-si, Gangwon-do',\n",
        "                                'jibunAddr': '강원도 강릉시 저동 94 경포대',\n",
        "                                'liNm': '',\n",
        "                                'lnbrMnnm': '94',\n",
        "                                'lnbrSlno': '0',\n",
        "                                'mtYn': '0',\n",
        "                                'rn': '경포로',\n",
        "                                'rnMgtSn': '421503220002',\n",
        "                                'roadAddr': '강원도 강릉시 경포로 365(저동)',\n",
        "                                'roadAddrPart1': '강원도 강릉시 경포로 365',\n",
        "                                'roadAddrPart2': '(저동)',\n",
        "                                'sggNm': '강릉시',\n",
        "                                'siNm': '강원도',\n",
        "                                'udrtYn': '0',\n",
        "                                'zipNo': '25461'}]}}"
      ],
      "execution_count": 23,
      "outputs": []
    },
    {
      "cell_type": "code",
      "metadata": {
        "colab": {
          "base_uri": "https://localhost:8080/",
          "height": 35
        },
        "id": "kJB6cXA4z7Cl",
        "outputId": "df6b1dce-13d2-4636-e53a-9c96514ba300"
      },
      "source": [
        "result['results']['juso'][0]['roadAddr']"
      ],
      "execution_count": 26,
      "outputs": [
        {
          "output_type": "execute_result",
          "data": {
            "application/vnd.google.colaboratory.intrinsic+json": {
              "type": "string"
            },
            "text/plain": [
              "'강원도 강릉시 경포로 365(저동)'"
            ]
          },
          "metadata": {
            "tags": []
          },
          "execution_count": 26
        }
      ]
    },
    {
      "cell_type": "code",
      "metadata": {
        "id": "6WygkkOF0QBD"
      },
      "source": [
        "result1 = {'documents': [{'address': {'address_name': '강원 강릉시 저동 94',\n",
        "                                      'b_code': '4215013700',\n",
        "                                      'h_code': '4215066500',\n",
        "                                      'main_address_no': '94',\n",
        "                                      'mountain_yn': 'N',\n",
        "                                      'region_1depth_name': '강원',\n",
        "                                      'region_2depth_name': '강릉시',\n",
        "                                      'region_3depth_h_name': '경포동',\n",
        "                                      'region_3depth_name': '저동',\n",
        "                                      'sub_address_no': '',\n",
        "                                      'x': '128.896538649542',\n",
        "                                      'y': '37.7955687639648'},\n",
        "                          'address_name': '강원 강릉시 경포로 365',\n",
        "                          'address_type': 'ROAD_ADDR',\n",
        "                          'road_address': {'address_name': '강원 강릉시 경포로 365',\n",
        "                                           'building_name': '경포대',\n",
        "                                           'main_building_no': '365',\n",
        "                                           'region_1depth_name': '강원',\n",
        "                                           'region_2depth_name': '강릉시',\n",
        "                                           'region_3depth_name': '저동',\n",
        "                                           'road_name': '경포로',\n",
        "                                           'sub_building_no': '',\n",
        "                                           'underground_yn': 'N',\n",
        "                                           'x': '128.896538649542',\n",
        "                                           'y': '37.7955687639648',\n",
        "                                           'zone_no': '25461'},\n",
        "                          'x': '128.896538649542',\n",
        "                          'y': '37.7955687639648'}],\n",
        "           'meta': {'is_end': True, 'pageable_count': 1, 'total_count': 1}}"
      ],
      "execution_count": 27,
      "outputs": []
    },
    {
      "cell_type": "code",
      "metadata": {
        "colab": {
          "base_uri": "https://localhost:8080/"
        },
        "id": "CAO2zASt2M6P",
        "outputId": "69d40b40-62f4-4dee-89bf-f26f8da01d10"
      },
      "source": [
        "log = float(result1['documents'][0]['x'])\n",
        "lat = float(result1['documents'][0]['y'])\n",
        "print(f'위도: {lat:6f}, 경도: {log:6f}')"
      ],
      "execution_count": 36,
      "outputs": [
        {
          "output_type": "stream",
          "text": [
            "위도: 37.795569, 경도: 128.896539\n"
          ],
          "name": "stdout"
        }
      ]
    }
  ]
}