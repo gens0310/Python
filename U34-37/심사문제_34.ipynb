{
  "nbformat": 4,
  "nbformat_minor": 0,
  "metadata": {
    "colab": {
      "name": "심사문제 34.ipynb",
      "provenance": [],
      "collapsed_sections": []
    },
    "kernelspec": {
      "name": "python3",
      "display_name": "Python 3"
    },
    "language_info": {
      "name": "python"
    }
  },
  "cells": [
    {
      "cell_type": "markdown",
      "metadata": {
        "id": "YmyuSa0Gg5eR"
      },
      "source": [
        "# 심사문제 34"
      ]
    },
    {
      "cell_type": "markdown",
      "metadata": {
        "id": "czdwV-xRg5XB"
      },
      "source": [
        "## 표준 입력으로 게임 캐릭터 능력치(체력, 마나, AP)가 입력됩니다. 다음 소스 코드에서 애니(Annie) 클래스를 작성하여 티버(tibbers) 스킬의 피해량이 출력되게 만드세요. 티버의 피해량은 AP * 0.65 + 400이며 AP(Ability Power, 주문력)는 마법 능력치를 뜻합니다."
      ]
    },
    {
      "cell_type": "markdown",
      "metadata": {
        "id": "zjp4Ubfkg5Ng"
      },
      "source": [
        "### judge_class.py\n",
        "________________\n",
        "________________\n",
        "________________\n",
        "________________\n",
        "________________\n",
        "________________\n",
        "________________\n",
        "\n",
        "health, mana, ability_power = map(float, input().split())\n",
        " \n",
        "x = Annie(health=health, mana=mana, ability_power=ability_power)\n",
        "x.tibbers()"
      ]
    },
    {
      "cell_type": "code",
      "metadata": {
        "colab": {
          "base_uri": "https://localhost:8080/"
        },
        "id": "_cMbJ-g0gniO",
        "outputId": "e7948cee-9208-46af-8b26-e650af670402"
      },
      "source": [
        "class Annie:\n",
        "    def __init__(self, health, mana, ability_power):\n",
        "        self.health = health\n",
        "        self.mana = mana\n",
        "        self.ability_power = ability_power\n",
        "    def tibbers(self):\n",
        "        print('티버: 피해량 {0}'.format(self.ability_power * 0.65 + 400))\n",
        "\n",
        "health, mana, ability_power = map(float, input().split())\n",
        "x = Annie(health=health, mana=mana, ability_power=ability_power)\n",
        "x.tibbers()"
      ],
      "execution_count": null,
      "outputs": [
        {
          "output_type": "stream",
          "text": [
            "511.68 334.0 298\n",
            "티버: 피해량 593.7\n"
          ],
          "name": "stdout"
        }
      ]
    }
  ]
}