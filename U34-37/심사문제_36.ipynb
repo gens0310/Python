{
  "nbformat": 4,
  "nbformat_minor": 0,
  "metadata": {
    "colab": {
      "name": "심사문제 36.ipynb",
      "provenance": [],
      "collapsed_sections": []
    },
    "kernelspec": {
      "name": "python3",
      "display_name": "Python 3"
    },
    "language_info": {
      "name": "python"
    }
  },
  "cells": [
    {
      "cell_type": "markdown",
      "metadata": {
        "id": "ExNjSV6Cwja6"
      },
      "source": [
        "# 심사문제 36"
      ]
    },
    {
      "cell_type": "markdown",
      "metadata": {
        "id": "rwsksFcjwjTZ"
      },
      "source": [
        "## 다음 소스 코드에서 동물 클래스 Animal과 날개 클래스 Wing을 상속받아 새 클래스 Bird를 작성하여 '먹다', '파닥거리다', '날다', True, True가 각 줄에 출력되게 만드세요."
      ]
    },
    {
      "cell_type": "markdown",
      "metadata": {
        "id": "PCvcD1G3wjOS"
      },
      "source": [
        "### judge_class_inheritance.py\n",
        "class Animal:\n",
        "    def eat(self):\n",
        "        print('먹다')\n",
        " \n",
        "class Wing:\n",
        "    def flap(self):\n",
        "        print('파닥거리다')\n",
        "\n",
        "________________\n",
        "________________\n",
        "________________\n",
        "\n",
        "b = Bird()\n",
        "b.eat()\n",
        "b.flap()\n",
        "b.fly()\n",
        "print(issubclass(Bird, Animal))\n",
        "print(issubclass(Bird, Wing))"
      ]
    },
    {
      "cell_type": "code",
      "metadata": {
        "colab": {
          "base_uri": "https://localhost:8080/"
        },
        "id": "JS6EU8xGwZ1M",
        "outputId": "7103aec6-5725-493a-9ac1-f22521a94e2a"
      },
      "source": [
        "class Animal:\n",
        "    def eat(self):\n",
        "        print('먹다')\n",
        " \n",
        "class Wing:\n",
        "    def flap(self):\n",
        "        print('파닥거리다')\n",
        "\n",
        "class Bird(Animal, Wing):\n",
        "    def fly(self):\n",
        "        print('날다')\n",
        "\n",
        "b = Bird()\n",
        "b.eat()\n",
        "b.flap()\n",
        "b.fly()\n",
        "print(issubclass(Bird, Animal))\n",
        "print(issubclass(Bird, Wing))"
      ],
      "execution_count": 1,
      "outputs": [
        {
          "output_type": "stream",
          "text": [
            "먹다\n",
            "파닥거리다\n",
            "날다\n",
            "True\n",
            "True\n"
          ],
          "name": "stdout"
        }
      ]
    }
  ]
}