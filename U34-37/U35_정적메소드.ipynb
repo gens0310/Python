{
  "nbformat": 4,
  "nbformat_minor": 0,
  "metadata": {
    "colab": {
      "name": "U35_정적메소드.ipynb",
      "provenance": [],
      "collapsed_sections": []
    },
    "kernelspec": {
      "name": "python3",
      "display_name": "Python 3"
    },
    "language_info": {
      "name": "python"
    }
  },
  "cells": [
    {
      "cell_type": "markdown",
      "metadata": {
        "id": "MXO5rbUjAfWA"
      },
      "source": [
        "# Unit 35. 정적 메소드"
      ]
    },
    {
      "cell_type": "markdown",
      "metadata": {
        "id": "OrUObVZuAexL"
      },
      "source": [
        "## 35.2 정적 메소드"
      ]
    },
    {
      "cell_type": "code",
      "metadata": {
        "id": "7EEQTIgmAaBM"
      },
      "source": [
        "class Calc:\n",
        "    @staticmethod\n",
        "    def add(a, b):\n",
        "        print(a + b)"
      ],
      "execution_count": 1,
      "outputs": []
    },
    {
      "cell_type": "code",
      "metadata": {
        "colab": {
          "base_uri": "https://localhost:8080/"
        },
        "id": "tPSlMBpLBgWz",
        "outputId": "6b1121e9-02c4-4d88-fba2-a645939865b2"
      },
      "source": [
        "Calc.add(10, 20)"
      ],
      "execution_count": 2,
      "outputs": [
        {
          "output_type": "stream",
          "text": [
            "30\n"
          ],
          "name": "stdout"
        }
      ]
    }
  ]
}