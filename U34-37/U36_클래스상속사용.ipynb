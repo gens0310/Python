{
  "nbformat": 4,
  "nbformat_minor": 0,
  "metadata": {
    "colab": {
      "name": "U36_클래스상속사용.ipynb",
      "provenance": [],
      "collapsed_sections": []
    },
    "kernelspec": {
      "name": "python3",
      "display_name": "Python 3"
    },
    "language_info": {
      "name": "python"
    }
  },
  "cells": [
    {
      "cell_type": "markdown",
      "metadata": {
        "id": "oLZaNek0tY0i"
      },
      "source": [
        "# Unit 36. 클래스 상속(Inheritance)"
      ]
    },
    {
      "cell_type": "markdown",
      "metadata": {
        "id": "pF24tlKttYqv"
      },
      "source": [
        "## 36.1 기본 상속"
      ]
    },
    {
      "cell_type": "code",
      "metadata": {
        "colab": {
          "base_uri": "https://localhost:8080/"
        },
        "id": "GofgB6vMtWSz",
        "outputId": "f59f5246-11ca-4d89-8414-8da43b2fda37"
      },
      "source": [
        "class Person:\n",
        "    def greeting(self):\n",
        "        print('안녕하세요?')\n",
        "class Student(Person):\n",
        "    def study(self):\n",
        "        print('공부하기')\n",
        "James = Student()\n",
        "James.greeting()\n",
        "James.study()"
      ],
      "execution_count": 1,
      "outputs": [
        {
          "output_type": "stream",
          "text": [
            "안녕하세요?\n",
            "공부하기\n"
          ],
          "name": "stdout"
        }
      ]
    },
    {
      "cell_type": "code",
      "metadata": {
        "id": "XX8tSUGSyT3k"
      },
      "source": [
        "class Person:\n",
        "    def __init__(self):\n",
        "        self.hello = '안녕하세요?'\n",
        "        print('Person.__init__')\n",
        "class Student(Person):\n",
        "    def __init__(self):\n",
        "        self.school = '파이썬'\n",
        "        print('Student.__init__')"
      ],
      "execution_count": 2,
      "outputs": []
    },
    {
      "cell_type": "code",
      "metadata": {
        "colab": {
          "base_uri": "https://localhost:8080/"
        },
        "id": "0h03w_S50SLw",
        "outputId": "8c0dd47a-4205-4e56-be83-4e58cba1db5c"
      },
      "source": [
        "James = Student()\n",
        "print(James.school)"
      ],
      "execution_count": 3,
      "outputs": [
        {
          "output_type": "stream",
          "text": [
            "Student.__init__\n",
            "파이썬\n"
          ],
          "name": "stdout"
        }
      ]
    },
    {
      "cell_type": "code",
      "metadata": {
        "colab": {
          "base_uri": "https://localhost:8080/",
          "height": 172
        },
        "id": "DJDZhrb-0hdW",
        "outputId": "7fda952e-a003-46f9-fe57-ff0722d8c5e1"
      },
      "source": [
        "print(James.hello)"
      ],
      "execution_count": 4,
      "outputs": [
        {
          "output_type": "error",
          "ename": "AttributeError",
          "evalue": "ignored",
          "traceback": [
            "\u001b[0;31m---------------------------------------------------------------------------\u001b[0m",
            "\u001b[0;31mAttributeError\u001b[0m                            Traceback (most recent call last)",
            "\u001b[0;32m<ipython-input-4-462f1eab766f>\u001b[0m in \u001b[0;36m<module>\u001b[0;34m()\u001b[0m\n\u001b[0;32m----> 1\u001b[0;31m \u001b[0mprint\u001b[0m\u001b[0;34m(\u001b[0m\u001b[0mJames\u001b[0m\u001b[0;34m.\u001b[0m\u001b[0mhello\u001b[0m\u001b[0;34m)\u001b[0m\u001b[0;34m\u001b[0m\u001b[0;34m\u001b[0m\u001b[0m\n\u001b[0m",
            "\u001b[0;31mAttributeError\u001b[0m: 'Student' object has no attribute 'hello'"
          ]
        }
      ]
    },
    {
      "cell_type": "markdown",
      "metadata": {
        "id": "swmAKk3y01pm"
      },
      "source": [
        "### super()로 기반 클래스 초기화"
      ]
    },
    {
      "cell_type": "code",
      "metadata": {
        "id": "CxbHkbXm0jRo"
      },
      "source": [
        "class Person:\n",
        "    def __init__(self):\n",
        "        self.hello = '안녕하세요?'\n",
        "        print('Person.__init__')\n",
        "class Student(Person):\n",
        "    def __init__(self):\n",
        "        super().__init__()\n",
        "        self.school = '파이썬'\n",
        "        print('Student.__init__')"
      ],
      "execution_count": 5,
      "outputs": []
    },
    {
      "cell_type": "code",
      "metadata": {
        "colab": {
          "base_uri": "https://localhost:8080/"
        },
        "id": "sBmi5vo_06E-",
        "outputId": "525f4724-c6f2-4ee7-f58f-020101484947"
      },
      "source": [
        "James = Student()\n",
        "print(James.hello)"
      ],
      "execution_count": 7,
      "outputs": [
        {
          "output_type": "stream",
          "text": [
            "Person.__init__\n",
            "Student.__init__\n",
            "안녕하세요?\n"
          ],
          "name": "stdout"
        }
      ]
    },
    {
      "cell_type": "markdown",
      "metadata": {
        "id": "gMNpgj5o1nvA"
      },
      "source": [
        "### 기반 클래스를 초기화하지 않아도 되는 경우"
      ]
    },
    {
      "cell_type": "code",
      "metadata": {
        "id": "QpefqlJ71F3g"
      },
      "source": [
        "class Person:\n",
        "    def __init__(self):\n",
        "        self.hello = '안녕하세요?'\n",
        "        print('Person.__init__')\n",
        "class Student(Person):\n",
        "    pass"
      ],
      "execution_count": 8,
      "outputs": []
    },
    {
      "cell_type": "code",
      "metadata": {
        "colab": {
          "base_uri": "https://localhost:8080/",
          "height": 53
        },
        "id": "sTd0W8PG1WT-",
        "outputId": "76b008ef-b44a-4894-f0ee-2db5664f773a"
      },
      "source": [
        "Maria = Student()\n",
        "Maria.hello"
      ],
      "execution_count": 9,
      "outputs": [
        {
          "output_type": "stream",
          "text": [
            "Person.__init__\n"
          ],
          "name": "stdout"
        },
        {
          "output_type": "execute_result",
          "data": {
            "application/vnd.google.colaboratory.intrinsic+json": {
              "type": "string"
            },
            "text/plain": [
              "'안녕하세요?'"
            ]
          },
          "metadata": {
            "tags": []
          },
          "execution_count": 9
        }
      ]
    },
    {
      "cell_type": "markdown",
      "metadata": {
        "id": "_4kQXdqs1zId"
      },
      "source": [
        "## 36.4 메소드 오버라이딩(Method Overriding) 사용"
      ]
    },
    {
      "cell_type": "code",
      "metadata": {
        "colab": {
          "base_uri": "https://localhost:8080/"
        },
        "id": "4JHwDLsU1ZVQ",
        "outputId": "439d0a0d-9bbf-47ee-89f2-f34ec676fb1f"
      },
      "source": [
        "class Person:\n",
        "    def greeting(self):\n",
        "        print('안녕하세요?')\n",
        "class Student(Person):\n",
        "    def greeting(self):\n",
        "        print('저는 허접입니다.')\n",
        "James = Student()\n",
        "James.greeting()"
      ],
      "execution_count": 12,
      "outputs": [
        {
          "output_type": "stream",
          "text": [
            "저는 허접입니다.\n"
          ],
          "name": "stdout"
        }
      ]
    },
    {
      "cell_type": "code",
      "metadata": {
        "colab": {
          "base_uri": "https://localhost:8080/"
        },
        "id": "bIe9g-552diA",
        "outputId": "531e4507-9d7c-4c9b-c11c-ce5556f8e1bc"
      },
      "source": [
        "class Person:\n",
        "    def greeting(self):\n",
        "        print('안녕하세요?')\n",
        "class Student(Person):\n",
        "    def greeting(self):\n",
        "        super().greeting()\n",
        "        print('저는 허접입니다.')\n",
        "James = Student()\n",
        "James.greeting()"
      ],
      "execution_count": 13,
      "outputs": [
        {
          "output_type": "stream",
          "text": [
            "안녕하세요?\n",
            "저는 허접입니다.\n"
          ],
          "name": "stdout"
        }
      ]
    },
    {
      "cell_type": "markdown",
      "metadata": {
        "id": "3Gjm1skV42iX"
      },
      "source": [
        "## 36.5 다중 상속"
      ]
    },
    {
      "cell_type": "markdown",
      "metadata": {
        "id": "ODk7_k196XXY"
      },
      "source": [
        "## 36.6 추상 클래스(Abstract Base Class) - JAVA의 Interface와 유사"
      ]
    },
    {
      "cell_type": "code",
      "metadata": {
        "id": "wcirHIyj3qxm"
      },
      "source": [
        "from abc import *\n",
        "class StudentBase(metaclass = ABCMeta):\n",
        "    @abstractmethod                     # 데코레이터(Decorator)\n",
        "    def study(self):\n",
        "        pass\n",
        "    @abstractmethod\n",
        "    def go_to_school(self):\n",
        "        pass"
      ],
      "execution_count": 14,
      "outputs": []
    },
    {
      "cell_type": "code",
      "metadata": {
        "id": "sh5uI1j4-5t0"
      },
      "source": [
        "class Student(StudentBase):\n",
        "    def study(self):\n",
        "        print('공부하기')"
      ],
      "execution_count": 15,
      "outputs": []
    },
    {
      "cell_type": "code",
      "metadata": {
        "colab": {
          "base_uri": "https://localhost:8080/",
          "height": 190
        },
        "id": "qR2UIR28_EKl",
        "outputId": "c29c6ec6-8386-420c-8004-e57b65a2af08"
      },
      "source": [
        "James = Student()\n",
        "James.study()"
      ],
      "execution_count": 16,
      "outputs": [
        {
          "output_type": "error",
          "ename": "TypeError",
          "evalue": "ignored",
          "traceback": [
            "\u001b[0;31m---------------------------------------------------------------------------\u001b[0m",
            "\u001b[0;31mTypeError\u001b[0m                                 Traceback (most recent call last)",
            "\u001b[0;32m<ipython-input-16-af7821d6faa8>\u001b[0m in \u001b[0;36m<module>\u001b[0;34m()\u001b[0m\n\u001b[0;32m----> 1\u001b[0;31m \u001b[0mJames\u001b[0m \u001b[0;34m=\u001b[0m \u001b[0mStudent\u001b[0m\u001b[0;34m(\u001b[0m\u001b[0;34m)\u001b[0m\u001b[0;34m\u001b[0m\u001b[0;34m\u001b[0m\u001b[0m\n\u001b[0m\u001b[1;32m      2\u001b[0m \u001b[0mJames\u001b[0m\u001b[0;34m.\u001b[0m\u001b[0mstudy\u001b[0m\u001b[0;34m(\u001b[0m\u001b[0;34m)\u001b[0m\u001b[0;34m\u001b[0m\u001b[0;34m\u001b[0m\u001b[0m\n",
            "\u001b[0;31mTypeError\u001b[0m: Can't instantiate abstract class Student with abstract methods go_to_school"
          ]
        }
      ]
    },
    {
      "cell_type": "code",
      "metadata": {
        "id": "tCIt1yHH_J-l"
      },
      "source": [
        "class Student(StudentBase):\n",
        "    def study(self):\n",
        "        print('공부하기')\n",
        "    def go_to_school(self):\n",
        "        print('학교가기')"
      ],
      "execution_count": 17,
      "outputs": []
    },
    {
      "cell_type": "code",
      "metadata": {
        "colab": {
          "base_uri": "https://localhost:8080/"
        },
        "id": "t7bvWq4B_gvv",
        "outputId": "4f02f3c9-9cea-4f7f-fad0-56e64d07b671"
      },
      "source": [
        "James = Student()\n",
        "James.study()"
      ],
      "execution_count": 18,
      "outputs": [
        {
          "output_type": "stream",
          "text": [
            "공부하기\n"
          ],
          "name": "stdout"
        }
      ]
    }
  ]
}