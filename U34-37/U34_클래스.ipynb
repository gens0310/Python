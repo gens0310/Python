{
  "nbformat": 4,
  "nbformat_minor": 0,
  "metadata": {
    "colab": {
      "name": "U34_클래스.ipynb",
      "provenance": [],
      "collapsed_sections": []
    },
    "kernelspec": {
      "name": "python3",
      "display_name": "Python 3"
    },
    "language_info": {
      "name": "python"
    }
  },
  "cells": [
    {
      "cell_type": "markdown",
      "metadata": {
        "id": "lIiR_85nwXSM"
      },
      "source": [
        "# Unit 34. 클래스(Class)"
      ]
    },
    {
      "cell_type": "markdown",
      "metadata": {
        "id": "LXBklXiOwZkg"
      },
      "source": [
        "## 34.1 클래스와 메소드 만들기"
      ]
    },
    {
      "cell_type": "code",
      "metadata": {
        "id": "yt2m0LYqwTK1"
      },
      "source": [
        "class Person:           # 클래스 이름은 대문자로 시작\n",
        "    def greeting(self):\n",
        "        print('Hello')"
      ],
      "execution_count": null,
      "outputs": []
    },
    {
      "cell_type": "code",
      "metadata": {
        "id": "R0dNjCZn72M0"
      },
      "source": [
        "# 인스턴스(Instance)를 만들어야 클래스 사용 가능\n",
        "James = Person()\n",
        "Maria = Person()"
      ],
      "execution_count": null,
      "outputs": []
    },
    {
      "cell_type": "code",
      "metadata": {
        "colab": {
          "base_uri": "https://localhost:8080/"
        },
        "id": "_0lS5WTT8Ix0",
        "outputId": "b7d530cd-bb11-4424-d557-09f65acbf696"
      },
      "source": [
        "James.greeting()\n",
        "Maria.greeting()"
      ],
      "execution_count": null,
      "outputs": [
        {
          "output_type": "stream",
          "text": [
            "Hello\n",
            "Hello\n"
          ],
          "name": "stdout"
        }
      ]
    },
    {
      "cell_type": "code",
      "metadata": {
        "colab": {
          "base_uri": "https://localhost:8080/"
        },
        "id": "Xi9VKyog8XQL",
        "outputId": "78a888f0-581f-47a5-dfbd-8a08c56767f2"
      },
      "source": [
        "Person().greeting()"
      ],
      "execution_count": null,
      "outputs": [
        {
          "output_type": "stream",
          "text": [
            "Hello\n"
          ],
          "name": "stdout"
        }
      ]
    },
    {
      "cell_type": "code",
      "metadata": {
        "id": "9GNXxM-c8eP9"
      },
      "source": [
        "# 클래스 내에서 메소드 호출\n",
        "class Person:\n",
        "    def greeting(self):\n",
        "        print('Hello')\n",
        "    def hello(self):\n",
        "        self.greeting()"
      ],
      "execution_count": null,
      "outputs": []
    },
    {
      "cell_type": "code",
      "metadata": {
        "colab": {
          "base_uri": "https://localhost:8080/"
        },
        "id": "uwjCX6ks-Yd8",
        "outputId": "d0fd5f06-27ca-445a-f759-0c9086ee1fd6"
      },
      "source": [
        "James = Person()\n",
        "James.hello()"
      ],
      "execution_count": null,
      "outputs": [
        {
          "output_type": "stream",
          "text": [
            "Hello\n"
          ],
          "name": "stdout"
        }
      ]
    },
    {
      "cell_type": "code",
      "metadata": {
        "colab": {
          "base_uri": "https://localhost:8080/"
        },
        "id": "MpNoB0J8-dT8",
        "outputId": "7d663c4a-16b8-4bae-a32b-83af63c998cf"
      },
      "source": [
        "isinstance(James, Person)"
      ],
      "execution_count": null,
      "outputs": [
        {
          "output_type": "execute_result",
          "data": {
            "text/plain": [
              "True"
            ]
          },
          "metadata": {
            "tags": []
          },
          "execution_count": 8
        }
      ]
    },
    {
      "cell_type": "code",
      "metadata": {
        "id": "ggzAecNV-q_j"
      },
      "source": [
        "def factorial(n):\n",
        "    if not isinstance(n, int) or n < 0:\n",
        "        return None\n",
        "    if n == 0:\n",
        "        return 1\n",
        "    return n * factorial(n - 1)"
      ],
      "execution_count": null,
      "outputs": []
    },
    {
      "cell_type": "code",
      "metadata": {
        "id": "4Cx-ua8N_HtL"
      },
      "source": [
        "factorial(3.14)"
      ],
      "execution_count": null,
      "outputs": []
    },
    {
      "cell_type": "code",
      "metadata": {
        "colab": {
          "base_uri": "https://localhost:8080/"
        },
        "id": "Yq8s0dcE_Sd7",
        "outputId": "d97ee8d6-36fc-4f82-8f27-627ff7707fd4"
      },
      "source": [
        "factorial(6)"
      ],
      "execution_count": null,
      "outputs": [
        {
          "output_type": "execute_result",
          "data": {
            "text/plain": [
              "720"
            ]
          },
          "metadata": {
            "tags": []
          },
          "execution_count": 11
        }
      ]
    },
    {
      "cell_type": "markdown",
      "metadata": {
        "id": "rM_QKfe2_cf3"
      },
      "source": [
        "## 34.2 속성(Attribute) 사용"
      ]
    },
    {
      "cell_type": "code",
      "metadata": {
        "id": "vu7bRL8F_U88"
      },
      "source": [
        "class Person:\n",
        "    def __init__(self):\n",
        "        self.hello = '안녕하세요'  # hello 속성을 가짐\n",
        "    def greeting(self):\n",
        "        print(self.hello)"
      ],
      "execution_count": null,
      "outputs": []
    },
    {
      "cell_type": "code",
      "metadata": {
        "colab": {
          "base_uri": "https://localhost:8080/"
        },
        "id": "ijXTTTiSAA_u",
        "outputId": "bd6e8e69-b7f5-4522-a4f8-ea49e9cfc8a0"
      },
      "source": [
        "Maria = Person()\n",
        "Maria.greeting()"
      ],
      "execution_count": null,
      "outputs": [
        {
          "output_type": "stream",
          "text": [
            "안녕하세요\n"
          ],
          "name": "stdout"
        }
      ]
    },
    {
      "cell_type": "code",
      "metadata": {
        "colab": {
          "base_uri": "https://localhost:8080/"
        },
        "id": "CX0b5H7bAFpD",
        "outputId": "b505e37e-230d-4ca7-9106-0087ff53dc45"
      },
      "source": [
        "Maria.hello = \"How are you?\"\n",
        "Maria.greeting()"
      ],
      "execution_count": null,
      "outputs": [
        {
          "output_type": "stream",
          "text": [
            "How are you?\n"
          ],
          "name": "stdout"
        }
      ]
    },
    {
      "cell_type": "code",
      "metadata": {
        "id": "lm8dG9f1Ao1T"
      },
      "source": [
        "class Person:\n",
        "    def __init__(self, hello): # Constructor\n",
        "        self.hello = hello\n",
        "    def greeting(self):\n",
        "        print(self.hello)"
      ],
      "execution_count": null,
      "outputs": []
    },
    {
      "cell_type": "code",
      "metadata": {
        "id": "NXFVL-rJBwgD"
      },
      "source": [
        "James = Person('안녕하세요')\n",
        "Maria = Person('How are you?')"
      ],
      "execution_count": null,
      "outputs": []
    },
    {
      "cell_type": "code",
      "metadata": {
        "colab": {
          "base_uri": "https://localhost:8080/"
        },
        "id": "pcLcZ1IfB4Uj",
        "outputId": "6c857c05-ae49-44e1-ac28-1509d8d87a25"
      },
      "source": [
        "James.greeting()\n",
        "Maria.greeting()"
      ],
      "execution_count": null,
      "outputs": [
        {
          "output_type": "stream",
          "text": [
            "안녕하세요\n",
            "How are you?\n"
          ],
          "name": "stdout"
        }
      ]
    },
    {
      "cell_type": "code",
      "metadata": {
        "id": "KUEOdD_yB8pD"
      },
      "source": [
        "class Person:\n",
        "    def __init__(self, name, age, addr):\n",
        "        self.hello = '안녕하세요?'\n",
        "        self.name = name\n",
        "        self.age = age\n",
        "        self.addr = addr\n",
        "    def greeting(self):\n",
        "        print(f'{self.hello} 저는 {self.name}입니다.')\n",
        "    # JAVA의 toString() Method\n",
        "    def __str__(self):\n",
        "        return f'hello : {self.hello}, name : {self.name}, age : {self.age}, addr : {self.addr}'"
      ],
      "execution_count": null,
      "outputs": []
    },
    {
      "cell_type": "code",
      "metadata": {
        "colab": {
          "base_uri": "https://localhost:8080/"
        },
        "id": "UMvVWrhqDB_b",
        "outputId": "960d3d97-70c4-42a1-941a-74d55d323b6a"
      },
      "source": [
        "Maria = Person('마리아', 23, '서울')\n",
        "Maria.greeting()"
      ],
      "execution_count": null,
      "outputs": [
        {
          "output_type": "stream",
          "text": [
            "안녕하세요? 저는 마리아입니다.\n"
          ],
          "name": "stdout"
        }
      ]
    },
    {
      "cell_type": "code",
      "metadata": {
        "colab": {
          "base_uri": "https://localhost:8080/"
        },
        "id": "9GQa2rmHUkFh",
        "outputId": "1c8e7923-0766-4dcb-a2cf-46c75ebdf8a8"
      },
      "source": [
        "print(Maria)"
      ],
      "execution_count": null,
      "outputs": [
        {
          "output_type": "stream",
          "text": [
            "hello : 안녕하세요?, name : 마리아, age : 23, addr : 서울\n"
          ],
          "name": "stdout"
        }
      ]
    },
    {
      "cell_type": "markdown",
      "metadata": {
        "id": "XTRPO66hVwQm"
      },
      "source": [
        "## 34.3 비공개 속성"
      ]
    },
    {
      "cell_type": "code",
      "metadata": {
        "colab": {
          "base_uri": "https://localhost:8080/"
        },
        "id": "aX7wiN4jUreD",
        "outputId": "395f9421-df2e-4064-d14c-ae35ff80615f"
      },
      "source": [
        "Maria.age = 30\n",
        "print(Maria)"
      ],
      "execution_count": null,
      "outputs": [
        {
          "output_type": "stream",
          "text": [
            "hello : 안녕하세요?, name : 마리아, age : 30, addr : 서울\n"
          ],
          "name": "stdout"
        }
      ]
    },
    {
      "cell_type": "code",
      "metadata": {
        "id": "UPlJTSUxWB2R"
      },
      "source": [
        "class Person:\n",
        "    def __init__(self, name, age, addr, wallet):\n",
        "        self.name = name\n",
        "        self.age = age\n",
        "        self.addr = addr\n",
        "        self.__wallet = wallet  # __wallet은 비공개\n",
        "    def greeting(self):\n",
        "        print(f'안녕하세요? 저는 {self.name}입니다.')\n",
        "    def pay(self, amount):\n",
        "        if self.__wallet - amount < 0:\n",
        "            print('지갑에 돈이 부족합니다.')\n",
        "            return\n",
        "        self.__wallet -= amount\n",
        "        print(f'지갑에 남은 돈은 {self.__wallet}원 입니다.')\n",
        "    def __str__(self):\n",
        "        return f'name : {self.name}, age : {self.age}, addr : {self.addr}, __wallet : {self.__wallet}'"
      ],
      "execution_count": null,
      "outputs": []
    },
    {
      "cell_type": "code",
      "metadata": {
        "colab": {
          "base_uri": "https://localhost:8080/"
        },
        "id": "LHcTenI6W6We",
        "outputId": "160fec1b-8afa-4c92-fc3f-fa388a49d10b"
      },
      "source": [
        "James = Person('제임스', 27, '일산', 10000)\n",
        "James.greeting()"
      ],
      "execution_count": null,
      "outputs": [
        {
          "output_type": "stream",
          "text": [
            "안녕하세요? 저는 제임스입니다.\n"
          ],
          "name": "stdout"
        }
      ]
    },
    {
      "cell_type": "code",
      "metadata": {
        "colab": {
          "base_uri": "https://localhost:8080/"
        },
        "id": "CYnEo3G1XGKR",
        "outputId": "58e14c32-f1b9-486b-ce7f-ba16c28fc658"
      },
      "source": [
        "print(James)"
      ],
      "execution_count": null,
      "outputs": [
        {
          "output_type": "stream",
          "text": [
            "name : 제임스, age : 27, addr : 일산, __wallet : 10000\n"
          ],
          "name": "stdout"
        }
      ]
    },
    {
      "cell_type": "code",
      "metadata": {
        "id": "LdFVxqstXTKD"
      },
      "source": [
        "# __wallet은 비공개 속성이므로 클래스 바깥에서는 변경할 수 없음\n",
        "James.__wallet = 1000000"
      ],
      "execution_count": null,
      "outputs": []
    },
    {
      "cell_type": "code",
      "metadata": {
        "colab": {
          "base_uri": "https://localhost:8080/"
        },
        "id": "jkSmehtvXkgg",
        "outputId": "46ae743f-b65b-4df7-8945-be02e2fb07ee"
      },
      "source": [
        "print(James)"
      ],
      "execution_count": null,
      "outputs": [
        {
          "output_type": "stream",
          "text": [
            "name : 제임스, age : 27, addr : 일산, __wallet : 10000\n"
          ],
          "name": "stdout"
        }
      ]
    },
    {
      "cell_type": "code",
      "metadata": {
        "colab": {
          "base_uri": "https://localhost:8080/"
        },
        "id": "Lhf0QXvNXmX4",
        "outputId": "2a878bd4-3dcd-47ab-e8d7-74dcdaebc7b4"
      },
      "source": [
        "James.pay(5000)"
      ],
      "execution_count": null,
      "outputs": [
        {
          "output_type": "stream",
          "text": [
            "지갑에 남은 돈은 5000원 입니다.\n"
          ],
          "name": "stdout"
        }
      ]
    },
    {
      "cell_type": "code",
      "metadata": {
        "colab": {
          "base_uri": "https://localhost:8080/"
        },
        "id": "94BlOOa4YRB6",
        "outputId": "b6f06593-b8c3-44ed-a85e-6d5bbd93782f"
      },
      "source": [
        "print(James)"
      ],
      "execution_count": null,
      "outputs": [
        {
          "output_type": "stream",
          "text": [
            "name : 제임스, age : 27, addr : 일산, __wallet : 5000\n"
          ],
          "name": "stdout"
        }
      ]
    },
    {
      "cell_type": "code",
      "metadata": {
        "colab": {
          "base_uri": "https://localhost:8080/"
        },
        "id": "78tP2FX6YTNN",
        "outputId": "de5d1e7e-30e0-46a4-bc86-35489535b5c4"
      },
      "source": [
        "James.pay(10000)"
      ],
      "execution_count": null,
      "outputs": [
        {
          "output_type": "stream",
          "text": [
            "지갑에 돈이 부족합니다.\n"
          ],
          "name": "stdout"
        }
      ]
    },
    {
      "cell_type": "code",
      "metadata": {
        "colab": {
          "base_uri": "https://localhost:8080/"
        },
        "id": "t0Qqkv45YYLx",
        "outputId": "31c204c3-d769-436c-a060-b168b12a258f"
      },
      "source": [
        "print(James)"
      ],
      "execution_count": null,
      "outputs": [
        {
          "output_type": "stream",
          "text": [
            "name : 제임스, age : 27, addr : 일산, __wallet : 5000\n"
          ],
          "name": "stdout"
        }
      ]
    },
    {
      "cell_type": "markdown",
      "metadata": {
        "id": "F6CFQ8GJaolE"
      },
      "source": [
        "## Account 클래스\n",
        "### 속성\n",
        "- ano : 문자열 6자, '123456'\n",
        "- owner : 문자열\n",
        "- balance : 잔액, 비공개 속성\n",
        "### Method\n",
        "- 생성자\n",
        "- deposit(amount)\n",
        "- withdraw(amount)\n",
        "- 출력 가능하게"
      ]
    },
    {
      "cell_type": "code",
      "metadata": {
        "id": "P-GM6jteapES"
      },
      "source": [
        "class Account:\n",
        "    def __init__(self, ano, owner, balance):\n",
        "        self.ano = ano\n",
        "        self.owner = owner\n",
        "        self.__balance = balance\n",
        "    def deposit(self, amount):\n",
        "        if amount + self.__balance >= 10000000:\n",
        "            print('1,000만원 이상 보유할 수 없습니다.')\n",
        "            return\n",
        "        self.__balance += amount\n",
        "    def withdraw(self, amount):\n",
        "        if self.__balance - amount < 0:\n",
        "            print('잔액이 부족합니다.')\n",
        "            return\n",
        "        self.__balance -= amount\n",
        "    def __str__(self):\n",
        "        return f'계좌번호 : {self.ano}, 소유주 : {self.owner}, 잔액 : {self.__balance:9,d}'"
      ],
      "execution_count": 40,
      "outputs": []
    },
    {
      "cell_type": "code",
      "metadata": {
        "colab": {
          "base_uri": "https://localhost:8080/"
        },
        "id": "7BKloJiBeD98",
        "outputId": "fa03d6de-93ce-4881-8c31-d3f9f8ea7138"
      },
      "source": [
        "acc = Account('123456', '제임스', 100000)\n",
        "print(acc)"
      ],
      "execution_count": 41,
      "outputs": [
        {
          "output_type": "stream",
          "text": [
            "계좌번호 : 123456, 소유주 : 제임스, 잔액 :   100,000\n"
          ],
          "name": "stdout"
        }
      ]
    },
    {
      "cell_type": "code",
      "metadata": {
        "colab": {
          "base_uri": "https://localhost:8080/"
        },
        "id": "EHk3QzpDeSyc",
        "outputId": "bc643614-d7dc-4b13-b5c9-19989c3c8fdd"
      },
      "source": [
        "acc.deposit(3000000)\n",
        "print(acc)"
      ],
      "execution_count": 42,
      "outputs": [
        {
          "output_type": "stream",
          "text": [
            "계좌번호 : 123456, 소유주 : 제임스, 잔액 : 3,100,000\n"
          ],
          "name": "stdout"
        }
      ]
    },
    {
      "cell_type": "code",
      "metadata": {
        "colab": {
          "base_uri": "https://localhost:8080/"
        },
        "id": "qekrIOYKeedL",
        "outputId": "ec51831d-464c-43b9-8246-1d2496e5ff5c"
      },
      "source": [
        "acc.deposit(7000000)\n",
        "print(acc)"
      ],
      "execution_count": 43,
      "outputs": [
        {
          "output_type": "stream",
          "text": [
            "1,000만원 이상 보유할 수 없습니다.\n",
            "계좌번호 : 123456, 소유주 : 제임스, 잔액 : 3,100,000\n"
          ],
          "name": "stdout"
        }
      ]
    },
    {
      "cell_type": "code",
      "metadata": {
        "colab": {
          "base_uri": "https://localhost:8080/"
        },
        "id": "x6V18chceil3",
        "outputId": "ce0f4332-5aa8-4f3a-897f-3721cac8856b"
      },
      "source": [
        "acc.withdraw(2000000)\n",
        "print(acc)"
      ],
      "execution_count": 44,
      "outputs": [
        {
          "output_type": "stream",
          "text": [
            "계좌번호 : 123456, 소유주 : 제임스, 잔액 : 1,100,000\n"
          ],
          "name": "stdout"
        }
      ]
    },
    {
      "cell_type": "code",
      "metadata": {
        "colab": {
          "base_uri": "https://localhost:8080/"
        },
        "id": "euY7ww22ensb",
        "outputId": "261a1957-9f13-47ff-db13-3cd8bf112132"
      },
      "source": [
        "acc.withdraw(2000000)\n",
        "print(acc)"
      ],
      "execution_count": 45,
      "outputs": [
        {
          "output_type": "stream",
          "text": [
            "잔액이 부족합니다.\n",
            "계좌번호 : 123456, 소유주 : 제임스, 잔액 : 1,100,000\n"
          ],
          "name": "stdout"
        }
      ]
    },
    {
      "cell_type": "code",
      "metadata": {
        "colab": {
          "base_uri": "https://localhost:8080/"
        },
        "id": "ukEf54CVeriB",
        "outputId": "26ad55e7-9ecf-4836-99de-2e2520a5d106"
      },
      "source": [
        "acc2 = Account('987432', '마리아', 3000000)\n",
        "print(acc2)"
      ],
      "execution_count": 46,
      "outputs": [
        {
          "output_type": "stream",
          "text": [
            "계좌번호 : 987432, 소유주 : 마리아, 잔액 : 3,000,000\n"
          ],
          "name": "stdout"
        }
      ]
    },
    {
      "cell_type": "code",
      "metadata": {
        "id": "JSvSmqAbfCbI"
      },
      "source": [
        "acc_list = [acc, acc2]"
      ],
      "execution_count": 47,
      "outputs": []
    },
    {
      "cell_type": "code",
      "metadata": {
        "colab": {
          "base_uri": "https://localhost:8080/"
        },
        "id": "87PVLuTrfQeQ",
        "outputId": "197900e0-3fb0-4f8d-8209-f39251dc6de7"
      },
      "source": [
        "for account in acc_list:\n",
        "    print(account)"
      ],
      "execution_count": 48,
      "outputs": [
        {
          "output_type": "stream",
          "text": [
            "계좌번호 : 123456, 소유주 : 제임스, 잔액 : 1,100,000\n",
            "계좌번호 : 987432, 소유주 : 마리아, 잔액 : 3,000,000\n"
          ],
          "name": "stdout"
        }
      ]
    },
    {
      "cell_type": "markdown",
      "metadata": {
        "id": "7nATPYQSfqFw"
      },
      "source": [
        "### 1: 계좌생성, 2: 계좌목록, 3: 입금, 4: 출금, 5: 종료"
      ]
    },
    {
      "cell_type": "code",
      "metadata": {
        "id": "ortjCS4_j8dA"
      },
      "source": [
        "# 필요한 정보를 입력 받아 계좌 생성 \n",
        "def create_account():\n",
        "    ano = input('계좌번호를 입력하세요 > ')\n",
        "    owner = input('소유주명을 입력하세요 > ')\n",
        "    amount = int(input('입금액을 입력하세요 > '))\n",
        "    acc = Account(ano, owner, amount)\n",
        "    acc_list.append(acc)\n",
        "# 필요한 정보를 입력 받아 계좌에 입금\n",
        "def deposit_account():\n",
        "    ano = input('계좌번호를 입력하세요 > ')\n",
        "    amount = int(input('입금액을 입력하세요 > '))\n",
        "    for acc in acc_list:\n",
        "        if acc.ano == ano:\n",
        "            acc.deposit(amount)\n",
        "            return\n",
        "# 필요한 정보를 입력 받아 계좌에서 출금\n",
        "def withdraw_account():\n",
        "    ano = input('계좌번호를 입력하세요 > ')\n",
        "    amount = int(input('출금액을 입력하세요 > '))\n",
        "    for acc in acc_list:\n",
        "        if acc.ano == ano:\n",
        "            acc.withdraw(amount)\n",
        "            return"
      ],
      "execution_count": 75,
      "outputs": []
    },
    {
      "cell_type": "code",
      "metadata": {
        "colab": {
          "base_uri": "https://localhost:8080/"
        },
        "id": "-3jktIoIfXmi",
        "outputId": "4a3e5164-22a9-4f29-e0f6-03718afbb076"
      },
      "source": [
        "while True:\n",
        "    menu = int(input('1: 계좌생성, 2: 계좌목록, 3: 입금, 4: 출금, 5: 종료 > '))\n",
        "    if menu == 5:\n",
        "        break\n",
        "    if menu == 1:\n",
        "        create_account()\n",
        "    elif menu == 2:\n",
        "        for account in acc_list:\n",
        "            print(account)\n",
        "    elif menu == 3:\n",
        "        deposit_account()\n",
        "    elif menu == 4:\n",
        "        withdraw_account()\n",
        "    else:\n",
        "        print('잘못 입력하였습니다.')\n",
        "    print()"
      ],
      "execution_count": 76,
      "outputs": [
        {
          "output_type": "stream",
          "text": [
            "1: 계좌생성, 2: 계좌목록, 3: 입금, 4: 출금, 5: 종료 > 2\n",
            "계좌번호 : 123456, 소유주 : 제임스, 잔액 : 1,200,000\n",
            "계좌번호 : 987432, 소유주 : 마리아, 잔액 : 2,900,000\n",
            "\n",
            "1: 계좌생성, 2: 계좌목록, 3: 입금, 4: 출금, 5: 종료 > 1\n",
            "계좌번호를 입력하세요 > 347899\n",
            "소유주명을 입력하세요 > 데이비드\n",
            "입금액을 입력하세요 > 4000000\n",
            "\n",
            "1: 계좌생성, 2: 계좌목록, 3: 입금, 4: 출금, 5: 종료 > 2\n",
            "계좌번호 : 123456, 소유주 : 제임스, 잔액 : 1,200,000\n",
            "계좌번호 : 987432, 소유주 : 마리아, 잔액 : 2,900,000\n",
            "계좌번호 : 347899, 소유주 : 데이비드, 잔액 : 4,000,000\n",
            "\n",
            "1: 계좌생성, 2: 계좌목록, 3: 입금, 4: 출금, 5: 종료 > 3\n",
            "계좌번호를 입력하세요 > 347899\n",
            "입금액을 입력하세요 > 50000\n",
            "\n",
            "1: 계좌생성, 2: 계좌목록, 3: 입금, 4: 출금, 5: 종료 > 2\n",
            "계좌번호 : 123456, 소유주 : 제임스, 잔액 : 1,200,000\n",
            "계좌번호 : 987432, 소유주 : 마리아, 잔액 : 2,900,000\n",
            "계좌번호 : 347899, 소유주 : 데이비드, 잔액 : 4,050,000\n",
            "\n",
            "1: 계좌생성, 2: 계좌목록, 3: 입금, 4: 출금, 5: 종료 > 4\n",
            "계좌번호를 입력하세요 > 347899\n",
            "출금액을 입력하세요 > 100000\n",
            "\n",
            "1: 계좌생성, 2: 계좌목록, 3: 입금, 4: 출금, 5: 종료 > 2\n",
            "계좌번호 : 123456, 소유주 : 제임스, 잔액 : 1,200,000\n",
            "계좌번호 : 987432, 소유주 : 마리아, 잔액 : 2,900,000\n",
            "계좌번호 : 347899, 소유주 : 데이비드, 잔액 : 3,950,000\n",
            "\n",
            "1: 계좌생성, 2: 계좌목록, 3: 입금, 4: 출금, 5: 종료 > 5\n"
          ],
          "name": "stdout"
        }
      ]
    }
  ]
}