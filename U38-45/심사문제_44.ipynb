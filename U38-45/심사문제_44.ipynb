{
  "nbformat": 4,
  "nbformat_minor": 0,
  "metadata": {
    "colab": {
      "name": "심사문제 44.ipynb",
      "provenance": [],
      "collapsed_sections": []
    },
    "kernelspec": {
      "name": "python3",
      "display_name": "Python 3"
    },
    "language_info": {
      "name": "python"
    }
  },
  "cells": [
    {
      "cell_type": "markdown",
      "metadata": {
        "id": "QRl-4oPXsGKC"
      },
      "source": [
        "# 심사문제 44"
      ]
    },
    {
      "cell_type": "markdown",
      "metadata": {
        "id": "6Eo8fU_WsGEW"
      },
      "source": [
        "## 표준 입력으로 원의 반지름(실수)이 입력됩니다. 입력된 반지름을 이용하여 원의 넓이를 출력하는 프로그램을 만드세요(input에서 안내 문자열은 출력하지 않아야 합니다). 원의 넓이는 반지름 * 반지름 * 원주율로 구합니다."
      ]
    },
    {
      "cell_type": "markdown",
      "metadata": {
        "id": "lYc-5CnSsF7-"
      },
      "source": [
        "### judge_import.py\n",
        "________________\n",
        "________________\n",
        "________________"
      ]
    },
    {
      "cell_type": "code",
      "metadata": {
        "colab": {
          "base_uri": "https://localhost:8080/"
        },
        "id": "mKQ3B-jmsDLp",
        "outputId": "1a2f5eda-21db-4157-8ac2-de0e862b98c1"
      },
      "source": [
        "import math\n",
        "r = float(input())\n",
        "print(r * r * math.pi)"
      ],
      "execution_count": 1,
      "outputs": [
        {
          "output_type": "stream",
          "text": [
            "2.5\n",
            "19.634954084936208\n"
          ],
          "name": "stdout"
        }
      ]
    }
  ]
}