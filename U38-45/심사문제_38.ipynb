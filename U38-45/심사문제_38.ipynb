{
  "nbformat": 4,
  "nbformat_minor": 0,
  "metadata": {
    "colab": {
      "name": "심사문제 38.ipynb",
      "provenance": [],
      "collapsed_sections": []
    },
    "kernelspec": {
      "name": "python3",
      "display_name": "Python 3"
    },
    "language_info": {
      "name": "python"
    }
  },
  "cells": [
    {
      "cell_type": "markdown",
      "metadata": {
        "id": "ftG4NEVEMS44"
      },
      "source": [
        "# 심사문제 38"
      ]
    },
    {
      "cell_type": "markdown",
      "metadata": {
        "id": "cBrJzC7nMSy6"
      },
      "source": [
        "## 표준 입력으로 문자열이 입력됩니다. 다음 소스 코드를 완성하여 입력된 문자열이 회문이면 문자열을 그대로 출력하고, 회문이 아니면 '회문이 아닙니다.'를 출력하도록 만드세요. palindrome 함수와 NotPalindromeError 예외를 작성해야 합니다."
      ]
    },
    {
      "cell_type": "markdown",
      "metadata": {
        "id": "wsmEttnxMSr_"
      },
      "source": [
        "### judge_try_except_raise.py\n",
        "________________\n",
        "________________\n",
        "________________\n",
        "________________\n",
        "________________\n",
        "________________\n",
        "________________\n",
        "\n",
        "try:\n",
        "    word = input()\n",
        "    palindrome(word)\n",
        "except NotPalindromeError as e:\n",
        "    print(e)"
      ]
    },
    {
      "cell_type": "code",
      "metadata": {
        "colab": {
          "base_uri": "https://localhost:8080/"
        },
        "id": "cHlMfVH8MK9F",
        "outputId": "422c5451-628f-474c-a116-f02a33092c49"
      },
      "source": [
        "class NotPalindromeError(Exception):\n",
        "  def __init__(self):\n",
        "    super().__init__('회문이 아닙니다.')\n",
        "\n",
        "def palindrome(word):\n",
        "  if word != word[::-1]:\n",
        "    raise NotPalindromeError\n",
        "  print(word)\n",
        "\n",
        "try:\n",
        "    word = input()\n",
        "    palindrome(word)\n",
        "except NotPalindromeError as e:\n",
        "    print(e)"
      ],
      "execution_count": 1,
      "outputs": [
        {
          "output_type": "stream",
          "text": [
            "hello\n",
            "회문이 아닙니다.\n"
          ],
          "name": "stdout"
        }
      ]
    }
  ]
}