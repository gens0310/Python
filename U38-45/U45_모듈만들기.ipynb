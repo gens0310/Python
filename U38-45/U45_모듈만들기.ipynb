{
  "nbformat": 4,
  "nbformat_minor": 0,
  "metadata": {
    "colab": {
      "name": "U45_모듈만들기.ipynb",
      "provenance": [],
      "collapsed_sections": []
    },
    "kernelspec": {
      "name": "python3",
      "display_name": "Python 3"
    },
    "language_info": {
      "name": "python"
    }
  },
  "cells": [
    {
      "cell_type": "markdown",
      "metadata": {
        "id": "Ha-NzGobtM0Y"
      },
      "source": [
        "# Unit 45. 모듈 만들기"
      ]
    },
    {
      "cell_type": "markdown",
      "metadata": {
        "id": "Sx2scVtUtS3B"
      },
      "source": [
        "## 45.1 모듈 만들기"
      ]
    },
    {
      "cell_type": "code",
      "metadata": {
        "colab": {
          "base_uri": "https://localhost:8080/"
        },
        "id": "a1ub_5hVtefx",
        "outputId": "73cec182-2554-4918-f5a9-92a6bd6bd4f8"
      },
      "source": [
        "import U45_square2 as sq\n",
        "print(sq.base)\n",
        "print(sq.square(10))"
      ],
      "execution_count": 2,
      "outputs": [
        {
          "output_type": "stream",
          "text": [
            "2\n",
            "1024\n"
          ],
          "name": "stdout"
        }
      ]
    },
    {
      "cell_type": "code",
      "metadata": {
        "colab": {
          "base_uri": "https://localhost:8080/"
        },
        "id": "JmqbSefsviWp",
        "outputId": "bb208a0e-404a-425f-ce6e-98eb4d6be51c"
      },
      "source": [
        "!ls -l"
      ],
      "execution_count": 3,
      "outputs": [
        {
          "output_type": "stream",
          "text": [
            "total 12\n",
            "drwxr-xr-x 2 root root 4096 Aug  5 05:16 __pycache__\n",
            "drwxr-xr-x 1 root root 4096 Jul 16 13:20 sample_data\n",
            "-rw-r--r-- 1 root root   45 Aug  5 05:16 U45_square2.py\n"
          ],
          "name": "stdout"
        }
      ]
    },
    {
      "cell_type": "code",
      "metadata": {
        "colab": {
          "base_uri": "https://localhost:8080/"
        },
        "id": "dap0yhyuvraX",
        "outputId": "cc3c73af-dcd3-4c34-db1d-fc81f7cf6416"
      },
      "source": [
        "!ls -l __pycache__"
      ],
      "execution_count": 4,
      "outputs": [
        {
          "output_type": "stream",
          "text": [
            "total 4\n",
            "-rw-r--r-- 1 root root 225 Aug  5 05:16 U45_square2.cpython-37.pyc\n"
          ],
          "name": "stdout"
        }
      ]
    },
    {
      "cell_type": "markdown",
      "metadata": {
        "id": "Av7gq9FJwlID"
      },
      "source": [
        "### 클래스"
      ]
    },
    {
      "cell_type": "code",
      "metadata": {
        "colab": {
          "base_uri": "https://localhost:8080/"
        },
        "id": "O7Vftu3uviH1",
        "outputId": "c49622c6-dab3-464e-c8dd-1e00bf8e1975"
      },
      "source": [
        "from U45_person import Person\n",
        "Maria = Person('마리아', 25, '부산')\n",
        "Maria.greeting()"
      ],
      "execution_count": 6,
      "outputs": [
        {
          "output_type": "stream",
          "text": [
            "안녕하세요? 저는 마리아입니다.\n"
          ],
          "name": "stdout"
        }
      ]
    },
    {
      "cell_type": "code",
      "metadata": {
        "colab": {
          "base_uri": "https://localhost:8080/"
        },
        "id": "9DuYyLAfxD29",
        "outputId": "d2713694-1dbe-4fac-cc9f-0fda390c5060"
      },
      "source": [
        "!ls -l __pycache__"
      ],
      "execution_count": 7,
      "outputs": [
        {
          "output_type": "stream",
          "text": [
            "total 8\n",
            "-rw-r--r-- 1 root root 600 Aug  5 05:23 U45_person.cpython-37.pyc\n",
            "-rw-r--r-- 1 root root 225 Aug  5 05:16 U45_square2.cpython-37.pyc\n"
          ],
          "name": "stdout"
        }
      ]
    }
  ]
}