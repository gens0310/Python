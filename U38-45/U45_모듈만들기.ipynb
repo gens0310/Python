{
  "nbformat": 4,
  "nbformat_minor": 0,
  "metadata": {
    "colab": {
      "name": "U45_모듈만들기.ipynb",
      "provenance": [],
      "collapsed_sections": []
    },
    "kernelspec": {
      "name": "python3",
      "display_name": "Python 3"
    },
    "language_info": {
      "name": "python"
    }
  },
  "cells": [
    {
      "cell_type": "markdown",
      "metadata": {
        "id": "Ha-NzGobtM0Y"
      },
      "source": [
        "# Unit 45. 모듈 만들기"
      ]
    },
    {
      "cell_type": "markdown",
      "metadata": {
        "id": "Sx2scVtUtS3B"
      },
      "source": [
        "## 45.1 모듈 만들기"
      ]
    },
    {
      "cell_type": "code",
      "metadata": {
        "colab": {
          "base_uri": "https://localhost:8080/"
        },
        "id": "a1ub_5hVtefx",
        "outputId": "2c0ccb7d-126b-4c05-b0e5-bc1ac1126310"
      },
      "source": [
        "import U45_square2 as sq\n",
        "print(sq.base)\n",
        "print(sq.square(10))"
      ],
      "execution_count": 1,
      "outputs": [
        {
          "output_type": "stream",
          "text": [
            "2\n",
            "1024\n"
          ],
          "name": "stdout"
        }
      ]
    },
    {
      "cell_type": "code",
      "metadata": {
        "colab": {
          "base_uri": "https://localhost:8080/"
        },
        "id": "JmqbSefsviWp",
        "outputId": "bb208a0e-404a-425f-ce6e-98eb4d6be51c"
      },
      "source": [
        "!ls -l"
      ],
      "execution_count": null,
      "outputs": [
        {
          "output_type": "stream",
          "text": [
            "total 12\n",
            "drwxr-xr-x 2 root root 4096 Aug  5 05:16 __pycache__\n",
            "drwxr-xr-x 1 root root 4096 Jul 16 13:20 sample_data\n",
            "-rw-r--r-- 1 root root   45 Aug  5 05:16 U45_square2.py\n"
          ],
          "name": "stdout"
        }
      ]
    },
    {
      "cell_type": "code",
      "metadata": {
        "colab": {
          "base_uri": "https://localhost:8080/"
        },
        "id": "dap0yhyuvraX",
        "outputId": "cc3c73af-dcd3-4c34-db1d-fc81f7cf6416"
      },
      "source": [
        "!ls -l __pycache__"
      ],
      "execution_count": null,
      "outputs": [
        {
          "output_type": "stream",
          "text": [
            "total 4\n",
            "-rw-r--r-- 1 root root 225 Aug  5 05:16 U45_square2.cpython-37.pyc\n"
          ],
          "name": "stdout"
        }
      ]
    },
    {
      "cell_type": "markdown",
      "metadata": {
        "id": "Av7gq9FJwlID"
      },
      "source": [
        "### 클래스"
      ]
    },
    {
      "cell_type": "code",
      "metadata": {
        "colab": {
          "base_uri": "https://localhost:8080/"
        },
        "id": "O7Vftu3uviH1",
        "outputId": "c49622c6-dab3-464e-c8dd-1e00bf8e1975"
      },
      "source": [
        "from U45_person import Person\n",
        "Maria = Person('마리아', 25, '부산')\n",
        "Maria.greeting()"
      ],
      "execution_count": null,
      "outputs": [
        {
          "output_type": "stream",
          "text": [
            "안녕하세요? 저는 마리아입니다.\n"
          ],
          "name": "stdout"
        }
      ]
    },
    {
      "cell_type": "code",
      "metadata": {
        "colab": {
          "base_uri": "https://localhost:8080/"
        },
        "id": "9DuYyLAfxD29",
        "outputId": "d2713694-1dbe-4fac-cc9f-0fda390c5060"
      },
      "source": [
        "!ls -l __pycache__"
      ],
      "execution_count": null,
      "outputs": [
        {
          "output_type": "stream",
          "text": [
            "total 8\n",
            "-rw-r--r-- 1 root root 600 Aug  5 05:23 U45_person.cpython-37.pyc\n",
            "-rw-r--r-- 1 root root 225 Aug  5 05:16 U45_square2.cpython-37.pyc\n"
          ],
          "name": "stdout"
        }
      ]
    },
    {
      "cell_type": "code",
      "metadata": {
        "colab": {
          "base_uri": "https://localhost:8080/"
        },
        "id": "Ssy_alOx12xZ",
        "outputId": "6abf9e12-a3de-41e8-e64d-e546810d583f"
      },
      "source": [
        "!rm __pycache__/*"
      ],
      "execution_count": 3,
      "outputs": [
        {
          "output_type": "stream",
          "text": [
            "rm: cannot remove '__pycache__/*': No such file or directory\n"
          ],
          "name": "stdout"
        }
      ]
    },
    {
      "cell_type": "code",
      "metadata": {
        "colab": {
          "base_uri": "https://localhost:8080/"
        },
        "id": "5LF_xK5J2Sbo",
        "outputId": "85b8c151-2f32-4e91-baa9-4a6794999f44"
      },
      "source": [
        "!ls -l __pycache__"
      ],
      "execution_count": 2,
      "outputs": [
        {
          "output_type": "stream",
          "text": [
            "total 4\n",
            "-rw-r--r-- 1 root root 291 Aug  5 05:50 U45_square2.cpython-37.pyc\n"
          ],
          "name": "stdout"
        }
      ]
    },
    {
      "cell_type": "markdown",
      "metadata": {
        "id": "LvDgLzbf2cX2"
      },
      "source": [
        "## 45.2 모듈과 시작점"
      ]
    },
    {
      "cell_type": "code",
      "metadata": {
        "colab": {
          "base_uri": "https://localhost:8080/"
        },
        "id": "N2oo9hAz2aiQ",
        "outputId": "75fb259d-7da5-4402-c0a1-cf38ffaced11"
      },
      "source": [
        "!python U45_square2.py"
      ],
      "execution_count": 3,
      "outputs": [
        {
          "output_type": "stream",
          "text": [
            "2\n",
            "1024\n"
          ],
          "name": "stdout"
        }
      ]
    },
    {
      "cell_type": "code",
      "metadata": {
        "colab": {
          "base_uri": "https://localhost:8080/",
          "height": 35
        },
        "id": "yS-mfBGK3dfG",
        "outputId": "6aaf3c17-2474-4661-a1c4-5f5978fd7b87"
      },
      "source": [
        "__name__"
      ],
      "execution_count": 5,
      "outputs": [
        {
          "output_type": "execute_result",
          "data": {
            "application/vnd.google.colaboratory.intrinsic+json": {
              "type": "string"
            },
            "text/plain": [
              "'__main__'"
            ]
          },
          "metadata": {
            "tags": []
          },
          "execution_count": 5
        }
      ]
    },
    {
      "cell_type": "code",
      "metadata": {
        "colab": {
          "base_uri": "https://localhost:8080/"
        },
        "id": "NyGlVB5j-O0j",
        "outputId": "6f2c5c48-e3f4-48d6-afc9-233428c640ac"
      },
      "source": [
        "import U45_hello"
      ],
      "execution_count": 6,
      "outputs": [
        {
          "output_type": "stream",
          "text": [
            "hello 모듈 시작\n",
            "hello.py __name__ U45_hello\n",
            "hello 모듈 끝\n"
          ],
          "name": "stdout"
        }
      ]
    },
    {
      "cell_type": "code",
      "metadata": {
        "colab": {
          "base_uri": "https://localhost:8080/"
        },
        "id": "QnVoBM61-4sE",
        "outputId": "12c523fd-ec07-4279-dd86-ef3f75d6a336"
      },
      "source": [
        "!python U45_hello.py"
      ],
      "execution_count": 7,
      "outputs": [
        {
          "output_type": "stream",
          "text": [
            "hello 모듈 시작\n",
            "hello.py __name__ __main__\n",
            "hello 모듈 끝\n"
          ],
          "name": "stdout"
        }
      ]
    },
    {
      "cell_type": "markdown",
      "metadata": {
        "id": "JhZZsoAYAUlO"
      },
      "source": [
        "### Account 클래스를 Bank 디렉토리 밑에 util.py라는 이름으로 사용"
      ]
    },
    {
      "cell_type": "code",
      "metadata": {
        "id": "4fpErQeS_CRb"
      },
      "source": [
        "!mkdir Bank"
      ],
      "execution_count": 8,
      "outputs": []
    },
    {
      "cell_type": "code",
      "metadata": {
        "colab": {
          "base_uri": "https://localhost:8080/"
        },
        "id": "X0Z2vuPtAs7v",
        "outputId": "0d98fd78-0c51-4067-8682-9c28328a0399"
      },
      "source": [
        "!ls -l"
      ],
      "execution_count": 9,
      "outputs": [
        {
          "output_type": "stream",
          "text": [
            "total 20\n",
            "drwxr-xr-x 2 root root 4096 Aug  5 06:31 Bank\n",
            "drwxr-xr-x 2 root root 4096 Aug  5 06:23 __pycache__\n",
            "drwxr-xr-x 1 root root 4096 Jul 16 13:20 sample_data\n",
            "-rw-r--r-- 1 root root   93 Aug  5 06:23 U45_hello.py\n",
            "-rw-r--r-- 1 root root  113 Aug  5 05:50 U45_square2.py\n"
          ],
          "name": "stdout"
        }
      ]
    },
    {
      "cell_type": "code",
      "metadata": {
        "id": "zBBvOGnyAyUE"
      },
      "source": [
        "from Bank.U45_util import Account"
      ],
      "execution_count": 10,
      "outputs": []
    },
    {
      "cell_type": "code",
      "metadata": {
        "colab": {
          "base_uri": "https://localhost:8080/"
        },
        "id": "yuEiOSdfBnNE",
        "outputId": "305a0462-f446-4549-c5f7-12bd998dd57e"
      },
      "source": [
        "!ls -l Bank"
      ],
      "execution_count": 11,
      "outputs": [
        {
          "output_type": "stream",
          "text": [
            "total 8\n",
            "drwxr-xr-x 2 root root 4096 Aug  5 06:35 __pycache__\n",
            "-rw-r--r-- 1 root root  653 Aug  5 06:34 U45_util.py\n"
          ],
          "name": "stdout"
        }
      ]
    },
    {
      "cell_type": "code",
      "metadata": {
        "colab": {
          "base_uri": "https://localhost:8080/"
        },
        "id": "Xhgj99wSBsKt",
        "outputId": "3fac4db0-3cf4-4f6c-a98f-e66ad00c6901"
      },
      "source": [
        "acc = Account('123456', '제임스', 100000)\n",
        "print(acc)"
      ],
      "execution_count": 12,
      "outputs": [
        {
          "output_type": "stream",
          "text": [
            "계좌번호 : 123456, 소유주 : 제임스, 잔액 :   100,000\n"
          ],
          "name": "stdout"
        }
      ]
    }
  ]
}