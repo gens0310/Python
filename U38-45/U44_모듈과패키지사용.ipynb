{
  "nbformat": 4,
  "nbformat_minor": 0,
  "metadata": {
    "colab": {
      "name": "U44_모듈과패키지사용.ipynb",
      "provenance": [],
      "collapsed_sections": []
    },
    "kernelspec": {
      "name": "python3",
      "display_name": "Python 3"
    },
    "language_info": {
      "name": "python"
    }
  },
  "cells": [
    {
      "cell_type": "markdown",
      "metadata": {
        "id": "Lm4jcJPIdxdI"
      },
      "source": [
        "# Unit 44. 모듈과 패키지 사용"
      ]
    },
    {
      "cell_type": "markdown",
      "metadata": {
        "id": "txlzaVLndxVF"
      },
      "source": [
        "## 44.1 Import"
      ]
    },
    {
      "cell_type": "code",
      "metadata": {
        "colab": {
          "base_uri": "https://localhost:8080/"
        },
        "id": "UTqZ2OgAQcQe",
        "outputId": "206032d3-0d0a-4dde-d71f-b20d29206632"
      },
      "source": [
        "import math\n",
        "math.pi"
      ],
      "execution_count": 1,
      "outputs": [
        {
          "output_type": "execute_result",
          "data": {
            "text/plain": [
              "3.141592653589793"
            ]
          },
          "metadata": {
            "tags": []
          },
          "execution_count": 1
        }
      ]
    },
    {
      "cell_type": "code",
      "metadata": {
        "colab": {
          "base_uri": "https://localhost:8080/"
        },
        "id": "WK8fXeSTgk98",
        "outputId": "eec69ca8-eae3-400b-ce55-8bf81fce3a71"
      },
      "source": [
        "math.sqrt(2), math.log2(2), math.sin(math.pi/2)"
      ],
      "execution_count": 2,
      "outputs": [
        {
          "output_type": "execute_result",
          "data": {
            "text/plain": [
              "(1.4142135623730951, 1.0, 1.0)"
            ]
          },
          "metadata": {
            "tags": []
          },
          "execution_count": 2
        }
      ]
    },
    {
      "cell_type": "code",
      "metadata": {
        "colab": {
          "base_uri": "https://localhost:8080/"
        },
        "id": "in6YS0l9gtK5",
        "outputId": "822e4bf6-a739-46f4-83f7-5af7db86aed5"
      },
      "source": [
        "import math as m\n",
        "m.pi, m.log2(2), m.sqrt(2)"
      ],
      "execution_count": 4,
      "outputs": [
        {
          "output_type": "execute_result",
          "data": {
            "text/plain": [
              "(3.141592653589793, 1.0, 1.4142135623730951)"
            ]
          },
          "metadata": {
            "tags": []
          },
          "execution_count": 4
        }
      ]
    },
    {
      "cell_type": "code",
      "metadata": {
        "colab": {
          "base_uri": "https://localhost:8080/"
        },
        "id": "w8Ofc7zThEdl",
        "outputId": "c123ede7-5f83-4696-bf0e-7078bbe9855b"
      },
      "source": [
        "from math import sqrt, pi\n",
        "round(pi, 4), round(sqrt(2), 4)"
      ],
      "execution_count": 5,
      "outputs": [
        {
          "output_type": "execute_result",
          "data": {
            "text/plain": [
              "(3.1416, 1.4142)"
            ]
          },
          "metadata": {
            "tags": []
          },
          "execution_count": 5
        }
      ]
    },
    {
      "cell_type": "markdown",
      "metadata": {
        "id": "8BfybhxpjL2n"
      },
      "source": [
        "# 44.2 Import Package"
      ]
    },
    {
      "cell_type": "code",
      "metadata": {
        "colab": {
          "base_uri": "https://localhost:8080/"
        },
        "id": "CtgSm_rOh0VC",
        "outputId": "a795e699-b88f-4047-b928-9d81b18dc6f0"
      },
      "source": [
        "import urllib.request\n",
        "res = urllib.request.urlopen('https://www.google.com/')\n",
        "res.status"
      ],
      "execution_count": 7,
      "outputs": [
        {
          "output_type": "execute_result",
          "data": {
            "text/plain": [
              "200"
            ]
          },
          "metadata": {
            "tags": []
          },
          "execution_count": 7
        }
      ]
    },
    {
      "cell_type": "code",
      "metadata": {
        "colab": {
          "base_uri": "https://localhost:8080/"
        },
        "id": "Zsb_nfvkjibI",
        "outputId": "186e614d-13bb-4982-f9dc-68c1ac198fd2"
      },
      "source": [
        "from urllib.request import urlopen\n",
        "res = urlopen('https://www.google.com')\n",
        "res.status"
      ],
      "execution_count": 8,
      "outputs": [
        {
          "output_type": "execute_result",
          "data": {
            "text/plain": [
              "200"
            ]
          },
          "metadata": {
            "tags": []
          },
          "execution_count": 8
        }
      ]
    }
  ]
}