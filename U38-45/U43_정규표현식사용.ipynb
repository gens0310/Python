{
  "nbformat": 4,
  "nbformat_minor": 0,
  "metadata": {
    "colab": {
      "name": "U43_정규표현식사용.ipynb",
      "provenance": [],
      "collapsed_sections": []
    },
    "kernelspec": {
      "name": "python3",
      "display_name": "Python 3"
    },
    "language_info": {
      "name": "python"
    }
  },
  "cells": [
    {
      "cell_type": "markdown",
      "metadata": {
        "id": "cNp8rmBK_Dip"
      },
      "source": [
        "# Unit 43. 정규표현식"
      ]
    },
    {
      "cell_type": "markdown",
      "metadata": {
        "id": "T9MoLI8t_DZl"
      },
      "source": [
        "### 문자열 판단"
      ]
    },
    {
      "cell_type": "code",
      "metadata": {
        "colab": {
          "base_uri": "https://localhost:8080/"
        },
        "id": "Co14XYNI8LGO",
        "outputId": "b91afe6f-bc93-4724-8b62-7d848b40b206"
      },
      "source": [
        "import re\n",
        "re.match('Hello', 'Hello, World!') # 패턴, 문자열"
      ],
      "execution_count": 1,
      "outputs": [
        {
          "output_type": "execute_result",
          "data": {
            "text/plain": [
              "<re.Match object; span=(0, 5), match='Hello'>"
            ]
          },
          "metadata": {
            "tags": []
          },
          "execution_count": 1
        }
      ]
    },
    {
      "cell_type": "code",
      "metadata": {
        "colab": {
          "base_uri": "https://localhost:8080/"
        },
        "id": "WLP5Ev71_gZp",
        "outputId": "1e6c5bff-d49e-474f-fdc7-b1704eb6e4e5"
      },
      "source": [
        "z = re.match('Hello', 'Hello, World!')\n",
        "if z:\n",
        "    print('Found it!')\n",
        "else:\n",
        "    print('Not found.')"
      ],
      "execution_count": 4,
      "outputs": [
        {
          "output_type": "stream",
          "text": [
            "Found it!\n"
          ],
          "name": "stdout"
        }
      ]
    },
    {
      "cell_type": "code",
      "metadata": {
        "colab": {
          "base_uri": "https://localhost:8080/"
        },
        "id": "ryRiKvlLDAHm",
        "outputId": "96961e79-0f64-4990-9acc-63fc2e874cd3"
      },
      "source": [
        "z = re.match('World', 'Hello, World!')\n",
        "if z:\n",
        "    print('Found it!')\n",
        "else:\n",
        "    print('Not found.')"
      ],
      "execution_count": 5,
      "outputs": [
        {
          "output_type": "stream",
          "text": [
            "Not found.\n"
          ],
          "name": "stdout"
        }
      ]
    },
    {
      "cell_type": "code",
      "metadata": {
        "colab": {
          "base_uri": "https://localhost:8080/"
        },
        "id": "vIDfJJkuDLY8",
        "outputId": "49d38261-56a3-4910-acb7-437aa10e219c"
      },
      "source": [
        "z = re.search('World', 'Hello, World!')\n",
        "if z:\n",
        "    print('Found it!')\n",
        "else:\n",
        "    print('Not found.')"
      ],
      "execution_count": 6,
      "outputs": [
        {
          "output_type": "stream",
          "text": [
            "Found it!\n"
          ],
          "name": "stdout"
        }
      ]
    },
    {
      "cell_type": "markdown",
      "metadata": {
        "id": "WK3DoW-CD6sT"
      },
      "source": [
        "## 43.2 범위 판단"
      ]
    },
    {
      "cell_type": "code",
      "metadata": {
        "colab": {
          "base_uri": "https://localhost:8080/"
        },
        "id": "1ZBfMezMGT-d",
        "outputId": "4887348b-21ad-465f-9229-84b1acf44762"
      },
      "source": [
        "# 휴대전화 번호형식\n",
        "pattern = '010-(0-9)(4)-0622'\n",
        "print('010-0000-0622 > ')\n",
        "text = input()\n",
        "if re.match(pattern, text):\n",
        "    print('올바른 휴대전화번호')\n",
        "else:\n",
        "    print('잘못된 휴대전화번호')"
      ],
      "execution_count": 17,
      "outputs": [
        {
          "output_type": "stream",
          "text": [
            "010-0000-0622 > \n",
            "010-7682-0622\n",
            "잘못된 휴대전화번호\n"
          ],
          "name": "stdout"
        }
      ]
    },
    {
      "cell_type": "code",
      "metadata": {
        "colab": {
          "base_uri": "https://localhost:8080/"
        },
        "id": "_G_bcn4cEsZi",
        "outputId": "74759518-3ddf-416a-8a94-d94804d274ab"
      },
      "source": [
        "# 한글 패턴\n",
        "hangeul = '[ㄱ-ㅎ ㅏ-ㅣ 가-힣]+'\n",
        "print('한글을 입력하세요 > ')\n",
        "text = input()\n",
        "if re.search(hangeul, text):\n",
        "    print('한글이 있음')\n",
        "else:\n",
        "    print('한글이 없음')"
      ],
      "execution_count": 18,
      "outputs": [
        {
          "output_type": "stream",
          "text": [
            "한글을 입력하세요 > \n",
            "홍길동\n",
            "한글이 있음\n"
          ],
          "name": "stdout"
        }
      ]
    },
    {
      "cell_type": "markdown",
      "metadata": {
        "id": "fNamUei2J1LU"
      },
      "source": [
        "### 이메일 주소 검사하기"
      ]
    },
    {
      "cell_type": "code",
      "metadata": {
        "colab": {
          "base_uri": "https://localhost:8080/"
        },
        "id": "kQBocXv0J4FQ",
        "outputId": "bd88dc1c-0271-48bb-962c-28e531a65c3f"
      },
      "source": [
        "import re\n",
        "p = re.compile('^[a-zA-Z0-9+-_.]+@[a-zA-Z0-9-]+\\.[a-zA-Z0-9-.]+$')\n",
        "emails = ['gens0310@naver.com', 'lumenverum89@gmail.com']\n",
        "for email in emails:\n",
        "    print(p.match(email) != None, end = ' ')"
      ],
      "execution_count": 31,
      "outputs": [
        {
          "output_type": "stream",
          "text": [
            "True True "
          ],
          "name": "stdout"
        }
      ]
    },
    {
      "cell_type": "markdown",
      "metadata": {
        "id": "zOktzGE1Gj46"
      },
      "source": [
        "## 43.4 문자열 바꾸기"
      ]
    },
    {
      "cell_type": "code",
      "metadata": {
        "colab": {
          "base_uri": "https://localhost:8080/",
          "height": 35
        },
        "id": "p7qhM86VGb9W",
        "outputId": "ac1c9687-379b-493d-94ad-94ccd11096ac"
      },
      "source": [
        "# re.sub('패턴', '바꿀 문자열', '문자열')\n",
        "re.sub('apple|orange', 'fruit', 'apple box orange tree')"
      ],
      "execution_count": 19,
      "outputs": [
        {
          "output_type": "execute_result",
          "data": {
            "application/vnd.google.colaboratory.intrinsic+json": {
              "type": "string"
            },
            "text/plain": [
              "'fruit box fruit tree'"
            ]
          },
          "metadata": {
            "tags": []
          },
          "execution_count": 19
        }
      ]
    },
    {
      "cell_type": "code",
      "metadata": {
        "colab": {
          "base_uri": "https://localhost:8080/",
          "height": 35
        },
        "id": "DzyelANUHCHj",
        "outputId": "a263deaf-1a89-414f-d913-c528dd2c8f35"
      },
      "source": [
        "re.sub('[0-9]', 'n', '1 2 Fizz 4 Buzz Fizz 7 8 Fizz Buzz 11 12')"
      ],
      "execution_count": 21,
      "outputs": [
        {
          "output_type": "execute_result",
          "data": {
            "application/vnd.google.colaboratory.intrinsic+json": {
              "type": "string"
            },
            "text/plain": [
              "'n n Fizz n Buzz Fizz n n Fizz Buzz nn nn'"
            ]
          },
          "metadata": {
            "tags": []
          },
          "execution_count": 21
        }
      ]
    },
    {
      "cell_type": "code",
      "metadata": {
        "colab": {
          "base_uri": "https://localhost:8080/",
          "height": 35
        },
        "id": "KKJ0O0pLG0gM",
        "outputId": "6f36c82f-7b2e-4cc2-876b-d8c5c00dd5fa"
      },
      "source": [
        "re.sub('[0-9]+', 'n', '1 2 Fizz 4 Buzz Fizz 7 8 Fizz Buzz 11 12')"
      ],
      "execution_count": 20,
      "outputs": [
        {
          "output_type": "execute_result",
          "data": {
            "application/vnd.google.colaboratory.intrinsic+json": {
              "type": "string"
            },
            "text/plain": [
              "'n n Fizz n Buzz Fizz n n Fizz Buzz n n'"
            ]
          },
          "metadata": {
            "tags": []
          },
          "execution_count": 20
        }
      ]
    },
    {
      "cell_type": "code",
      "metadata": {
        "id": "cDeKirBGHMMX"
      },
      "source": [
        "text = '''\n",
        "​아 아까는 못 받아서 미안해 친구를 만나느라 shy shy shy 만나긴 좀 그렇구 미안해 좀 있다 연락할게 later\n",
        "'''"
      ],
      "execution_count": 22,
      "outputs": []
    },
    {
      "cell_type": "code",
      "metadata": {
        "colab": {
          "base_uri": "https://localhost:8080/",
          "height": 52
        },
        "id": "5ILa5GXsH4FO",
        "outputId": "3f6fc5d5-42f1-469f-d7c5-816311727d27"
      },
      "source": [
        "not_hangeul_blank = '[^ㄱ-ㅎ ㅏ-ㅣ 가-힣 ]'\n",
        "text = re.sub(not_hangeul_blank, '', text)\n",
        "text"
      ],
      "execution_count": 23,
      "outputs": [
        {
          "output_type": "execute_result",
          "data": {
            "application/vnd.google.colaboratory.intrinsic+json": {
              "type": "string"
            },
            "text/plain": [
              "'아 아까는 못 받아서 미안해 친구를 만나느라    만나긴 좀 그렇구 미안해 좀 있다 연락할게 '"
            ]
          },
          "metadata": {
            "tags": []
          },
          "execution_count": 23
        }
      ]
    },
    {
      "cell_type": "code",
      "metadata": {
        "colab": {
          "base_uri": "https://localhost:8080/",
          "height": 35
        },
        "id": "vLDdfbTlIN0U",
        "outputId": "4cde37ec-20f8-43a7-824b-6742a241d20d"
      },
      "source": [
        "text = '아! ㅅㅂ... 똥 마려~ ㅠㅠ'\n",
        "text = re.sub(not_hangeul_blank, '', text)\n",
        "text"
      ],
      "execution_count": 25,
      "outputs": [
        {
          "output_type": "execute_result",
          "data": {
            "application/vnd.google.colaboratory.intrinsic+json": {
              "type": "string"
            },
            "text/plain": [
              "'아 ㅅㅂ 똥 마려 ㅠㅠ'"
            ]
          },
          "metadata": {
            "tags": []
          },
          "execution_count": 25
        }
      ]
    }
  ]
}