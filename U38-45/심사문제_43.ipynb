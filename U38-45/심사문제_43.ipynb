{
  "nbformat": 4,
  "nbformat_minor": 0,
  "metadata": {
    "colab": {
      "name": "심사문제 43.ipynb",
      "provenance": [],
      "collapsed_sections": []
    },
    "kernelspec": {
      "name": "python3",
      "display_name": "Python 3"
    },
    "language_info": {
      "name": "python"
    }
  },
  "cells": [
    {
      "cell_type": "markdown",
      "metadata": {
        "id": "1ftsUzKFM1eE"
      },
      "source": [
        "# 심사문제 43"
      ]
    },
    {
      "cell_type": "markdown",
      "metadata": {
        "id": "PTaSU037M1Wh"
      },
      "source": [
        "## 표준 입력으로 URL 문자열이 입력 입력됩니다. 입력된 URL이 올바르면 True, 잘못되었으면 False를 출력하는 프로그램을 만드세요. 이 심사문제에서 판단해야 할 URL의 규칙은 다음과 같습니다.\n",
        "\n",
        "- http:// 또는 https://로 시작\n",
        "- 도메인은 도메인.최상위도메인 형식이며 영문 대소문자, 숫자, -로 되어 있어야 함\n",
        "- 도메인 이하 경로는 /로 구분하고, 영문 대소문자, 숫자, -, _, ., ?, =을 사용함"
      ]
    },
    {
      "cell_type": "markdown",
      "metadata": {
        "id": "g0V4iB0UM1SW"
      },
      "source": [
        "### judge_regular_expression.py\n",
        "________________________________\n",
        "________________________________\n",
        "________________________________"
      ]
    },
    {
      "cell_type": "code",
      "metadata": {
        "colab": {
          "base_uri": "https://localhost:8080/"
        },
        "id": "hgpgMAkzMtXt",
        "outputId": "ce96d3e7-a297-4155-e810-0181fa16f5df"
      },
      "source": [
        "import re\n",
        "p = re.compile('^(https?://)[a-zA-Z0-9-]+\\.[a-zA-Z0-9-.]+/[a-zA-Z0-9-_/.?=]*')\n",
        "print(p.match(input()) != None)"
      ],
      "execution_count": 2,
      "outputs": [
        {
          "output_type": "stream",
          "text": [
            "http://www.example.com/hello/world.do?key=python\n",
            "True\n"
          ],
          "name": "stdout"
        }
      ]
    }
  ]
}