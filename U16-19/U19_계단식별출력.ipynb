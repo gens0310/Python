{
  "nbformat": 4,
  "nbformat_minor": 0,
  "metadata": {
    "colab": {
      "name": "U19_계단식별출력.ipynb",
      "provenance": [],
      "collapsed_sections": []
    },
    "kernelspec": {
      "name": "python3",
      "display_name": "Python 3"
    },
    "language_info": {
      "name": "python"
    }
  },
  "cells": [
    {
      "cell_type": "markdown",
      "metadata": {
        "id": "JLQaNY9OKAbA"
      },
      "source": [
        "# Unit 19. 중첩 반복문"
      ]
    },
    {
      "cell_type": "markdown",
      "metadata": {
        "id": "jCMkHnYBbbmx"
      },
      "source": [
        "## 19.1 중첩(Nested) for loop"
      ]
    },
    {
      "cell_type": "code",
      "metadata": {
        "id": "47PjTvbTJ0Vl",
        "colab": {
          "base_uri": "https://localhost:8080/"
        },
        "outputId": "a6a2ead2-1787-452f-cb4b-5e801360c711"
      },
      "source": [
        "for i in range(5):\n",
        "    for k in range(10, 60, 10):\n",
        "        print(k, end = ' ')\n",
        "    print(i)"
      ],
      "execution_count": null,
      "outputs": [
        {
          "output_type": "stream",
          "text": [
            "10 20 30 40 50 0\n",
            "10 20 30 40 50 1\n",
            "10 20 30 40 50 2\n",
            "10 20 30 40 50 3\n",
            "10 20 30 40 50 4\n"
          ],
          "name": "stdout"
        }
      ]
    },
    {
      "cell_type": "code",
      "metadata": {
        "colab": {
          "base_uri": "https://localhost:8080/"
        },
        "id": "WxSyzjRfcVNA",
        "outputId": "7f18f119-e0b3-489c-80b8-4aba45e3950f"
      },
      "source": [
        "for i in range(1, 6):\n",
        "    for k in range(10, 60, 10):\n",
        "        print(k, end = ' ')\n",
        "    print(i)"
      ],
      "execution_count": null,
      "outputs": [
        {
          "output_type": "stream",
          "text": [
            "10 20 30 40 50 1\n",
            "10 20 30 40 50 2\n",
            "10 20 30 40 50 3\n",
            "10 20 30 40 50 4\n",
            "10 20 30 40 50 5\n"
          ],
          "name": "stdout"
        }
      ]
    },
    {
      "cell_type": "markdown",
      "metadata": {
        "id": "Lec8jrxxcsRS"
      },
      "source": [
        "## 19.2 별 사각형"
      ]
    },
    {
      "cell_type": "code",
      "metadata": {
        "colab": {
          "base_uri": "https://localhost:8080/"
        },
        "id": "ELSXZMWvckuR",
        "outputId": "cd741c6a-ef54-465c-cee1-40eb7c869e11"
      },
      "source": [
        "for i in range(5):\n",
        "    for _ in range(5):\n",
        "        print('*', end = '')\n",
        "    print()"
      ],
      "execution_count": null,
      "outputs": [
        {
          "output_type": "stream",
          "text": [
            "*****\n",
            "*****\n",
            "*****\n",
            "*****\n",
            "*****\n"
          ],
          "name": "stdout"
        }
      ]
    },
    {
      "cell_type": "code",
      "metadata": {
        "colab": {
          "base_uri": "https://localhost:8080/"
        },
        "id": "R0rC32p5c6a_",
        "outputId": "ffc6b704-dd62-44da-f225-a1f704d85cf2"
      },
      "source": [
        "# 평행사변형\n",
        "for i in range(4):\n",
        "    for k in range(0, i):\n",
        "        print(' ', end = '')\n",
        "    for _ in range(5):\n",
        "        print('*', end = '')\n",
        "    print()\n"
      ],
      "execution_count": null,
      "outputs": [
        {
          "output_type": "stream",
          "text": [
            "*****\n",
            " *****\n",
            "  *****\n",
            "   *****\n"
          ],
          "name": "stdout"
        }
      ]
    },
    {
      "cell_type": "code",
      "metadata": {
        "id": "2N8IqFcceZ6J"
      },
      "source": [
        "for i in range(0, 0):\n",
        "    print('*')"
      ],
      "execution_count": null,
      "outputs": []
    },
    {
      "cell_type": "code",
      "metadata": {
        "colab": {
          "base_uri": "https://localhost:8080/"
        },
        "id": "voJTAhriesqG",
        "outputId": "8af7a9c9-28ef-40a2-e66d-8a7796664ba9"
      },
      "source": [
        "for i in range(4):\n",
        "    print(' ' * i, '*' * 5, sep = '')"
      ],
      "execution_count": null,
      "outputs": [
        {
          "output_type": "stream",
          "text": [
            "*****\n",
            " *****\n",
            "  *****\n",
            "   *****\n"
          ],
          "name": "stdout"
        }
      ]
    },
    {
      "cell_type": "markdown",
      "metadata": {
        "id": "NFFP3iIvfOF8"
      },
      "source": [
        "## 19.3 계단식 별 모양"
      ]
    },
    {
      "cell_type": "code",
      "metadata": {
        "colab": {
          "base_uri": "https://localhost:8080/"
        },
        "id": "SGYw6FpJfJCn",
        "outputId": "b0a4da39-0d7e-4e38-bf3d-6cf48ad051d8"
      },
      "source": [
        "for i in range(5):\n",
        "    for _ in range(i + 1):\n",
        "        print('*', end = '')\n",
        "    print()"
      ],
      "execution_count": null,
      "outputs": [
        {
          "output_type": "stream",
          "text": [
            "*\n",
            "**\n",
            "***\n",
            "****\n",
            "*****\n"
          ],
          "name": "stdout"
        }
      ]
    },
    {
      "cell_type": "code",
      "metadata": {
        "colab": {
          "base_uri": "https://localhost:8080/"
        },
        "id": "ciX_CLwSjpEE",
        "outputId": "72aa3ba4-98a7-4d82-9fbc-d5c5fa689285"
      },
      "source": [
        "for i in range(5):\n",
        "    for _ in range(5 - i):\n",
        "        print(' ', end = '')\n",
        "    for _ in range(i + 1):\n",
        "        print('*', end = '')\n",
        "    print()"
      ],
      "execution_count": null,
      "outputs": [
        {
          "output_type": "stream",
          "text": [
            "     *\n",
            "    **\n",
            "   ***\n",
            "  ****\n",
            " *****\n"
          ],
          "name": "stdout"
        }
      ]
    },
    {
      "cell_type": "code",
      "metadata": {
        "colab": {
          "base_uri": "https://localhost:8080/"
        },
        "id": "QgjxhgE0fzLP",
        "outputId": "d5ccc6fb-c04f-45a6-eff0-799c89a7d82a"
      },
      "source": [
        "for i in range(5):\n",
        "    for _ in range(i):\n",
        "        print(' ', end = '')\n",
        "    for _ in range(5 - i):\n",
        "        print('*', end = '')\n",
        "    print()"
      ],
      "execution_count": null,
      "outputs": [
        {
          "output_type": "stream",
          "text": [
            "*****\n",
            " ****\n",
            "  ***\n",
            "   **\n",
            "    *\n"
          ],
          "name": "stdout"
        }
      ]
    },
    {
      "cell_type": "code",
      "metadata": {
        "colab": {
          "base_uri": "https://localhost:8080/"
        },
        "id": "0ATdQgVOhHrm",
        "outputId": "f6e78ec3-ac9f-466b-bca5-ba89290cd6a2"
      },
      "source": [
        "for i in range(5):\n",
        "    print(' ' * 1, '*' * (5 - i), sep = '')"
      ],
      "execution_count": null,
      "outputs": [
        {
          "output_type": "stream",
          "text": [
            " *****\n",
            " ****\n",
            " ***\n",
            " **\n",
            " *\n"
          ],
          "name": "stdout"
        }
      ]
    },
    {
      "cell_type": "markdown",
      "metadata": {
        "id": "lMKJY-hfiTbO"
      },
      "source": [
        "### Diamond 그리기"
      ]
    },
    {
      "cell_type": "code",
      "metadata": {
        "colab": {
          "base_uri": "https://localhost:8080/"
        },
        "id": "xcD6j1Y7gYY_",
        "outputId": "f647bf53-eb79-4405-d7b3-4ee9bd85e4aa"
      },
      "source": [
        "for i in range(5):\n",
        "    for _ in range(4 - i):\n",
        "        print(' ', end = '')\n",
        "    for _ in range(i * 2 + 1):\n",
        "        print('*', end = '')\n",
        "    print()\n",
        "for i in range(4):\n",
        "    for _ in range(i + 1):\n",
        "        print(' ', end = '')\n",
        "    for _ in range(7 - i * 2):\n",
        "        print('*', end = '')\n",
        "    print()"
      ],
      "execution_count": null,
      "outputs": [
        {
          "output_type": "stream",
          "text": [
            "    *\n",
            "   ***\n",
            "  *****\n",
            " *******\n",
            "*********\n",
            " *******\n",
            "  *****\n",
            "   ***\n",
            "    *\n"
          ],
          "name": "stdout"
        }
      ]
    },
    {
      "cell_type": "code",
      "metadata": {
        "colab": {
          "base_uri": "https://localhost:8080/"
        },
        "id": "ZAO1g6xml-1H",
        "outputId": "a4731a50-6fed-41e4-b908-17a6efa14495"
      },
      "source": [
        "for i in range(5):\n",
        "    print(' ' * (4 - i), '*' * (i * 2 + 1), sep = '')\n",
        "for i in range(4):\n",
        "    print(' ' * (i + 1), '*' * (7 - i * 2), sep = '')"
      ],
      "execution_count": 31,
      "outputs": [
        {
          "output_type": "stream",
          "text": [
            "    *\n",
            "   ***\n",
            "  *****\n",
            " *******\n",
            "*********\n",
            " *******\n",
            "  *****\n",
            "   ***\n",
            "    *\n"
          ],
          "name": "stdout"
        }
      ]
    }
  ]
}