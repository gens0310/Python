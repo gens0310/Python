{
  "nbformat": 4,
  "nbformat_minor": 0,
  "metadata": {
    "colab": {
      "name": "심사문제 18.ipynb",
      "provenance": [],
      "collapsed_sections": []
    },
    "kernelspec": {
      "name": "python3",
      "display_name": "Python 3"
    },
    "language_info": {
      "name": "python"
    }
  },
  "cells": [
    {
      "cell_type": "markdown",
      "metadata": {
        "id": "xUM7bzqKLTci"
      },
      "source": [
        "# 심사문제 18"
      ]
    },
    {
      "cell_type": "markdown",
      "metadata": {
        "id": "PAnf5rq8LTVx"
      },
      "source": [
        "## 표준 입력으로 정수 두 개가 입력됩니다(첫 번째 입력 값의 범위는 1~200, 두 번째 입력 값의 범위는 10~200이며 첫 번째 입력 값은 두 번째 입력 값보다 항상 작습니다). 다음 소스 코드를 완성하여 첫 번째 정수와 두 번째 정수 사이의 숫자 중 3으로 끝나지 않는 숫자가 출력되게 만드세요. 정답에 코드를 작성할 때는 while True:에 맞춰서 들여쓰기를 해주세요."
      ]
    },
    {
      "cell_type": "markdown",
      "metadata": {
        "id": "bA7jHNWSLTF9"
      },
      "source": [
        "### judge_exclude_number_ending_3.py\n",
        "start, stop = map(int, input().split())\n",
        " \n",
        "i = start\n",
        " \n",
        "while True:\n",
        "_____________________\n",
        "_____________________\n",
        "_____________________\n",
        "_____________________\n",
        "_____________________\n",
        "    print(i, end=' ')\n",
        "    i += 1"
      ]
    },
    {
      "cell_type": "code",
      "metadata": {
        "id": "q8rzpeA_LQMU",
        "colab": {
          "base_uri": "https://localhost:8080/"
        },
        "outputId": "84850d1b-dd7f-41f9-8beb-a725829355fc"
      },
      "source": [
        "start, stop = map(int, input().split())\n",
        "i = start\n",
        "while True:\n",
        "    if i % 10 == 3:\n",
        "        i += 1\n",
        "        continue\n",
        "    if i > stop:\n",
        "        break\n",
        "    print(i, end = ' ')\n",
        "    i += 1"
      ],
      "execution_count": 18,
      "outputs": [
        {
          "output_type": "stream",
          "text": [
            "1 20\n",
            "1 2 4 5 6 7 8 9 10 11 12 14 15 16 17 18 19 20 "
          ],
          "name": "stdout"
        }
      ]
    }
  ]
}