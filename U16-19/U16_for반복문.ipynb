{
  "nbformat": 4,
  "nbformat_minor": 0,
  "metadata": {
    "colab": {
      "name": "U16_for반복문.ipynb",
      "provenance": [],
      "collapsed_sections": []
    },
    "kernelspec": {
      "name": "python3",
      "display_name": "Python 3"
    },
    "language_info": {
      "name": "python"
    }
  },
  "cells": [
    {
      "cell_type": "markdown",
      "metadata": {
        "id": "92BuHY97I_hJ"
      },
      "source": [
        "# Unit 16. for loop"
      ]
    },
    {
      "cell_type": "markdown",
      "metadata": {
        "id": "7fFoKPE8tCmi"
      },
      "source": [
        "## 16.1 for와 range"
      ]
    },
    {
      "cell_type": "code",
      "metadata": {
        "id": "Qkw_g5F7IpU9",
        "colab": {
          "base_uri": "https://localhost:8080/"
        },
        "outputId": "67844999-08e6-4f85-ce58-ce5708e1c014"
      },
      "source": [
        "for i in range(10):\n",
        "    print('Hello, World!')"
      ],
      "execution_count": 1,
      "outputs": [
        {
          "output_type": "stream",
          "text": [
            "Hello, World!\n",
            "Hello, World!\n",
            "Hello, World!\n",
            "Hello, World!\n",
            "Hello, World!\n",
            "Hello, World!\n",
            "Hello, World!\n",
            "Hello, World!\n",
            "Hello, World!\n",
            "Hello, World!\n"
          ],
          "name": "stdout"
        }
      ]
    },
    {
      "cell_type": "code",
      "metadata": {
        "colab": {
          "base_uri": "https://localhost:8080/"
        },
        "id": "SReR05Hlt52w",
        "outputId": "fce2a7e6-e6b1-43bf-b5ff-c0060449da29"
      },
      "source": [
        "for i in range(10):\n",
        "    print('Hello, World!', i)"
      ],
      "execution_count": 2,
      "outputs": [
        {
          "output_type": "stream",
          "text": [
            "Hello, World! 0\n",
            "Hello, World! 1\n",
            "Hello, World! 2\n",
            "Hello, World! 3\n",
            "Hello, World! 4\n",
            "Hello, World! 5\n",
            "Hello, World! 6\n",
            "Hello, World! 7\n",
            "Hello, World! 8\n",
            "Hello, World! 9\n"
          ],
          "name": "stdout"
        }
      ]
    },
    {
      "cell_type": "code",
      "metadata": {
        "colab": {
          "base_uri": "https://localhost:8080/"
        },
        "id": "61bcoW14vO_V",
        "outputId": "0026535d-f7a3-4bf8-c47c-1667b0ca82b1"
      },
      "source": [
        "for _ in range(3):\n",
        "    print('Hello, World!')"
      ],
      "execution_count": 3,
      "outputs": [
        {
          "output_type": "stream",
          "text": [
            "Hello, World!\n",
            "Hello, World!\n",
            "Hello, World!\n"
          ],
          "name": "stdout"
        }
      ]
    },
    {
      "cell_type": "markdown",
      "metadata": {
        "id": "xAc6O3_yyzPP"
      },
      "source": [
        "## 16.2 for와 range 응용"
      ]
    },
    {
      "cell_type": "code",
      "metadata": {
        "colab": {
          "base_uri": "https://localhost:8080/"
        },
        "id": "xGkca_mfvjUy",
        "outputId": "5e295b04-a834-45c8-ee45-58c178ab0886"
      },
      "source": [
        "for i in range(0, 10, 2):\n",
        "    print('Hello, World!', i)"
      ],
      "execution_count": 4,
      "outputs": [
        {
          "output_type": "stream",
          "text": [
            "Hello, World! 0\n",
            "Hello, World! 2\n",
            "Hello, World! 4\n",
            "Hello, World! 6\n",
            "Hello, World! 8\n"
          ],
          "name": "stdout"
        }
      ]
    },
    {
      "cell_type": "code",
      "metadata": {
        "colab": {
          "base_uri": "https://localhost:8080/"
        },
        "id": "cNZD1ksfzE4U",
        "outputId": "9bb6a24f-e69d-4dfa-ebd7-47f9afc22de9"
      },
      "source": [
        "for i in range(10, 0, -2):\n",
        "    print('Hello, World!', i)"
      ],
      "execution_count": 6,
      "outputs": [
        {
          "output_type": "stream",
          "text": [
            "Hello, World! 10\n",
            "Hello, World! 8\n",
            "Hello, World! 6\n",
            "Hello, World! 4\n",
            "Hello, World! 2\n"
          ],
          "name": "stdout"
        }
      ]
    },
    {
      "cell_type": "code",
      "metadata": {
        "colab": {
          "base_uri": "https://localhost:8080/"
        },
        "id": "QR46um-UzLj0",
        "outputId": "a6ca77b1-34da-4ea4-981e-5c9be18c5788"
      },
      "source": [
        "for i in range(1, 101):\n",
        "    print('Fizz' * (i % 3 == 0) + 'Buzz' * (i % 5 == 0) or i, end = ' ')\n",
        "    if (i % 10 == 0):\n",
        "        print()"
      ],
      "execution_count": 13,
      "outputs": [
        {
          "output_type": "stream",
          "text": [
            "1 2 Fizz 4 Buzz Fizz 7 8 Fizz Buzz \n",
            "11 Fizz 13 14 FizzBuzz 16 17 Fizz 19 Buzz \n",
            "Fizz 22 23 Fizz Buzz 26 Fizz 28 29 FizzBuzz \n",
            "31 32 Fizz 34 Buzz Fizz 37 38 Fizz Buzz \n",
            "41 Fizz 43 44 FizzBuzz 46 47 Fizz 49 Buzz \n",
            "Fizz 52 53 Fizz Buzz 56 Fizz 58 59 FizzBuzz \n",
            "61 62 Fizz 64 Buzz Fizz 67 68 Fizz Buzz \n",
            "71 Fizz 73 74 FizzBuzz 76 77 Fizz 79 Buzz \n",
            "Fizz 82 83 Fizz Buzz 86 Fizz 88 89 FizzBuzz \n",
            "91 92 Fizz 94 Buzz Fizz 97 98 Fizz Buzz \n"
          ],
          "name": "stdout"
        }
      ]
    },
    {
      "cell_type": "markdown",
      "metadata": {
        "id": "SFPb20ruz6Ap"
      },
      "source": [
        "## 16.3 시퀀스(Sequence) 객체 반복"
      ]
    },
    {
      "cell_type": "code",
      "metadata": {
        "colab": {
          "base_uri": "https://localhost:8080/"
        },
        "id": "o3TJMCF8zhN9",
        "outputId": "91665899-1760-41a3-8a14-95abf711367e"
      },
      "source": [
        "fruits_list = ['apple', 'banana', 'cherry']\n",
        "for element in fruits_list:\n",
        "    print(element)"
      ],
      "execution_count": 14,
      "outputs": [
        {
          "output_type": "stream",
          "text": [
            "apple\n",
            "banana\n",
            "cherry\n"
          ],
          "name": "stdout"
        }
      ]
    },
    {
      "cell_type": "code",
      "metadata": {
        "colab": {
          "base_uri": "https://localhost:8080/"
        },
        "id": "oCzTKos30_5J",
        "outputId": "b40d0bf3-a22f-4d07-8600-120736e44905"
      },
      "source": [
        "fruits_list = ['apple', 'banana', 'cherry']\n",
        "for fruit in fruits_list:\n",
        "    print(fruit)"
      ],
      "execution_count": 15,
      "outputs": [
        {
          "output_type": "stream",
          "text": [
            "apple\n",
            "banana\n",
            "cherry\n"
          ],
          "name": "stdout"
        }
      ]
    },
    {
      "cell_type": "code",
      "metadata": {
        "colab": {
          "base_uri": "https://localhost:8080/"
        },
        "id": "zQSLsH6s2URF",
        "outputId": "8e39976e-e841-4748-ff00-96742bc4165a"
      },
      "source": [
        "for letter in 'Python':\n",
        "    print(letter, end = ' ')"
      ],
      "execution_count": 17,
      "outputs": [
        {
          "output_type": "stream",
          "text": [
            "P y t h o n "
          ],
          "name": "stdout"
        }
      ]
    },
    {
      "cell_type": "code",
      "metadata": {
        "colab": {
          "base_uri": "https://localhost:8080/"
        },
        "id": "0VFylVTU2ZvW",
        "outputId": "7de52da0-776f-4a49-f08d-b981d72609c0"
      },
      "source": [
        "for chracter in reversed('Python'):\n",
        "    print(chracter, end = ' ')"
      ],
      "execution_count": 18,
      "outputs": [
        {
          "output_type": "stream",
          "text": [
            "n o h t y P "
          ],
          "name": "stdout"
        }
      ]
    },
    {
      "cell_type": "code",
      "metadata": {
        "colab": {
          "base_uri": "https://localhost:8080/"
        },
        "id": "7OzG0o1f3BwL",
        "outputId": "fefdbd15-5ff0-4d40-9c75-4f7a268a137d"
      },
      "source": [
        "for number in (10, 20, 30):\n",
        "    print(number)"
      ],
      "execution_count": 19,
      "outputs": [
        {
          "output_type": "stream",
          "text": [
            "10\n",
            "20\n",
            "30\n"
          ],
          "name": "stdout"
        }
      ]
    },
    {
      "cell_type": "markdown",
      "metadata": {
        "id": "uqc93jda3iaX"
      },
      "source": [
        "### Perfect Number\n",
        "- 자기 자신을 제외한 약수의 합이 자기 자신과 같은 수\n",
        "- 예) 6의 약수 : 1, 2, 3, 6 -> 6 = 1 + 2 + 3\n",
        "- 10,000 이하의 자연수 중에서 4개 존재"
      ]
    },
    {
      "cell_type": "code",
      "metadata": {
        "colab": {
          "base_uri": "https://localhost:8080/"
        },
        "id": "1RmsaDmY3aFQ",
        "outputId": "1146b3b7-eb91-4664-c7dd-aa34aa4abd2b"
      },
      "source": [
        "for per_num in range(2, 10001):\n",
        "    sum = 0\n",
        "    for div in range(1, per_num):\n",
        "        if per_num % div == 0:\n",
        "            sum += div\n",
        "    if per_num == sum:\n",
        "        print(per_num)"
      ],
      "execution_count": 32,
      "outputs": [
        {
          "output_type": "stream",
          "text": [
            "6\n",
            "28\n",
            "496\n",
            "8128\n"
          ],
          "name": "stdout"
        }
      ]
    }
  ]
}