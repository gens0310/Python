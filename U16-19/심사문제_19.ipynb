{
  "nbformat": 4,
  "nbformat_minor": 0,
  "metadata": {
    "colab": {
      "name": "심사문제 19.ipynb",
      "provenance": [],
      "collapsed_sections": []
    },
    "kernelspec": {
      "name": "python3",
      "display_name": "Python 3"
    },
    "language_info": {
      "name": "python"
    }
  },
  "cells": [
    {
      "cell_type": "markdown",
      "metadata": {
        "id": "NKcRIhHjLaRy"
      },
      "source": [
        "# 심사문제 19"
      ]
    },
    {
      "cell_type": "markdown",
      "metadata": {
        "id": "jrPXdeZdLaFo"
      },
      "source": [
        "## 표준 입력으로 삼각형의 높이가 입력됩니다. 입력된 높이만큼 산 모양으로 별을 출력하는 프로그램을 만드세요(input에서 안내 문자열은 출력하지 않아야 합니다). 이때 출력 결과는 예제와 정확히 일치해야 합니다. 모양이 같더라도 공백이나 빈 줄이 더 들어가면 틀린 것으로 처리됩니다."
      ]
    },
    {
      "cell_type": "markdown",
      "metadata": {
        "id": "7mtnYSPDLaCn"
      },
      "source": [
        "### judge_star_mountain.py\n",
        "________________\n",
        "________________\n",
        "________________\n",
        "________________\n",
        "________________\n",
        "________________\n",
        "________________\n",
        "________________\n",
        "________________\n",
        "________________\n",
        "________________"
      ]
    },
    {
      "cell_type": "code",
      "metadata": {
        "id": "IdOKJCgxLZWW",
        "colab": {
          "base_uri": "https://localhost:8080/"
        },
        "outputId": "6d990ecb-f246-4459-c77a-60b4be083ac6"
      },
      "source": [
        "h = int(input())\n",
        "for i in range(h):\n",
        "    for k in reversed(range(h)):\n",
        "        if i < k:\n",
        "            print(' ', end = '')\n",
        "        else:\n",
        "            print('*', end = '')\n",
        "        if i > k:\n",
        "            print('*', end = '')\n",
        "    print()"
      ],
      "execution_count": 1,
      "outputs": [
        {
          "output_type": "stream",
          "text": [
            "5\n",
            "    *\n",
            "   ***\n",
            "  *****\n",
            " *******\n",
            "*********\n"
          ],
          "name": "stdout"
        }
      ]
    }
  ]
}