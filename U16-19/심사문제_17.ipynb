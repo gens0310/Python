{
  "nbformat": 4,
  "nbformat_minor": 0,
  "metadata": {
    "colab": {
      "name": "심사문제 17.ipynb",
      "provenance": [],
      "collapsed_sections": []
    },
    "kernelspec": {
      "name": "python3",
      "display_name": "Python 3"
    },
    "language_info": {
      "name": "python"
    }
  },
  "cells": [
    {
      "cell_type": "markdown",
      "metadata": {
        "id": "LQrwJwmDLJlI"
      },
      "source": [
        "# 심사문제 17"
      ]
    },
    {
      "cell_type": "markdown",
      "metadata": {
        "id": "Gg2BFoX4LJgj"
      },
      "source": [
        "## 표준 입력으로 금액(정수)이 입력됩니다. 1회당 요금은 1,350원이고, 교통카드를 사용했을 때마다의 잔액을 각 줄에 출력하는 프로그램을 만드세요(input에서 안내 문자열은 출력하지 않아야 합니다). 단, 최초 금액은 출력하지 않아야 합니다. 그리고 잔액은 음수가 될 수 없으며 잔액이 부족하면 출력을 끝냅니다."
      ]
    },
    {
      "cell_type": "markdown",
      "metadata": {
        "id": "C_icqx3mLJas"
      },
      "source": [
        "### judge_while.py\n",
        "________________\n",
        "________________\n",
        "________________\n",
        "________________"
      ]
    },
    {
      "cell_type": "code",
      "metadata": {
        "id": "S_kmjsLWLBCq",
        "colab": {
          "base_uri": "https://localhost:8080/"
        },
        "outputId": "eea94cbb-4eb2-49d2-c749-27012f5db13e"
      },
      "source": [
        "money = int(input())\n",
        "while money >= 1350:\n",
        "    money -= 1350\n",
        "    print(money)"
      ],
      "execution_count": 3,
      "outputs": [
        {
          "output_type": "stream",
          "text": [
            "13500\n",
            "12150\n",
            "10800\n",
            "9450\n",
            "8100\n",
            "6750\n",
            "5400\n",
            "4050\n",
            "2700\n",
            "1350\n",
            "0\n"
          ],
          "name": "stdout"
        }
      ]
    }
  ]
}