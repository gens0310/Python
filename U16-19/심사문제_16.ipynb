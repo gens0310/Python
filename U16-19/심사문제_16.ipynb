{
  "nbformat": 4,
  "nbformat_minor": 0,
  "metadata": {
    "colab": {
      "name": "심사문제 16.ipynb",
      "provenance": [],
      "collapsed_sections": []
    },
    "kernelspec": {
      "name": "python3",
      "display_name": "Python 3"
    },
    "language_info": {
      "name": "python"
    }
  },
  "cells": [
    {
      "cell_type": "markdown",
      "metadata": {
        "id": "9DJeJR0JK4oR"
      },
      "source": [
        "# 심사문제 16"
      ]
    },
    {
      "cell_type": "markdown",
      "metadata": {
        "id": "L6-JiJ4GK491"
      },
      "source": [
        "## 표준 입력으로 정수가 입력됩니다. 입력된 정수의 구구단을 출력하는 프로그램을 만드세요(input에서 안내 문자열은 출력하지 않아야 합니다). 출력 형식은 숫자 * 숫자 = 숫자처럼 만들고 숫자와 *, = 사이는 공백을 한 칸 띄웁니다."
      ]
    },
    {
      "cell_type": "markdown",
      "metadata": {
        "id": "qWwdHR0CK5YE"
      },
      "source": [
        "### judge_for_range_multiplication_table.py\n",
        "________________\n",
        "________________\n",
        "________________"
      ]
    },
    {
      "cell_type": "code",
      "metadata": {
        "id": "c1Dw6Et5K2Bx",
        "colab": {
          "base_uri": "https://localhost:8080/"
        },
        "outputId": "ac73a554-f07b-494f-baec-bf69bb67d703"
      },
      "source": [
        "number = int(input())\n",
        "for i in range(1, 10, 1):\n",
        "    print(f'{number} * {i} = {number * i}')"
      ],
      "execution_count": 7,
      "outputs": [
        {
          "output_type": "stream",
          "text": [
            "4\n",
            "4 * 1 = 4\n",
            "4 * 2 = 8\n",
            "4 * 3 = 12\n",
            "4 * 4 = 16\n",
            "4 * 5 = 20\n",
            "4 * 6 = 24\n",
            "4 * 7 = 28\n",
            "4 * 8 = 32\n",
            "4 * 9 = 36\n"
          ],
          "name": "stdout"
        }
      ]
    }
  ]
}