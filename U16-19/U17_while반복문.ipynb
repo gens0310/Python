{
  "nbformat": 4,
  "nbformat_minor": 0,
  "metadata": {
    "colab": {
      "name": "U17_while반복문.ipynb",
      "provenance": [],
      "collapsed_sections": []
    },
    "kernelspec": {
      "name": "python3",
      "display_name": "Python 3"
    },
    "language_info": {
      "name": "python"
    }
  },
  "cells": [
    {
      "cell_type": "markdown",
      "metadata": {
        "id": "3N6JKBvLJcXf"
      },
      "source": [
        "# Unit 17. while 반복문"
      ]
    },
    {
      "cell_type": "markdown",
      "metadata": {
        "id": "sBuQbEGIA1Kk"
      },
      "source": [
        "## 17.1 반복횟수 정해짐\n",
        "- 반복횟수가 정해진 반복문은 되도록이면 while을 사용하지 않아야"
      ]
    },
    {
      "cell_type": "markdown",
      "metadata": {
        "id": "GRJL42dsBzOG"
      },
      "source": [
        "## 17.2 반복횟수 정해지지 않음"
      ]
    },
    {
      "cell_type": "code",
      "metadata": {
        "id": "AItAu3cPByni"
      },
      "source": [
        "import random"
      ],
      "execution_count": 2,
      "outputs": []
    },
    {
      "cell_type": "code",
      "metadata": {
        "colab": {
          "base_uri": "https://localhost:8080/"
        },
        "id": "Xr0fS4VKCT0M",
        "outputId": "6003b0ac-3c82-47c1-8f25-3301e1844430"
      },
      "source": [
        "random.random()"
      ],
      "execution_count": 3,
      "outputs": [
        {
          "output_type": "execute_result",
          "data": {
            "text/plain": [
              "0.7226311277090095"
            ]
          },
          "metadata": {
            "tags": []
          },
          "execution_count": 3
        }
      ]
    },
    {
      "cell_type": "code",
      "metadata": {
        "colab": {
          "base_uri": "https://localhost:8080/"
        },
        "id": "pHOUW7p9CWZ0",
        "outputId": "8384864a-2670-4e46-aaad-bc6e3bf94559"
      },
      "source": [
        "random.randint(1, 6)"
      ],
      "execution_count": 5,
      "outputs": [
        {
          "output_type": "execute_result",
          "data": {
            "text/plain": [
              "4"
            ]
          },
          "metadata": {
            "tags": []
          },
          "execution_count": 5
        }
      ]
    },
    {
      "cell_type": "code",
      "metadata": {
        "colab": {
          "base_uri": "https://localhost:8080/"
        },
        "id": "S9qwvnHECfnz",
        "outputId": "6bff6211-875f-4f12-a2e8-7fb63e755402"
      },
      "source": [
        "import random\n",
        "i = 0\n",
        "while i != 3:\n",
        "    i = random.randint(1, 6)\n",
        "    print(i)"
      ],
      "execution_count": 7,
      "outputs": [
        {
          "output_type": "stream",
          "text": [
            "6\n",
            "4\n",
            "1\n",
            "3\n"
          ],
          "name": "stdout"
        }
      ]
    },
    {
      "cell_type": "code",
      "metadata": {
        "colab": {
          "base_uri": "https://localhost:8080/"
        },
        "id": "m4acTMHMC4eh",
        "outputId": "0afad80b-e65d-4482-ee1b-c45fd8706046"
      },
      "source": [
        "import random\n",
        "j = 0\n",
        "k = 0\n",
        "dice = list(range(1, 7))\n",
        "dice1 = [1, 2, 3, 4, 5, 6]\n",
        "while j != 3:\n",
        "    j = random.choice(dice)\n",
        "    print(j)\n",
        "print()\n",
        "while k != 2:\n",
        "    k = random.choice(dice)\n",
        "    print(k)"
      ],
      "execution_count": 11,
      "outputs": [
        {
          "output_type": "stream",
          "text": [
            "1\n",
            "1\n",
            "6\n",
            "5\n",
            "5\n",
            "3\n",
            "\n",
            "1\n",
            "6\n",
            "3\n",
            "3\n",
            "1\n",
            "6\n",
            "4\n",
            "6\n",
            "1\n",
            "4\n",
            "2\n"
          ],
          "name": "stdout"
        }
      ]
    },
    {
      "cell_type": "code",
      "metadata": {
        "colab": {
          "base_uri": "https://localhost:8080/"
        },
        "id": "BMibqnI0Damy",
        "outputId": "897c1e15-396c-41da-d6ae-549349ca971b"
      },
      "source": [
        "random.sample(dice, 6)"
      ],
      "execution_count": 12,
      "outputs": [
        {
          "output_type": "execute_result",
          "data": {
            "text/plain": [
              "[2, 3, 1, 4, 5, 6]"
            ]
          },
          "metadata": {
            "tags": []
          },
          "execution_count": 12
        }
      ]
    }
  ]
}