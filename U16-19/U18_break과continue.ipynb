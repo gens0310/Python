{
  "nbformat": 4,
  "nbformat_minor": 0,
  "metadata": {
    "colab": {
      "name": "U18_break과continue.ipynb",
      "provenance": [],
      "collapsed_sections": []
    },
    "kernelspec": {
      "name": "python3",
      "display_name": "Python 3"
    },
    "language_info": {
      "name": "python"
    }
  },
  "cells": [
    {
      "cell_type": "markdown",
      "metadata": {
        "id": "Ue3wQLZxJr9p"
      },
      "source": [
        "# Unit 18. break과 continue"
      ]
    },
    {
      "cell_type": "markdown",
      "metadata": {
        "id": "XlvZ1Ph9FMJx"
      },
      "source": [
        "## 18.1 break"
      ]
    },
    {
      "cell_type": "code",
      "metadata": {
        "id": "UW1csGaUJjzG"
      },
      "source": [
        "import random"
      ],
      "execution_count": 1,
      "outputs": []
    },
    {
      "cell_type": "code",
      "metadata": {
        "colab": {
          "base_uri": "https://localhost:8080/"
        },
        "id": "RXm6dURDFRUU",
        "outputId": "a335738e-eeac-4f88-ed57-3a6effad6a19"
      },
      "source": [
        "while True:\n",
        "    i = random.randint(1, 6)\n",
        "    print(i)\n",
        "    if i == 3:\n",
        "        break"
      ],
      "execution_count": 2,
      "outputs": [
        {
          "output_type": "stream",
          "text": [
            "4\n",
            "2\n",
            "1\n",
            "2\n",
            "5\n",
            "2\n",
            "5\n",
            "4\n",
            "5\n",
            "5\n",
            "2\n",
            "2\n",
            "5\n",
            "6\n",
            "5\n",
            "4\n",
            "4\n",
            "5\n",
            "2\n",
            "2\n",
            "4\n",
            "2\n",
            "4\n",
            "2\n",
            "5\n",
            "3\n"
          ],
          "name": "stdout"
        }
      ]
    },
    {
      "cell_type": "code",
      "metadata": {
        "colab": {
          "base_uri": "https://localhost:8080/"
        },
        "id": "N52TA0X_FdbU",
        "outputId": "08ca2f5c-b0ba-4acf-bba4-493fc5225336"
      },
      "source": [
        "for i in range(5):\n",
        "    print(i, end = ' ')\n",
        "    for k in range(5):\n",
        "        print('*', end = '')\n",
        "        if i == k:\n",
        "            break\n",
        "    print()"
      ],
      "execution_count": 7,
      "outputs": [
        {
          "output_type": "stream",
          "text": [
            "0 *\n",
            "1 **\n",
            "2 ***\n",
            "3 ****\n",
            "4 *****\n"
          ],
          "name": "stdout"
        }
      ]
    },
    {
      "cell_type": "markdown",
      "metadata": {
        "id": "7WI0AQCwGx_m"
      },
      "source": [
        "## 18.2 continue"
      ]
    },
    {
      "cell_type": "code",
      "metadata": {
        "colab": {
          "base_uri": "https://localhost:8080/"
        },
        "id": "glIk7brDGMo5",
        "outputId": "307b3d7c-67b6-48f1-fb6b-d37b5aa652ab"
      },
      "source": [
        "for i in range(10):\n",
        "    if i % 2 == 0:\n",
        "        continue\n",
        "    print(i)"
      ],
      "execution_count": 8,
      "outputs": [
        {
          "output_type": "stream",
          "text": [
            "1\n",
            "3\n",
            "5\n",
            "7\n",
            "9\n"
          ],
          "name": "stdout"
        }
      ]
    }
  ]
}