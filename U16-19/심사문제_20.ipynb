{
  "nbformat": 4,
  "nbformat_minor": 0,
  "metadata": {
    "colab": {
      "name": "심사문제 20.ipynb",
      "provenance": [],
      "collapsed_sections": []
    },
    "kernelspec": {
      "name": "python3",
      "display_name": "Python 3"
    },
    "language_info": {
      "name": "python"
    }
  },
  "cells": [
    {
      "cell_type": "markdown",
      "metadata": {
        "id": "92LnnCGHLpY3"
      },
      "source": [
        "# 심사문제 20"
      ]
    },
    {
      "cell_type": "markdown",
      "metadata": {
        "id": "qLCaUSyELpRh"
      },
      "source": [
        "## 표준 입력으로 정수 두 개가 입력됩니다(첫 번째 입력 값의 범위는 1~1000, 두 번째 입력 값의 범위는 10~1000이며 첫 번째 입력 값은 두 번째 입력 값보다 항상 작습니다). 첫 번째 정수부터 두 번째 정수까지 숫자를 출력하면서 5의 배수일 때는 'Fizz', 7의 배수일 때는 'Buzz', 5와 7의 공배수일 때는 'FizzBuzz'를 출력하는 프로그램을 만드세요(input에서 안내 문자열은 출력하지 않아야 합니다)."
      ]
    },
    {
      "cell_type": "markdown",
      "metadata": {
        "id": "zwrxpHanLpKU"
      },
      "source": [
        "### judge_fizzbuzz_5_7.py\n",
        "________________\n",
        "________________\n",
        "________________\n",
        "________________\n",
        "________________\n",
        "________________\n",
        "________________\n",
        "________________\n",
        "________________\n",
        "________________"
      ]
    },
    {
      "cell_type": "code",
      "metadata": {
        "id": "aqKPPEpXLmWQ",
        "colab": {
          "base_uri": "https://localhost:8080/"
        },
        "outputId": "eddd5dd8-c4cc-4bd8-ff0e-7f170ca74258"
      },
      "source": [
        "a, b = map(int, input().split())\n",
        "for i in range(a, b + 1):\n",
        "    print('Fizz' * (i % 5 == 0) + 'Buzz' * (i % 7 == 0) or i)"
      ],
      "execution_count": 1,
      "outputs": [
        {
          "output_type": "stream",
          "text": [
            "25 49\n",
            "Fizz\n",
            "26\n",
            "27\n",
            "Buzz\n",
            "29\n",
            "Fizz\n",
            "31\n",
            "32\n",
            "33\n",
            "34\n",
            "FizzBuzz\n",
            "36\n",
            "37\n",
            "38\n",
            "39\n",
            "Fizz\n",
            "41\n",
            "Buzz\n",
            "43\n",
            "44\n",
            "Fizz\n",
            "46\n",
            "47\n",
            "48\n",
            "Buzz\n"
          ],
          "name": "stdout"
        }
      ]
    }
  ]
}