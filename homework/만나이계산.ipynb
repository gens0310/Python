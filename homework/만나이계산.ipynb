{
  "nbformat": 4,
  "nbformat_minor": 0,
  "metadata": {
    "colab": {
      "name": "만나이계산.ipynb",
      "provenance": [],
      "collapsed_sections": []
    },
    "kernelspec": {
      "name": "python3",
      "display_name": "Python 3"
    },
    "language_info": {
      "name": "python"
    }
  },
  "cells": [
    {
      "cell_type": "markdown",
      "metadata": {
        "id": "4JXKccCdYX24"
      },
      "source": [
        "## 본인의 생일을 1998 12 15 과 같이 년 월 일로 입력받아\u000b오늘 날짜의 만 나이를 구하는 프로그램을 작성하시오."
      ]
    },
    {
      "cell_type": "code",
      "metadata": {
        "colab": {
          "base_uri": "https://localhost:8080/"
        },
        "id": "Ws-qZxZ-TKBp",
        "outputId": "e7065bc5-d054-4816-973c-d3be5a61190c"
      },
      "source": [
        "year, month, day = map(int, input().split())\n",
        "from datetime import date\n",
        "today = date.today()\n",
        "old = today.year - year\n",
        "if today.month <= month:\n",
        "    if today.day < day:\n",
        "        old -= 1\n",
        "print(old)"
      ],
      "execution_count": 9,
      "outputs": [
        {
          "output_type": "stream",
          "text": [
            "2000 7 30\n",
            "20\n"
          ],
          "name": "stdout"
        }
      ]
    }
  ]
}