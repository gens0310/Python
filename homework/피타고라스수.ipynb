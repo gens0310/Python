{
  "nbformat": 4,
  "nbformat_minor": 0,
  "metadata": {
    "colab": {
      "name": "피타고라스수.ipynb",
      "provenance": [],
      "collapsed_sections": []
    },
    "kernelspec": {
      "name": "python3",
      "display_name": "Python 3"
    },
    "language_info": {
      "name": "python"
    }
  },
  "cells": [
    {
      "cell_type": "markdown",
      "metadata": {
        "id": "oWrrvMxnDdtl"
      },
      "source": [
        "# 피타고라스 수"
      ]
    },
    {
      "cell_type": "markdown",
      "metadata": {
        "id": "aYXy3YZNDiIX"
      },
      "source": [
        "## 조건\n",
        "- a + b + c = 1000, (a < b < c)\n",
        "- a * a + b * b = c * c"
      ]
    },
    {
      "cell_type": "code",
      "metadata": {
        "colab": {
          "base_uri": "https://localhost:8080/"
        },
        "id": "KHgvUzKoDW6P",
        "outputId": "b2131faa-5832-4b36-ac98-3ddec6b9cf96"
      },
      "source": [
        "for a in range(1, 1001):\n",
        "    for b in range(1, 1001):\n",
        "        c = 1000 - a - b\n",
        "        if a * a + b * b == c * c and a < b < c:\n",
        "            print(a, b, c)"
      ],
      "execution_count": 2,
      "outputs": [
        {
          "output_type": "stream",
          "text": [
            "200 375 425\n"
          ],
          "name": "stdout"
        }
      ]
    }
  ]
}