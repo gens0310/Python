{
  "nbformat": 4,
  "nbformat_minor": 0,
  "metadata": {
    "colab": {
      "name": "6회차_김진혁.ipynb",
      "provenance": [],
      "collapsed_sections": []
    },
    "kernelspec": {
      "name": "python3",
      "display_name": "Python 3"
    },
    "language_info": {
      "name": "python"
    }
  },
  "cells": [
    {
      "cell_type": "markdown",
      "metadata": {
        "id": "KuWI9Mrf98Jx"
      },
      "source": [
        "# 심사문제 22"
      ]
    },
    {
      "cell_type": "code",
      "metadata": {
        "colab": {
          "base_uri": "https://localhost:8080/"
        },
        "id": "vsj4MjcN94Jp",
        "outputId": "eeb55a3b-bc32-456c-f937-01f8c0044d61"
      },
      "source": [
        "start, stop = map(int, input().split())\n",
        "a = [2 ** i for i in range(start, stop + 1)]\n",
        "del a[1]\n",
        "del a[-2]\n",
        "print(a)"
      ],
      "execution_count": 1,
      "outputs": [
        {
          "output_type": "stream",
          "text": [
            "1 10\n",
            "[2, 8, 16, 32, 64, 128, 256, 1024]\n"
          ],
          "name": "stdout"
        }
      ]
    },
    {
      "cell_type": "markdown",
      "metadata": {
        "id": "MGjmliFi98tf"
      },
      "source": [
        "# 심사문제 23"
      ]
    },
    {
      "cell_type": "code",
      "metadata": {
        "colab": {
          "base_uri": "https://localhost:8080/"
        },
        "id": "MxrKWp2Y99d-",
        "outputId": "ed98aca0-8a73-41bc-a839-f71c1fe32c96"
      },
      "source": [
        "row, col = map(int, input().split())\n",
        "matrix = []\n",
        "for i in range(col):\n",
        "    matrix.append(list(input()))\n",
        "for i in range(col):\n",
        "    for k in range(row):\n",
        "        if matrix[i][k] == '*':\n",
        "            print(matrix[i][k], sep = '', end = '')\n",
        "        else:\n",
        "            count = 0\n",
        "            for x in range(i - 1, i + 2):\n",
        "                for y in range(k - 1, k + 2):\n",
        "                    if x < 0 or y < 0 or x >= col or y >= row:\n",
        "                        continue\n",
        "                    elif matrix[x][y]=='*':\n",
        "                        count += 1\n",
        "            print(count, sep = '', end = '')                          \n",
        "    print()"
      ],
      "execution_count": 2,
      "outputs": [
        {
          "output_type": "stream",
          "text": [
            "3 3\n",
            "..*\n",
            ".*.\n",
            "*..\n",
            "12*\n",
            "2*2\n",
            "*21\n"
          ],
          "name": "stdout"
        }
      ]
    },
    {
      "cell_type": "markdown",
      "metadata": {
        "id": "b2akURSg996H"
      },
      "source": [
        "# 심사문제 24-1"
      ]
    },
    {
      "cell_type": "code",
      "metadata": {
        "colab": {
          "base_uri": "https://localhost:8080/"
        },
        "id": "-69Nt4Rp9-6-",
        "outputId": "9b16f148-96b8-4aac-e3bf-794ceaca70ed"
      },
      "source": [
        "import string\n",
        "x = str(input())\n",
        "a = []\n",
        "for i in x:\n",
        "  a.append(i.translate(x.maketrans('', '', string.punctuation)))\n",
        "x = ''.join(a)\n",
        "x = x.split()\n",
        "print(x.count('the'))"
      ],
      "execution_count": 3,
      "outputs": [
        {
          "output_type": "stream",
          "text": [
            "the grown-ups' response, this time, was to advise me to lay aside my drawings of boa constrictors, whether from the inside or the outside, and devote myself instead to geography, history, arithmetic, and grammar. That is why, at the, age of six, I gave up what might have been a magnificent career as a painter. I had been disheartened by the failure of my Drawing Number One and my Drawing Number Two. Grown-ups never understand anything by themselves, and it is tiresome for children to be always and forever explaining things to the.\n",
            "6\n"
          ],
          "name": "stdout"
        }
      ]
    },
    {
      "cell_type": "markdown",
      "metadata": {
        "id": "88VyZc-F9_3W"
      },
      "source": [
        "# 심사문제 24-2"
      ]
    },
    {
      "cell_type": "code",
      "metadata": {
        "colab": {
          "base_uri": "https://localhost:8080/"
        },
        "id": "S7hU3cUk-Aau",
        "outputId": "035154dc-932a-45dc-818e-206ee09e6a11"
      },
      "source": [
        "a = list(map(int, input().split(';')))\n",
        "a.sort(reverse=True)\n",
        "for price in a:\n",
        "  print('{:>9,}'.format(price))"
      ],
      "execution_count": 4,
      "outputs": [
        {
          "output_type": "stream",
          "text": [
            "5600;23400;1230;43200;23200;65000\n",
            "   65,000\n",
            "   43,200\n",
            "   23,400\n",
            "   23,200\n",
            "    5,600\n",
            "    1,230\n"
          ],
          "name": "stdout"
        }
      ]
    },
    {
      "cell_type": "markdown",
      "metadata": {
        "id": "S7GSIGnc-A5F"
      },
      "source": [
        "# 심사문제 25"
      ]
    },
    {
      "cell_type": "code",
      "metadata": {
        "colab": {
          "base_uri": "https://localhost:8080/"
        },
        "id": "cjxo5AxM-BmH",
        "outputId": "4da95c2a-d35b-42c6-b62c-bc93b2c90026"
      },
      "source": [
        "keys = input().split()\n",
        "values = map(int, input().split())\n",
        "x = dict(zip(keys, values))\n",
        "x.pop('delta')\n",
        "x = {key: value for key, value in x.items() if value != 30}\n",
        "print(x)"
      ],
      "execution_count": 5,
      "outputs": [
        {
          "output_type": "stream",
          "text": [
            "alpha bravo charlie delta\n",
            "10 20 30 40\n",
            "{'alpha': 10, 'bravo': 20}\n"
          ],
          "name": "stdout"
        }
      ]
    },
    {
      "cell_type": "markdown",
      "metadata": {
        "id": "Rb8S-phD-B-N"
      },
      "source": [
        "# 심사문제 26"
      ]
    },
    {
      "cell_type": "code",
      "metadata": {
        "colab": {
          "base_uri": "https://localhost:8080/"
        },
        "id": "0Dmcdtqo-Ceu",
        "outputId": "e6ab158d-b626-4c63-fb9e-de99ccb7f062"
      },
      "source": [
        "x, y = map(int, input().split())\n",
        "a = {i for i in range(1, x + 1) if x % i == 0}\n",
        "b = {i for i in range(1, y + 1) if y % i == 0}\n",
        "divisor = a & b\n",
        "result = 0\n",
        "if type(divisor) == set:\n",
        "    result = sum(divisor)\n",
        "print(result)"
      ],
      "execution_count": 6,
      "outputs": [
        {
          "output_type": "stream",
          "text": [
            "10 20\n",
            "18\n"
          ],
          "name": "stdout"
        }
      ]
    }
  ]
}