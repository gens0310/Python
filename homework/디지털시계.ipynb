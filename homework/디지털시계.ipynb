{
  "nbformat": 4,
  "nbformat_minor": 0,
  "metadata": {
    "colab": {
      "name": "디지털시계.ipynb",
      "provenance": [],
      "collapsed_sections": []
    },
    "kernelspec": {
      "name": "python3",
      "display_name": "Python 3"
    },
    "language_info": {
      "name": "python"
    }
  },
  "cells": [
    {
      "cell_type": "markdown",
      "metadata": {
        "id": "8ftk1iR_XaCH"
      },
      "source": [
        "## 디지털 시계에 하루동안(00:00~23:59) 3이 표시되는 시간을 초로 환산하면 총 몇 초(second) \u000b일까요?\u000b- 디지털 시계는 하루동안 다음과 같이 시:분(00:00~23:59)으로 표시됨."
      ]
    },
    {
      "cell_type": "code",
      "metadata": {
        "colab": {
          "base_uri": "https://localhost:8080/"
        },
        "id": "eDL7ws39W7eH",
        "outputId": "fb0ee852-41c7-4abf-c414-88eff1ac668a"
      },
      "source": [
        "summary = 0\n",
        "for hour in range(0, 24):\n",
        "    if hour % 10 == 3:\n",
        "        summary += 3600\n",
        "    else:\n",
        "        for minute1 in range(0, 6):\n",
        "            if minute1 == 3:\n",
        "                summary += 600\n",
        "            else:\n",
        "                for minute2 in range(0, 10):\n",
        "                    if minute2 == 3:\n",
        "                        summary += 60\n",
        "print(summary)"
      ],
      "execution_count": 4,
      "outputs": [
        {
          "output_type": "stream",
          "text": [
            "29700\n"
          ],
          "name": "stdout"
        }
      ]
    }
  ]
}