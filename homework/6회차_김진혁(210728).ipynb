{
  "nbformat": 4,
  "nbformat_minor": 0,
  "metadata": {
    "colab": {
      "name": "6회차_김진혁.ipynb",
      "provenance": [],
      "collapsed_sections": []
    },
    "kernelspec": {
      "name": "python3",
      "display_name": "Python 3"
    },
    "language_info": {
      "name": "python"
    }
  },
  "cells": [
    {
      "cell_type": "markdown",
      "metadata": {
        "id": "POcSVhYr0_cd"
      },
      "source": [
        "# 심사문제 08"
      ]
    },
    {
      "cell_type": "code",
      "metadata": {
        "id": "vagc_bwz1So1",
        "colab": {
          "base_uri": "https://localhost:8080/"
        },
        "outputId": "ebff6d28-d00b-421d-defd-369d5d426dab"
      },
      "source": [
        "kor, eng, mat, sci = map(int, input().split())\n",
        "print(kor >= 90 and eng > 80 and mat > 85 and sci >= 80)"
      ],
      "execution_count": 2,
      "outputs": [
        {
          "output_type": "stream",
          "text": [
            "90 80 85 80\n",
            "False\n"
          ],
          "name": "stdout"
        }
      ]
    },
    {
      "cell_type": "markdown",
      "metadata": {
        "id": "O6UiNn9t1C6M"
      },
      "source": [
        "# 심사문제 09"
      ]
    },
    {
      "cell_type": "code",
      "metadata": {
        "colab": {
          "base_uri": "https://localhost:8080/"
        },
        "id": "YImkiJQ71o-2",
        "outputId": "84935197-b3d0-4034-df89-6b7cea1f71b3"
      },
      "source": [
        "s = ''''Python' is a \"programming language\"\n",
        "that lets you work quickly\n",
        "and\n",
        "integrate systems more effectively.'''\n",
        "print(s)"
      ],
      "execution_count": 5,
      "outputs": [
        {
          "output_type": "stream",
          "text": [
            "'Python' is a \"programming language\"\n",
            "that lets you work quickly\n",
            "and\n",
            "integrate systems more effectively.\n"
          ],
          "name": "stdout"
        }
      ]
    },
    {
      "cell_type": "markdown",
      "metadata": {
        "id": "JqBeDcRf1E5e"
      },
      "source": [
        "# 심사문제 10"
      ]
    },
    {
      "cell_type": "code",
      "metadata": {
        "colab": {
          "base_uri": "https://localhost:8080/"
        },
        "id": "YWCpqVAR2BWR",
        "outputId": "b206e198-0b9c-420a-caf8-b36f82ea29c0"
      },
      "source": [
        "step = input()\n",
        "a = tuple(range(-10, 10, int(step)))\n",
        "print(a)"
      ],
      "execution_count": 6,
      "outputs": [
        {
          "output_type": "stream",
          "text": [
            "3\n",
            "(-10, -7, -4, -1, 2, 5, 8)\n"
          ],
          "name": "stdout"
        }
      ]
    },
    {
      "cell_type": "markdown",
      "metadata": {
        "id": "Q2XogPNN1H2h"
      },
      "source": [
        "# 심사문제 11-1"
      ]
    },
    {
      "cell_type": "code",
      "metadata": {
        "colab": {
          "base_uri": "https://localhost:8080/"
        },
        "id": "4uRcfRCJ2KCU",
        "outputId": "b0814aaf-fcdb-4394-ebb0-00e50986d5d5"
      },
      "source": [
        "x = input().split()\n",
        "del x[-5:]\n",
        "print(tuple(x))"
      ],
      "execution_count": 7,
      "outputs": [
        {
          "output_type": "stream",
          "text": [
            "1 2 3 4 5 6 7 8 9 10\n",
            "('1', '2', '3', '4', '5')\n"
          ],
          "name": "stdout"
        }
      ]
    },
    {
      "cell_type": "markdown",
      "metadata": {
        "id": "HDwwYDCq1KAg"
      },
      "source": [
        "# 심사문제 11-2"
      ]
    },
    {
      "cell_type": "code",
      "metadata": {
        "colab": {
          "base_uri": "https://localhost:8080/"
        },
        "id": "pYdO0p-V2cEe",
        "outputId": "71d9d045-7c62-42b7-b2bb-6c565ed581b3"
      },
      "source": [
        "a = input()\n",
        "b = input()\n",
        "print(a[1::2]+b[0::2])"
      ],
      "execution_count": 8,
      "outputs": [
        {
          "output_type": "stream",
          "text": [
            "python\n",
            "python\n",
            "yhnpto\n"
          ],
          "name": "stdout"
        }
      ]
    },
    {
      "cell_type": "markdown",
      "metadata": {
        "id": "8L9gFEja1Mu0"
      },
      "source": [
        "# 심사문제 13"
      ]
    },
    {
      "cell_type": "code",
      "metadata": {
        "colab": {
          "base_uri": "https://localhost:8080/"
        },
        "id": "E-EoaoCT2l2c",
        "outputId": "1d4e6d3b-3ba1-497c-87ed-204dc7736341"
      },
      "source": [
        "a = int(input())\n",
        "b = input()\n",
        "if b == 'Cash3000':\n",
        "    print(a-3000)\n",
        "if b == 'Cash5000':\n",
        "    print(a-5000)"
      ],
      "execution_count": 9,
      "outputs": [
        {
          "output_type": "stream",
          "text": [
            "27000\n",
            "Cash5000\n",
            "22000\n"
          ],
          "name": "stdout"
        }
      ]
    },
    {
      "cell_type": "markdown",
      "metadata": {
        "id": "7RJWfvFm1Cn6"
      },
      "source": [
        "# 심사문제 14"
      ]
    },
    {
      "cell_type": "code",
      "metadata": {
        "id": "1hY8YZK4068U",
        "colab": {
          "base_uri": "https://localhost:8080/"
        },
        "outputId": "fa6f339e-0636-465b-c4e2-e0fbca7d533f"
      },
      "source": [
        "s = ['kor', 'eng', 'mat', 'sci']\n",
        "n = input().split()\n",
        "d = dict(zip(s, list(map(int, n))))\n",
        "if 0 <= d['kor'] <= 100 and 0 <= d['eng'] <= 100 and 0 <= d['mat'] <= 100 and 0 <= d['sci'] <= 100:\n",
        "    if (d['kor']+d['eng']+d['mat']+d['sci']) / 4 >= 80:\n",
        "        print('합격')\n",
        "    else:\n",
        "        print('불합격')\n",
        "else:\n",
        "    print('잘못된 점수')"
      ],
      "execution_count": 10,
      "outputs": [
        {
          "output_type": "stream",
          "text": [
            "99 85 101 90\n",
            "잘못된 점수\n"
          ],
          "name": "stdout"
        }
      ]
    }
  ]
}