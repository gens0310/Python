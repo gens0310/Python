{
  "nbformat": 4,
  "nbformat_minor": 0,
  "metadata": {
    "colab": {
      "name": "U31_재귀호출.ipynb",
      "provenance": [],
      "collapsed_sections": []
    },
    "kernelspec": {
      "name": "python3",
      "display_name": "Python 3"
    },
    "language_info": {
      "name": "python"
    }
  },
  "cells": [
    {
      "cell_type": "markdown",
      "metadata": {
        "id": "Gf8wEuHWuKCz"
      },
      "source": [
        "# Unit 31. 재귀 호출(Recursive Call)"
      ]
    },
    {
      "cell_type": "markdown",
      "metadata": {
        "id": "kBo13N-RuQcv"
      },
      "source": [
        "## 31.1 재귀 호출"
      ]
    },
    {
      "cell_type": "markdown",
      "metadata": {
        "id": "ebYI_H34uhsl"
      },
      "source": [
        "### Factorial 함수를 재귀 호출로 구현"
      ]
    },
    {
      "cell_type": "code",
      "metadata": {
        "id": "EPG26geUt-xV"
      },
      "source": [
        "def factorial(n):\n",
        "    if n == 0:\n",
        "        return 1\n",
        "    return n * factorial(n - 1)"
      ],
      "execution_count": 1,
      "outputs": []
    },
    {
      "cell_type": "code",
      "metadata": {
        "colab": {
          "base_uri": "https://localhost:8080/"
        },
        "id": "2aJIp31Ou0yg",
        "outputId": "8862df88-dd17-45c7-ec65-71350317492e"
      },
      "source": [
        "factorial(5) # 5 * 4 * 3 * 2 * 1"
      ],
      "execution_count": 2,
      "outputs": [
        {
          "output_type": "execute_result",
          "data": {
            "text/plain": [
              "120"
            ]
          },
          "metadata": {
            "tags": []
          },
          "execution_count": 2
        }
      ]
    },
    {
      "cell_type": "markdown",
      "metadata": {
        "id": "Dh8zQOAVwNa4"
      },
      "source": [
        "### 피보나치 수열(Fibonacci Numbers)\n",
        "- f(n) = f(n-1) + f(n-2), n > =3\n",
        "- f(1) = 1, f(2) = 1"
      ]
    },
    {
      "cell_type": "code",
      "metadata": {
        "id": "woFZNimVvQox"
      },
      "source": [
        "def fibonacci(n):\n",
        "    if n == 0:\n",
        "        return 0\n",
        "    elif n == 1 or n == 2:\n",
        "        return 1\n",
        "    else:\n",
        "        return fibonacci(n - 1) + fibonacci(n - 2)"
      ],
      "execution_count": 3,
      "outputs": []
    },
    {
      "cell_type": "code",
      "metadata": {
        "colab": {
          "base_uri": "https://localhost:8080/"
        },
        "id": "YIIPiU91xB8I",
        "outputId": "783ccc78-d3a6-4e7c-f799-92364c6cef88"
      },
      "source": [
        "fibonacci(5) # f(5) = f(4) + f(3)"
      ],
      "execution_count": 4,
      "outputs": [
        {
          "output_type": "execute_result",
          "data": {
            "text/plain": [
              "5"
            ]
          },
          "metadata": {
            "tags": []
          },
          "execution_count": 4
        }
      ]
    },
    {
      "cell_type": "code",
      "metadata": {
        "colab": {
          "base_uri": "https://localhost:8080/"
        },
        "id": "k_DEzdWoxNk_",
        "outputId": "bdc711c4-cb4a-42cd-f05e-1686069fdcd0"
      },
      "source": [
        "[fibonacci(i) for i in range(1, 11)]"
      ],
      "execution_count": 5,
      "outputs": [
        {
          "output_type": "execute_result",
          "data": {
            "text/plain": [
              "[1, 1, 2, 3, 5, 8, 13, 21, 34, 55]"
            ]
          },
          "metadata": {
            "tags": []
          },
          "execution_count": 5
        }
      ]
    }
  ]
}