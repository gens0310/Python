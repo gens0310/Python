{
  "nbformat": 4,
  "nbformat_minor": 0,
  "metadata": {
    "colab": {
      "name": "U30_위치인수키워드인수.ipynb",
      "provenance": [],
      "collapsed_sections": []
    },
    "kernelspec": {
      "name": "python3",
      "display_name": "Python 3"
    },
    "language_info": {
      "name": "python"
    }
  },
  "cells": [
    {
      "cell_type": "markdown",
      "metadata": {
        "id": "ZiCfxNe1fPZB"
      },
      "source": [
        "# Unit 30. 위치 인수와 키워드 인수"
      ]
    },
    {
      "cell_type": "markdown",
      "metadata": {
        "id": "bEQH8Mz-fPL4"
      },
      "source": [
        "## 30.1 위치 인수"
      ]
    },
    {
      "cell_type": "code",
      "metadata": {
        "colab": {
          "base_uri": "https://localhost:8080/"
        },
        "id": "W2WCkznUfHgw",
        "outputId": "2fcc8204-1830-420f-d7ee-9fe220004b73"
      },
      "source": [
        "print(10, 20, 30)"
      ],
      "execution_count": 1,
      "outputs": [
        {
          "output_type": "stream",
          "text": [
            "10 20 30\n"
          ],
          "name": "stdout"
        }
      ]
    },
    {
      "cell_type": "code",
      "metadata": {
        "colab": {
          "base_uri": "https://localhost:8080/"
        },
        "id": "1bVuSBWOf3L6",
        "outputId": "cf3f1666-faa3-43e9-ad96-b072df87ce5c"
      },
      "source": [
        "print(10, 20, 30, sep = ', ')"
      ],
      "execution_count": 2,
      "outputs": [
        {
          "output_type": "stream",
          "text": [
            "10, 20, 30\n"
          ],
          "name": "stdout"
        }
      ]
    },
    {
      "cell_type": "code",
      "metadata": {
        "colab": {
          "base_uri": "https://localhost:8080/"
        },
        "id": "OBRZJmHVgFJ0",
        "outputId": "98b3dfbc-fb00-448b-e79f-439d958e404b"
      },
      "source": [
        "def print_numbers(a, b, c):\n",
        "    print(a)\n",
        "    print(b)\n",
        "    print(c)\n",
        "print_numbers(10, 20, 30)"
      ],
      "execution_count": 3,
      "outputs": [
        {
          "output_type": "stream",
          "text": [
            "10\n",
            "20\n",
            "30\n"
          ],
          "name": "stdout"
        }
      ]
    },
    {
      "cell_type": "code",
      "metadata": {
        "colab": {
          "base_uri": "https://localhost:8080/"
        },
        "id": "KhfXu---hEvD",
        "outputId": "e6796ee4-d0b0-4756-d2a7-2252cdcb5e5a"
      },
      "source": [
        "x = [10, 20, 30]\n",
        "print_numbers(* x) # List Unpacking"
      ],
      "execution_count": 5,
      "outputs": [
        {
          "output_type": "stream",
          "text": [
            "10\n",
            "20\n",
            "30\n"
          ],
          "name": "stdout"
        }
      ]
    },
    {
      "cell_type": "code",
      "metadata": {
        "colab": {
          "base_uri": "https://localhost:8080/"
        },
        "id": "mzc2p0_NhMy9",
        "outputId": "fc0dfe40-c0ef-4098-e3a8-9f2863ac04af"
      },
      "source": [
        "y = (40, 50, 60)\n",
        "print_numbers(* y) # Tuple Unpacking"
      ],
      "execution_count": 7,
      "outputs": [
        {
          "output_type": "stream",
          "text": [
            "40\n",
            "50\n",
            "60\n"
          ],
          "name": "stdout"
        }
      ]
    },
    {
      "cell_type": "markdown",
      "metadata": {
        "id": "i6VNAexMhxp2"
      },
      "source": [
        "### 가변 인수 함수"
      ]
    },
    {
      "cell_type": "code",
      "metadata": {
        "id": "DkPtI4NChe0O"
      },
      "source": [
        "def print_numbers2(* args):\n",
        "    for arg in args:\n",
        "        print(arg)"
      ],
      "execution_count": 12,
      "outputs": []
    },
    {
      "cell_type": "code",
      "metadata": {
        "colab": {
          "base_uri": "https://localhost:8080/"
        },
        "id": "iHSCxcJyh_0c",
        "outputId": "2dce604b-0563-43a1-8e3b-09ec591905cc"
      },
      "source": [
        "print_numbers2(10, 20, 30, 40)"
      ],
      "execution_count": 13,
      "outputs": [
        {
          "output_type": "stream",
          "text": [
            "10\n",
            "20\n",
            "30\n",
            "40\n"
          ],
          "name": "stdout"
        }
      ]
    },
    {
      "cell_type": "markdown",
      "metadata": {
        "id": "9H19xrbPiY8X"
      },
      "source": [
        "### 고정 인수와 가변 인수"
      ]
    },
    {
      "cell_type": "code",
      "metadata": {
        "id": "IOX2Y6eDiExT"
      },
      "source": [
        "def print_numbers3(a, * args):\n",
        "    print(a)\n",
        "    print(args)"
      ],
      "execution_count": 14,
      "outputs": []
    },
    {
      "cell_type": "code",
      "metadata": {
        "colab": {
          "base_uri": "https://localhost:8080/"
        },
        "id": "JUC0NKdYisM6",
        "outputId": "8aa08683-8bdc-4dd9-9cec-3a2f6360e031"
      },
      "source": [
        "print_numbers3(1, 10, 20)"
      ],
      "execution_count": 15,
      "outputs": [
        {
          "output_type": "stream",
          "text": [
            "1\n",
            "(10, 20)\n"
          ],
          "name": "stdout"
        }
      ]
    },
    {
      "cell_type": "code",
      "metadata": {
        "colab": {
          "base_uri": "https://localhost:8080/"
        },
        "id": "1yi996iNiv_8",
        "outputId": "16bbeb2e-2f65-4df6-ce14-ce9f01e672b9"
      },
      "source": [
        "print_numbers3(* x)"
      ],
      "execution_count": 16,
      "outputs": [
        {
          "output_type": "stream",
          "text": [
            "10\n",
            "(20, 30)\n"
          ],
          "name": "stdout"
        }
      ]
    },
    {
      "cell_type": "code",
      "metadata": {
        "id": "vXynZ6EXjArK"
      },
      "source": [
        "def print_numbers4(* args, a):\n",
        "    print(args)\n",
        "    print(a)"
      ],
      "execution_count": 17,
      "outputs": []
    },
    {
      "cell_type": "code",
      "metadata": {
        "colab": {
          "base_uri": "https://localhost:8080/",
          "height": 172
        },
        "id": "sdbcQBfNja9p",
        "outputId": "8766c294-c879-4a82-b485-035e461011b4"
      },
      "source": [
        "print_numbers4(* x)"
      ],
      "execution_count": 18,
      "outputs": [
        {
          "output_type": "error",
          "ename": "TypeError",
          "evalue": "ignored",
          "traceback": [
            "\u001b[0;31m---------------------------------------------------------------------------\u001b[0m",
            "\u001b[0;31mTypeError\u001b[0m                                 Traceback (most recent call last)",
            "\u001b[0;32m<ipython-input-18-0afc2ef37119>\u001b[0m in \u001b[0;36m<module>\u001b[0;34m()\u001b[0m\n\u001b[0;32m----> 1\u001b[0;31m \u001b[0mprint_numbers4\u001b[0m\u001b[0;34m(\u001b[0m\u001b[0;34m*\u001b[0m \u001b[0mx\u001b[0m\u001b[0;34m)\u001b[0m\u001b[0;34m\u001b[0m\u001b[0;34m\u001b[0m\u001b[0m\n\u001b[0m",
            "\u001b[0;31mTypeError\u001b[0m: print_numbers4() missing 1 required keyword-only argument: 'a'"
          ]
        }
      ]
    },
    {
      "cell_type": "markdown",
      "metadata": {
        "id": "w6Cd-2z7mpGK"
      },
      "source": [
        "## 30.2 키워드 인수"
      ]
    },
    {
      "cell_type": "code",
      "metadata": {
        "colab": {
          "base_uri": "https://localhost:8080/"
        },
        "id": "qn5gMy9kjeea",
        "outputId": "3fe9da23-4047-49e0-f35f-c2a112953c90"
      },
      "source": [
        "def personal_info(name, age, addr):\n",
        "    print('이름: ', name)\n",
        "    print('나이: ', age)\n",
        "    print('주소: ', addr)\n",
        "personal_info('홍길동', 30, '서울 송파구 잠실동')"
      ],
      "execution_count": 19,
      "outputs": [
        {
          "output_type": "stream",
          "text": [
            "이름:  홍길동\n",
            "나이:  30\n",
            "주소:  서울 송파구 잠실동\n"
          ],
          "name": "stdout"
        }
      ]
    },
    {
      "cell_type": "code",
      "metadata": {
        "colab": {
          "base_uri": "https://localhost:8080/"
        },
        "id": "of2hdKt_nHKQ",
        "outputId": "260d85ca-71b6-4d16-837c-3e90fb4ae260"
      },
      "source": [
        "personal_info(age = 30, addr = '서울 송파구 잠실동', name = '홍길동')"
      ],
      "execution_count": 20,
      "outputs": [
        {
          "output_type": "stream",
          "text": [
            "이름:  홍길동\n",
            "나이:  30\n",
            "주소:  서울 송파구 잠실동\n"
          ],
          "name": "stdout"
        }
      ]
    },
    {
      "cell_type": "markdown",
      "metadata": {
        "id": "hk3VXwHqnZ7-"
      },
      "source": [
        "## 30.3 키워드 인수와 딕셔너리 언패킹"
      ]
    },
    {
      "cell_type": "code",
      "metadata": {
        "colab": {
          "base_uri": "https://localhost:8080/"
        },
        "id": "yYrHgqN4nP87",
        "outputId": "529ef48c-bec8-459d-be6b-243bdc45076c"
      },
      "source": [
        "x = {'name' : '홍길동', 'age' : 30, 'addr' : '서울 송파구 잠실동'}\n",
        "personal_info(** x)"
      ],
      "execution_count": 22,
      "outputs": [
        {
          "output_type": "stream",
          "text": [
            "이름:  홍길동\n",
            "나이:  30\n",
            "주소:  서울 송파구 잠실동\n"
          ],
          "name": "stdout"
        }
      ]
    },
    {
      "cell_type": "code",
      "metadata": {
        "colab": {
          "base_uri": "https://localhost:8080/"
        },
        "id": "JHKSBn5HoCsW",
        "outputId": "91e88be9-c354-443c-9eda-5dc989e48057"
      },
      "source": [
        "personal_info(* x)"
      ],
      "execution_count": 23,
      "outputs": [
        {
          "output_type": "stream",
          "text": [
            "이름:  name\n",
            "나이:  age\n",
            "주소:  addr\n"
          ],
          "name": "stdout"
        }
      ]
    },
    {
      "cell_type": "markdown",
      "metadata": {
        "id": "pLbcKfPPomfb"
      },
      "source": [
        "### 가변 키워드 인수"
      ]
    },
    {
      "cell_type": "code",
      "metadata": {
        "id": "ghX6MRgFoPDG"
      },
      "source": [
        "def personal_info2(** kwargs):\n",
        "    for key, value in kwargs.items():\n",
        "        print(f'{key}: {value}')"
      ],
      "execution_count": 24,
      "outputs": []
    },
    {
      "cell_type": "code",
      "metadata": {
        "colab": {
          "base_uri": "https://localhost:8080/"
        },
        "id": "-BLCFYKio8Xl",
        "outputId": "b4dbda36-66ea-4a01-a413-29ba62b679e9"
      },
      "source": [
        "personal_info2(** x)"
      ],
      "execution_count": 25,
      "outputs": [
        {
          "output_type": "stream",
          "text": [
            "name: 홍길동\n",
            "age: 30\n",
            "addr: 서울 송파구 잠실동\n"
          ],
          "name": "stdout"
        }
      ]
    },
    {
      "cell_type": "code",
      "metadata": {
        "colab": {
          "base_uri": "https://localhost:8080/"
        },
        "id": "NEMmLailo_jk",
        "outputId": "284aac02-95e0-4750-d5b8-8160cb726cdb"
      },
      "source": [
        "personal_info2(name = '홍길동', age = 30)"
      ],
      "execution_count": 26,
      "outputs": [
        {
          "output_type": "stream",
          "text": [
            "name: 홍길동\n",
            "age: 30\n"
          ],
          "name": "stdout"
        }
      ]
    },
    {
      "cell_type": "code",
      "metadata": {
        "id": "-xmRtg6TpYAd"
      },
      "source": [
        "def personal_info3(name, ** kwargs):\n",
        "    print(name)\n",
        "    print(kwargs)"
      ],
      "execution_count": 41,
      "outputs": []
    },
    {
      "cell_type": "code",
      "metadata": {
        "colab": {
          "base_uri": "https://localhost:8080/"
        },
        "id": "YW9KZQrOp679",
        "outputId": "e31016af-842c-40f3-cfdb-e4052185550c"
      },
      "source": [
        "personal_info3(** x)"
      ],
      "execution_count": 42,
      "outputs": [
        {
          "output_type": "stream",
          "text": [
            "홍길동\n",
            "{'age': 30, 'addr': '서울 송파구 잠실동'}\n"
          ],
          "name": "stdout"
        }
      ]
    },
    {
      "cell_type": "markdown",
      "metadata": {
        "id": "LP16-_bbqXBS"
      },
      "source": [
        "### 위치 인수와 키워드 인수"
      ]
    },
    {
      "cell_type": "code",
      "metadata": {
        "id": "OQUyOMbIqAuF"
      },
      "source": [
        "def my_print(* args, ** kwargs):\n",
        "    print(* args, ** kwargs)"
      ],
      "execution_count": 35,
      "outputs": []
    },
    {
      "cell_type": "code",
      "metadata": {
        "colab": {
          "base_uri": "https://localhost:8080/"
        },
        "id": "ln7Bls_aqnYu",
        "outputId": "dbea1363-9aaa-4a3d-8819-486da595cd93"
      },
      "source": [
        "my_print(10, 20, 30, sep = ', ')"
      ],
      "execution_count": 36,
      "outputs": [
        {
          "output_type": "stream",
          "text": [
            "10, 20, 30\n"
          ],
          "name": "stdout"
        }
      ]
    },
    {
      "cell_type": "markdown",
      "metadata": {
        "id": "l4cFzRLsrXP3"
      },
      "source": [
        "## 30.4 매개변수 초기값"
      ]
    },
    {
      "cell_type": "code",
      "metadata": {
        "id": "ZaNCq9FHqyT8"
      },
      "source": [
        "def personal_info4(name, age, addr = '비공개'):\n",
        "    print('이름: ', name)\n",
        "    print('나이: ', age)\n",
        "    print('주소: ', addr)"
      ],
      "execution_count": 43,
      "outputs": []
    },
    {
      "cell_type": "code",
      "metadata": {
        "colab": {
          "base_uri": "https://localhost:8080/"
        },
        "id": "MDidfgqfry8b",
        "outputId": "c44ea157-f35d-4ffc-9e78-b9dde8159618"
      },
      "source": [
        "personal_info4('홍길동', 30)"
      ],
      "execution_count": 44,
      "outputs": [
        {
          "output_type": "stream",
          "text": [
            "이름:  홍길동\n",
            "나이:  30\n",
            "주소:  비공개\n"
          ],
          "name": "stdout"
        }
      ]
    },
    {
      "cell_type": "code",
      "metadata": {
        "colab": {
          "base_uri": "https://localhost:8080/"
        },
        "id": "mJ8IERGkr3W2",
        "outputId": "e0557fa0-41f8-4ace-c7d7-0a3ffc3e7c80"
      },
      "source": [
        "personal_info4(** x)"
      ],
      "execution_count": 45,
      "outputs": [
        {
          "output_type": "stream",
          "text": [
            "이름:  홍길동\n",
            "나이:  30\n",
            "주소:  서울 송파구 잠실동\n"
          ],
          "name": "stdout"
        }
      ]
    }
  ]
}