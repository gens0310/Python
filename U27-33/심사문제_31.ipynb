{
  "nbformat": 4,
  "nbformat_minor": 0,
  "metadata": {
    "colab": {
      "name": "심사문제 31.ipynb",
      "provenance": [],
      "collapsed_sections": []
    },
    "kernelspec": {
      "name": "python3",
      "display_name": "Python 3"
    },
    "language_info": {
      "name": "python"
    }
  },
  "cells": [
    {
      "cell_type": "markdown",
      "metadata": {
        "id": "2hAXgjC7sgT1"
      },
      "source": [
        "# 심사문제 31"
      ]
    },
    {
      "cell_type": "markdown",
      "metadata": {
        "id": "94ezdl0msgNv"
      },
      "source": [
        "## 표준 입력으로 정수 한 개가 입력됩니다(입력 값의 범위는 10~30). 다음 소스 코드를 완성하여 입력된 정수에 해당하는 피보나치 수가 출력되게 만드세요.\n",
        "\n",
        "피보나치 수는 0과 1로 시작하며, 다음 번 피보나치 수는 바로 앞의 두 피보나치 수의 합입니다."
      ]
    },
    {
      "cell_type": "markdown",
      "metadata": {
        "id": "Kpb1rOE_sgFj"
      },
      "source": [
        "### n\n",
        "0, 1, 2, 3, 4, 5, 6, 7, 8, 9, 10, 11, 12, 13, 14, 15, 16, 17, 18, 19, 20, 21...\n",
        "결과\n",
        "0, 1, 1, 2, 3, 5, 8, 13, 21, 34, 55, 89, 144, 233, 377, 610, 987, 1597, 2584, 4181, 6765, 10946...\n",
        "judge_fibonacci_number.py\n",
        "________________\n",
        "________________\n",
        "________________\n",
        "________________\n",
        "________________\n",
        "\n",
        "n = int(input())\n",
        "print(fib(n))"
      ]
    },
    {
      "cell_type": "code",
      "metadata": {
        "colab": {
          "base_uri": "https://localhost:8080/"
        },
        "id": "cguPJnX6r6tA",
        "outputId": "e1be7b54-3301-46f7-e8f6-88dce3c50b19"
      },
      "source": [
        "def fib(n):\n",
        "    if n <= 1:\n",
        "        return n\n",
        "    else:\n",
        "        return fib(n - 1) + fib(n - 2)\n",
        "n = int(input())\n",
        "print(fib(n))"
      ],
      "execution_count": null,
      "outputs": [
        {
          "output_type": "stream",
          "text": [
            "10\n",
            "55\n"
          ],
          "name": "stdout"
        }
      ]
    }
  ]
}