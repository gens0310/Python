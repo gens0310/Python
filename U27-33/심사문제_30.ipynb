{
  "nbformat": 4,
  "nbformat_minor": 0,
  "metadata": {
    "colab": {
      "name": "심사문제 30.ipynb",
      "provenance": [],
      "collapsed_sections": []
    },
    "kernelspec": {
      "name": "python3",
      "display_name": "Python 3"
    },
    "language_info": {
      "name": "python"
    }
  },
  "cells": [
    {
      "cell_type": "markdown",
      "metadata": {
        "id": "1LQCtLDurSnS"
      },
      "source": [
        "# 심사문제 30"
      ]
    },
    {
      "cell_type": "markdown",
      "metadata": {
        "id": "Ky1B2r0FrSg_"
      },
      "source": [
        "## 표준 입력으로 국어, 영어, 수학, 과학 점수가 입력됩니다. 다음 소스 코드를 완성하여 가장 높은 점수, 가장 낮은 점수, 평균 점수가 출력되게 만드세요. 평균 점수는 실수로 출력되어야 합니다."
      ]
    },
    {
      "cell_type": "markdown",
      "metadata": {
        "id": "jwxSJHDKrZuj"
      },
      "source": [
        "### judge_function_argument.py\n",
        "korean, english, mathematics, science = map(int, input().split())\n",
        "\n",
        "________________\n",
        "________________\n",
        "________________\n",
        "________________\n",
        "\n",
        "min_score, max_score = get_min_max_score(korean, english, mathematics, science)\n",
        "average_score = get_average(korean=korean, english=english,\n",
        "                            mathematics=mathematics, science=science)\n",
        "print('낮은 점수: {0:.2f}, 높은 점수: {1:.2f}, 평균 점수: {2:.2f}'\n",
        "      .format(min_score, max_score, average_score))\n",
        " \n",
        "min_score, max_score = get_min_max_score(english, science)\n",
        "average_score = get_average(english=english, science=science)\n",
        "print('낮은 점수: {0:.2f}, 높은 점수: {1:.2f}, 평균 점수: {2:.2f}'\n",
        "      .format(min_score, max_score, average_score))"
      ]
    },
    {
      "cell_type": "code",
      "metadata": {
        "colab": {
          "base_uri": "https://localhost:8080/"
        },
        "id": "ylGyeyXtq0_H",
        "outputId": "a0b2632e-6e6b-41d7-a3bb-967bc0aa92e8"
      },
      "source": [
        "korean, english, mathematics, science = map(int, input().split())\n",
        "def get_min_max_score(*args):\n",
        "  return min(args), max(args)\n",
        "def get_average(**kwargs):\n",
        "  return sum(kwargs.values()) / len(kwargs)\n",
        "min_score, max_score = get_min_max_score(korean, english, mathematics, science)\n",
        "average_score = get_average(korean=korean, english=english,\n",
        "                            mathematics=mathematics, science=science)\n",
        "print('낮은 점수: {0:.2f}, 높은 점수: {1:.2f}, 평균 점수: {2:.2f}'\n",
        "      .format(min_score, max_score, average_score))\n",
        " \n",
        "min_score, max_score = get_min_max_score(english, science)\n",
        "average_score = get_average(english=english, science=science)\n",
        "print('낮은 점수: {0:.2f}, 높은 점수: {1:.2f}, 평균 점수: {2:.2f}'\n",
        "      .format(min_score, max_score, average_score))"
      ],
      "execution_count": null,
      "outputs": [
        {
          "output_type": "stream",
          "text": [
            "76 82 89 84\n",
            "낮은 점수: 76.00, 높은 점수: 89.00, 평균 점수: 82.75\n",
            "낮은 점수: 82.00, 높은 점수: 84.00, 평균 점수: 83.00\n"
          ],
          "name": "stdout"
        }
      ]
    }
  ]
}