{
  "nbformat": 4,
  "nbformat_minor": 0,
  "metadata": {
    "colab": {
      "name": "심사문제 27.ipynb",
      "provenance": [],
      "collapsed_sections": []
    },
    "kernelspec": {
      "name": "python3",
      "display_name": "Python 3"
    },
    "language_info": {
      "name": "python"
    }
  },
  "cells": [
    {
      "cell_type": "markdown",
      "metadata": {
        "id": "zzh0Z6PsUKAf"
      },
      "source": [
        "# 심사문제 27"
      ]
    },
    {
      "cell_type": "markdown",
      "metadata": {
        "id": "EetAOITJUJwl"
      },
      "source": [
        "## 문자열이 저장된 words.txt 파일이 주어집니다(문자열은 한 줄로 저장되어 있습니다). words.txt 파일에서 문자 c가 포함된 단어를 각 줄에 출력하는 프로그램을 만드세요. 단어를 출력할 때는 등장한 순서대로 출력해야 하며 ,(콤마)와 .(점)은 출력하지 않아야 합니다."
      ]
    },
    {
      "cell_type": "markdown",
      "metadata": {
        "id": "sGI_AnkvUN8p"
      },
      "source": [
        "### judge_file.py\n",
        "________________\n",
        "________________\n",
        "________________\n",
        "________________\n",
        "________________"
      ]
    },
    {
      "cell_type": "markdown",
      "metadata": {
        "id": "CFY9BJg3Wo1u"
      },
      "source": [
        "### words.txt\n",
        "Fortunately, however, for the reputation of Asteroid B-612, a Turkish dictator made a law that his subjects, under pain of death, should change to European costume. So in 1920 the astronomer gave his demonstration all over again, dressed with impressive style and elegance. And this time everybody accepted his report."
      ]
    },
    {
      "cell_type": "code",
      "metadata": {
        "id": "sKVL-4a5oBxW",
        "colab": {
          "base_uri": "https://localhost:8080/"
        },
        "outputId": "e5294c1d-9e39-4f88-ef41-970cff0fe553"
      },
      "source": [
        "with open('words.txt', 'r') as file:\n",
        "    text = file.readline()\n",
        "    words = text.split()\n",
        "    for word in words:\n",
        "        if 'c' in word:\n",
        "            print(word.strip(',.'))"
      ],
      "execution_count": 1,
      "outputs": [
        {
          "output_type": "stream",
          "text": [
            "dictator\n",
            "subjects\n",
            "change\n",
            "costume\n",
            "elegance\n",
            "accepted\n"
          ],
          "name": "stdout"
        }
      ]
    }
  ]
}