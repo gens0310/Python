{
  "nbformat": 4,
  "nbformat_minor": 0,
  "metadata": {
    "colab": {
      "name": "심사문제 33.ipynb",
      "provenance": [],
      "collapsed_sections": []
    },
    "kernelspec": {
      "name": "python3",
      "display_name": "Python 3"
    },
    "language_info": {
      "name": "python"
    }
  },
  "cells": [
    {
      "cell_type": "markdown",
      "metadata": {
        "id": "3i1Qe7Bz8363"
      },
      "source": [
        "# 심사문제 33"
      ]
    },
    {
      "cell_type": "markdown",
      "metadata": {
        "id": "1kfVgoTV830x"
      },
      "source": [
        "## 표준 입력으로 정수가 입력됩니다. 다음 소스 코드를 완성하여 함수 c를 호출할 때마다 숫자가 1씩 줄어들게 만드세요. 여기서는 함수를 클로저로 만들어야 합니다. 정답에 코드를 작성할 때는 def countdown(n):에 맞춰서 들여쓰기를 해주세요.\n",
        "\n"
      ]
    },
    {
      "cell_type": "markdown",
      "metadata": {
        "id": "Uc5oAGYB83tb"
      },
      "source": [
        "### judge_closure.py\n",
        "def countdown(n):\n",
        "________________\n",
        "________________\n",
        "________________\n",
        "________________\n",
        "________________\n",
        "________________\n",
        "\n",
        "n = int(input())\n",
        " \n",
        "c = countdown(n)\n",
        "for i in range(n):\n",
        "    print(c(), end=' ')"
      ]
    },
    {
      "cell_type": "code",
      "metadata": {
        "colab": {
          "base_uri": "https://localhost:8080/"
        },
        "id": "z4MgmF_b81mk",
        "outputId": "a2826b6c-374c-42a6-f459-6fb5f14604ec"
      },
      "source": [
        "def countdown(n):\n",
        "    def count():\n",
        "        nonlocal n\n",
        "        r = n\n",
        "        n -= 1\n",
        "        return r\n",
        "    return count\n",
        "n = int(input())\n",
        "c = countdown(n)\n",
        "for i in range(n):\n",
        "    print(c(), end=' ')"
      ],
      "execution_count": null,
      "outputs": [
        {
          "output_type": "stream",
          "text": [
            "10\n",
            "10 9 8 7 6 5 4 3 2 1 "
          ],
          "name": "stdout"
        }
      ]
    }
  ]
}