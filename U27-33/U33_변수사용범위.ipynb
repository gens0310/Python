{
  "nbformat": 4,
  "nbformat_minor": 0,
  "metadata": {
    "colab": {
      "name": "U33_변수사용범위.ipynb",
      "provenance": [],
      "collapsed_sections": []
    },
    "kernelspec": {
      "name": "python3",
      "display_name": "Python 3"
    },
    "language_info": {
      "name": "python"
    }
  },
  "cells": [
    {
      "cell_type": "markdown",
      "metadata": {
        "id": "3xD7nTaG2wiS"
      },
      "source": [
        "# Unit 33. 변수 사용 범위(Scope Rule)"
      ]
    },
    {
      "cell_type": "code",
      "metadata": {
        "id": "URszSnEL2shb",
        "colab": {
          "base_uri": "https://localhost:8080/"
        },
        "outputId": "c4410e75-b6ce-4eac-d45c-7aa7d7196100"
      },
      "source": [
        "x = 10        # 전역(Global) 변수\n",
        "def foo():\n",
        "    print(x)\n",
        "foo()\n",
        "print(x)"
      ],
      "execution_count": 2,
      "outputs": [
        {
          "output_type": "stream",
          "text": [
            "10\n",
            "10\n"
          ],
          "name": "stdout"
        }
      ]
    },
    {
      "cell_type": "code",
      "metadata": {
        "colab": {
          "base_uri": "https://localhost:8080/"
        },
        "id": "tcJ9GsWer2CF",
        "outputId": "2a519d42-4ec8-4109-ade8-fbfb0f91692d"
      },
      "source": [
        "def foo():\n",
        "    y = 10    # 지역(Local) 변수\n",
        "    print(y)\n",
        "foo()"
      ],
      "execution_count": 5,
      "outputs": [
        {
          "output_type": "stream",
          "text": [
            "10\n"
          ],
          "name": "stdout"
        }
      ]
    },
    {
      "cell_type": "code",
      "metadata": {
        "colab": {
          "base_uri": "https://localhost:8080/",
          "height": 172
        },
        "id": "X3mLy4PdsWf2",
        "outputId": "4372966c-26f4-429e-d047-442583a547ab"
      },
      "source": [
        "print(y)"
      ],
      "execution_count": 6,
      "outputs": [
        {
          "output_type": "error",
          "ename": "NameError",
          "evalue": "ignored",
          "traceback": [
            "\u001b[0;31m---------------------------------------------------------------------------\u001b[0m",
            "\u001b[0;31mNameError\u001b[0m                                 Traceback (most recent call last)",
            "\u001b[0;32m<ipython-input-6-d9183e048de3>\u001b[0m in \u001b[0;36m<module>\u001b[0;34m()\u001b[0m\n\u001b[0;32m----> 1\u001b[0;31m \u001b[0mprint\u001b[0m\u001b[0;34m(\u001b[0m\u001b[0my\u001b[0m\u001b[0;34m)\u001b[0m\u001b[0;34m\u001b[0m\u001b[0;34m\u001b[0m\u001b[0m\n\u001b[0m",
            "\u001b[0;31mNameError\u001b[0m: name 'y' is not defined"
          ]
        }
      ]
    },
    {
      "cell_type": "markdown",
      "metadata": {
        "id": "tvh7a0n2tqj3"
      },
      "source": [
        "### 함수 안에서 전역 변수 변경하기"
      ]
    },
    {
      "cell_type": "code",
      "metadata": {
        "colab": {
          "base_uri": "https://localhost:8080/"
        },
        "id": "LrQV44zksYEV",
        "outputId": "a7873336-680b-4bda-f1c0-ba0242135048"
      },
      "source": [
        "x = 10\n",
        "def foo():\n",
        "    x = 20\n",
        "    print(x)\n",
        "foo()\n",
        "print(x)"
      ],
      "execution_count": 7,
      "outputs": [
        {
          "output_type": "stream",
          "text": [
            "20\n",
            "10\n"
          ],
          "name": "stdout"
        }
      ]
    },
    {
      "cell_type": "code",
      "metadata": {
        "colab": {
          "base_uri": "https://localhost:8080/"
        },
        "id": "X2GA-IXjuHhR",
        "outputId": "3ff65bc7-47f8-41ff-c30d-8c13d1f24c62"
      },
      "source": [
        "x = 10\n",
        "def foo():\n",
        "    global x\n",
        "    x = 20\n",
        "    print(x)\n",
        "foo()\n",
        "print(x)"
      ],
      "execution_count": 8,
      "outputs": [
        {
          "output_type": "stream",
          "text": [
            "20\n",
            "20\n"
          ],
          "name": "stdout"
        }
      ]
    },
    {
      "cell_type": "code",
      "metadata": {
        "colab": {
          "base_uri": "https://localhost:8080/"
        },
        "id": "6DW6i6SPu3sH",
        "outputId": "5cbb4e9d-be4a-4292-e127-1cf2c456b983"
      },
      "source": [
        "def foo():\n",
        "    global z\n",
        "    z = 10\n",
        "    print(z)\n",
        "foo()\n",
        "print(z)"
      ],
      "execution_count": 9,
      "outputs": [
        {
          "output_type": "stream",
          "text": [
            "10\n",
            "10\n"
          ],
          "name": "stdout"
        }
      ]
    }
  ]
}