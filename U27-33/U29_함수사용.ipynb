{
  "nbformat": 4,
  "nbformat_minor": 0,
  "metadata": {
    "colab": {
      "name": "U29_함수사용.ipynb",
      "provenance": [],
      "collapsed_sections": []
    },
    "kernelspec": {
      "name": "python3",
      "display_name": "Python 3"
    },
    "language_info": {
      "name": "python"
    }
  },
  "cells": [
    {
      "cell_type": "markdown",
      "metadata": {
        "id": "rV0PtEJu714H"
      },
      "source": [
        "# Unit 29. 함수(Function)"
      ]
    },
    {
      "cell_type": "markdown",
      "metadata": {
        "id": "4gEijGUU72Ka"
      },
      "source": [
        "## 29.1 출력 함수"
      ]
    },
    {
      "cell_type": "code",
      "metadata": {
        "id": "B3IAGNfk5ecG",
        "colab": {
          "base_uri": "https://localhost:8080/"
        },
        "outputId": "d3849ab0-6667-4563-8653-96e08a90172a"
      },
      "source": [
        "def hello():\n",
        "    print('hello, world!')\n",
        "hello()"
      ],
      "execution_count": 1,
      "outputs": [
        {
          "output_type": "stream",
          "text": [
            "hello, world!\n"
          ],
          "name": "stdout"
        }
      ]
    },
    {
      "cell_type": "markdown",
      "metadata": {
        "id": "CXMT2EsxPtaa"
      },
      "source": [
        "## 29.2 덧셈 함수"
      ]
    },
    {
      "cell_type": "code",
      "metadata": {
        "colab": {
          "base_uri": "https://localhost:8080/"
        },
        "id": "fqnCsBLQO4Ep",
        "outputId": "4b5a8c27-31b2-4b3a-ac18-8b42648f0e9d"
      },
      "source": [
        "def add(a, b):\n",
        "    print(a + b)\n",
        "add(4, 5)"
      ],
      "execution_count": 2,
      "outputs": [
        {
          "output_type": "stream",
          "text": [
            "9\n"
          ],
          "name": "stdout"
        }
      ]
    },
    {
      "cell_type": "code",
      "metadata": {
        "id": "Y4iBpjRnQDaK"
      },
      "source": [
        "# Docstrings\n",
        "def add (a, b):\n",
        "    '''\n",
        "    이 함수는 a와 b를 더한 뒤 결과를 반환하는 함수입니다.\n",
        "    '''\n",
        "    print(a + b)\n",
        "# 도움말\n",
        "add?"
      ],
      "execution_count": 6,
      "outputs": []
    },
    {
      "cell_type": "markdown",
      "metadata": {
        "id": "xa5UOvnMRUx2"
      },
      "source": [
        "## 29.3 결과값 반환"
      ]
    },
    {
      "cell_type": "code",
      "metadata": {
        "colab": {
          "base_uri": "https://localhost:8080/"
        },
        "id": "upoU8q0SQ_Rm",
        "outputId": "a1da33ae-bd26-4cc8-d921-7f1bf437b66d"
      },
      "source": [
        "def add(a, b):\n",
        "    return a + b\n",
        "add(4, 5), add(10, 20)"
      ],
      "execution_count": 7,
      "outputs": [
        {
          "output_type": "execute_result",
          "data": {
            "text/plain": [
              "(9, 30)"
            ]
          },
          "metadata": {
            "tags": []
          },
          "execution_count": 7
        }
      ]
    },
    {
      "cell_type": "code",
      "metadata": {
        "colab": {
          "base_uri": "https://localhost:8080/"
        },
        "id": "rxFD3b6iRr_5",
        "outputId": "2a34e13f-fe4a-4c2c-d995-8c2b8f0744f8"
      },
      "source": [
        "x = add(40, 50)\n",
        "x"
      ],
      "execution_count": 8,
      "outputs": [
        {
          "output_type": "execute_result",
          "data": {
            "text/plain": [
              "90"
            ]
          },
          "metadata": {
            "tags": []
          },
          "execution_count": 8
        }
      ]
    },
    {
      "cell_type": "code",
      "metadata": {
        "colab": {
          "base_uri": "https://localhost:8080/"
        },
        "id": "NLlyHgR9R-Rv",
        "outputId": "f7b4b44c-174d-4fcf-b170-0bc7f61e261c"
      },
      "source": [
        "def is_ten(x):\n",
        "    return x == 10\n",
        "is_ten(101 // 10)"
      ],
      "execution_count": 9,
      "outputs": [
        {
          "output_type": "execute_result",
          "data": {
            "text/plain": [
              "True"
            ]
          },
          "metadata": {
            "tags": []
          },
          "execution_count": 9
        }
      ]
    },
    {
      "cell_type": "code",
      "metadata": {
        "id": "k74phP7hSNxv"
      },
      "source": [
        "def not_ten(x):\n",
        "    if x == 10:\n",
        "        return\n",
        "    else:\n",
        "        print('It is not 10.')"
      ],
      "execution_count": 12,
      "outputs": []
    },
    {
      "cell_type": "code",
      "metadata": {
        "colab": {
          "base_uri": "https://localhost:8080/"
        },
        "id": "2R0PPKKGSeK9",
        "outputId": "5015ec81-7eee-4f8d-d2b2-2d89ff4832d3"
      },
      "source": [
        "not_ten(5)"
      ],
      "execution_count": 13,
      "outputs": [
        {
          "output_type": "stream",
          "text": [
            "It is not 10.\n"
          ],
          "name": "stdout"
        }
      ]
    },
    {
      "cell_type": "code",
      "metadata": {
        "id": "6vKuYdQpShLv"
      },
      "source": [
        "not_ten(101 // 10)"
      ],
      "execution_count": 14,
      "outputs": []
    },
    {
      "cell_type": "markdown",
      "metadata": {
        "id": "89L9yV_2TbwD"
      },
      "source": [
        "## 29.4 여러 개의 결과값 반환"
      ]
    },
    {
      "cell_type": "code",
      "metadata": {
        "id": "vbHicsqNSsJ2"
      },
      "source": [
        "def add_sub(a, b):\n",
        "    return a + b, a - b"
      ],
      "execution_count": 15,
      "outputs": []
    },
    {
      "cell_type": "code",
      "metadata": {
        "colab": {
          "base_uri": "https://localhost:8080/"
        },
        "id": "n8HxBNHkTnst",
        "outputId": "a1076a62-cade-41fb-b5bb-754e4719fd84"
      },
      "source": [
        "x, y = add_sub(15, 7)\n",
        "x, y"
      ],
      "execution_count": 17,
      "outputs": [
        {
          "output_type": "execute_result",
          "data": {
            "text/plain": [
              "(22, 8)"
            ]
          },
          "metadata": {
            "tags": []
          },
          "execution_count": 17
        }
      ]
    },
    {
      "cell_type": "markdown",
      "metadata": {
        "id": "YGMXCxz5UGC1"
      },
      "source": [
        "## 29.5 함수 호출 과정"
      ]
    },
    {
      "cell_type": "code",
      "metadata": {
        "id": "iYL1qh1jTq8w"
      },
      "source": [
        "# Stack을 이용한다"
      ],
      "execution_count": 18,
      "outputs": []
    },
    {
      "cell_type": "markdown",
      "metadata": {
        "id": "2ykkajBjVwhX"
      },
      "source": [
        "### 연습 문제\n",
        "- 3자리 수 정수 두 개를 곱해서 나온 결과가 팔린드롬(Palindrome)이 되도록 할 때, 가장 큰 숫자는?"
      ]
    },
    {
      "cell_type": "code",
      "metadata": {
        "id": "sUdrD-dYb4Lt"
      },
      "source": [
        "def is_palindrome(x):\n",
        "    s = str(x)\n",
        "    return s == s[::-1]"
      ],
      "execution_count": 19,
      "outputs": []
    },
    {
      "cell_type": "code",
      "metadata": {
        "colab": {
          "base_uri": "https://localhost:8080/"
        },
        "id": "-lj29ueadGZs",
        "outputId": "fa0aad04-61fa-4acc-c367-cd6996362679"
      },
      "source": [
        "is_palindrome(12345), is_palindrome(906609)"
      ],
      "execution_count": 21,
      "outputs": [
        {
          "output_type": "execute_result",
          "data": {
            "text/plain": [
              "(False, True)"
            ]
          },
          "metadata": {
            "tags": []
          },
          "execution_count": 21
        }
      ]
    },
    {
      "cell_type": "code",
      "metadata": {
        "colab": {
          "base_uri": "https://localhost:8080/"
        },
        "id": "gEZIA1GXVytr",
        "outputId": "ab4b7612-cc69-462e-c198-004b7f347ba9"
      },
      "source": [
        "max_pal, m, n = 0, 0, 0\n",
        "for i in range(100, 1000):\n",
        "    for k in range(i, 1000):\n",
        "        # i * k 곱한 값이 팔린드롬인지 확인\n",
        "        # 팔린드롬이면 max_pal과 비교\n",
        "        if is_palindrome(i * k):\n",
        "            if i * k > max_pal:\n",
        "                max_pal = i * k\n",
        "                m = i\n",
        "                n = k\n",
        "print(f'{m} x {n} = {max_pal}')"
      ],
      "execution_count": 22,
      "outputs": [
        {
          "output_type": "stream",
          "text": [
            "913 x 993 = 906609\n"
          ],
          "name": "stdout"
        }
      ]
    }
  ]
}