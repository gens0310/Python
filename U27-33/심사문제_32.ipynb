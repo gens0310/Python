{
  "nbformat": 4,
  "nbformat_minor": 0,
  "metadata": {
    "colab": {
      "name": "심사문제 32.ipynb",
      "provenance": [],
      "collapsed_sections": []
    },
    "kernelspec": {
      "name": "python3",
      "display_name": "Python 3"
    },
    "language_info": {
      "name": "python"
    }
  },
  "cells": [
    {
      "cell_type": "markdown",
      "metadata": {
        "id": "gRB0WyVn8N8v"
      },
      "source": [
        "# 심사문제 32"
      ]
    },
    {
      "cell_type": "markdown",
      "metadata": {
        "id": "CAuWwo9R8N2d"
      },
      "source": [
        "## 표준 입력으로 숫자.확장자 형식으로 된 파일 이름 여러 개가 입력됩니다. 다음 소스 코드를 완성하여 파일 이름이 숫자 3개이면서 앞에 0이 들어가는 형식으로 출력되게 만드세요. 예를 들어 1.png는 001.png, 99.docx는 099.docx, 100.xlsx는 100.xlsx처럼 출력되어야 합니다. 그리고 람다 표현식을 사용해야 하며 출력 결과는 리스트 형태라야 합니다. 람다 표현식에서 파일명을 처리할 때는 문자열 포매팅과 문자열 메서드를 활용하세요."
      ]
    },
    {
      "cell_type": "markdown",
      "metadata": {
        "id": "9hWdomPE8NuT"
      },
      "source": [
        "### judge_lambda.py\n",
        "files = input().split()\n",
        " \n",
        "print(________________)"
      ]
    },
    {
      "cell_type": "code",
      "metadata": {
        "colab": {
          "base_uri": "https://localhost:8080/"
        },
        "id": "1-m1VhyM8DdH",
        "outputId": "c0329827-8fd7-437d-b23f-9c8250188485"
      },
      "source": [
        "files = input().split()\n",
        "print(list(map(lambda x: x.split('.')[0].zfill(3) + '.' + x.split('.')[1], files)))"
      ],
      "execution_count": 1,
      "outputs": [
        {
          "output_type": "stream",
          "text": [
            "1.jpg 10.png 11.png 2.jpg 3.png\n",
            "['001.jpg', '010.png', '011.png', '002.jpg', '003.png']\n"
          ],
          "name": "stdout"
        }
      ]
    }
  ]
}