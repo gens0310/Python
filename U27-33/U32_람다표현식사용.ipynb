{
  "nbformat": 4,
  "nbformat_minor": 0,
  "metadata": {
    "colab": {
      "name": "U32_람다표현식사용.ipynb",
      "provenance": [],
      "collapsed_sections": []
    },
    "kernelspec": {
      "name": "python3",
      "display_name": "Python 3"
    },
    "language_info": {
      "name": "python"
    }
  },
  "cells": [
    {
      "cell_type": "markdown",
      "metadata": {
        "id": "_XI19bb32kmh"
      },
      "source": [
        "# Unit 32. 람다(Lambda) 함수 - 익명(Anonymous) 함수"
      ]
    },
    {
      "cell_type": "markdown",
      "metadata": {
        "id": "kvSo3W3o2oji"
      },
      "source": [
        "## 32.1 "
      ]
    },
    {
      "cell_type": "code",
      "metadata": {
        "id": "WiJkk9eW2dLo"
      },
      "source": [
        "def plus_ten(x):\n",
        "    return x + 10"
      ],
      "execution_count": 1,
      "outputs": []
    },
    {
      "cell_type": "code",
      "metadata": {
        "colab": {
          "base_uri": "https://localhost:8080/"
        },
        "id": "-ApfczK9hvA1",
        "outputId": "2f50bc29-41df-404c-af2c-f631af368c92"
      },
      "source": [
        "plus_ten(5)"
      ],
      "execution_count": 2,
      "outputs": [
        {
          "output_type": "execute_result",
          "data": {
            "text/plain": [
              "15"
            ]
          },
          "metadata": {
            "tags": []
          },
          "execution_count": 2
        }
      ]
    },
    {
      "cell_type": "code",
      "metadata": {
        "colab": {
          "base_uri": "https://localhost:8080/"
        },
        "id": "6TbZidU3h0XH",
        "outputId": "862cdfb8-4d1f-4c1d-8f08-35529572327e"
      },
      "source": [
        "plus_ten2 = lambda x: x + 10\n",
        "plus_ten2(5)"
      ],
      "execution_count": 3,
      "outputs": [
        {
          "output_type": "execute_result",
          "data": {
            "text/plain": [
              "15"
            ]
          },
          "metadata": {
            "tags": []
          },
          "execution_count": 3
        }
      ]
    },
    {
      "cell_type": "code",
      "metadata": {
        "colab": {
          "base_uri": "https://localhost:8080/"
        },
        "id": "LdtlkKRNikmP",
        "outputId": "31adad80-6606-4125-a8f2-8192d7561e3b"
      },
      "source": [
        "(lambda x: x + 10)(5)"
      ],
      "execution_count": 4,
      "outputs": [
        {
          "output_type": "execute_result",
          "data": {
            "text/plain": [
              "15"
            ]
          },
          "metadata": {
            "tags": []
          },
          "execution_count": 4
        }
      ]
    },
    {
      "cell_type": "code",
      "metadata": {
        "colab": {
          "base_uri": "https://localhost:8080/"
        },
        "id": "FvPeYnAhipOG",
        "outputId": "b8b71c39-914e-4af6-f0c6-374a76d7ab37"
      },
      "source": [
        "list(map(lambda x : int(x) + 10, input().split()))"
      ],
      "execution_count": 5,
      "outputs": [
        {
          "output_type": "stream",
          "text": [
            "2 5 10\n"
          ],
          "name": "stdout"
        },
        {
          "output_type": "execute_result",
          "data": {
            "text/plain": [
              "[12, 15, 20]"
            ]
          },
          "metadata": {
            "tags": []
          },
          "execution_count": 5
        }
      ]
    },
    {
      "cell_type": "code",
      "metadata": {
        "colab": {
          "base_uri": "https://localhost:8080/"
        },
        "id": "p0H3jhNGi_l4",
        "outputId": "c93e6d46-9777-4b88-8a77-b5170c7083f5"
      },
      "source": [
        "def plus_ten(x):\n",
        "    return int(x) + 10\n",
        "list(map(plus_ten, input().split()))"
      ],
      "execution_count": 6,
      "outputs": [
        {
          "output_type": "stream",
          "text": [
            "2 5 10\n"
          ],
          "name": "stdout"
        },
        {
          "output_type": "execute_result",
          "data": {
            "text/plain": [
              "[12, 15, 20]"
            ]
          },
          "metadata": {
            "tags": []
          },
          "execution_count": 6
        }
      ]
    },
    {
      "cell_type": "markdown",
      "metadata": {
        "id": "AnapcY9IkHOJ"
      },
      "source": [
        "### 제약 사항"
      ]
    },
    {
      "cell_type": "code",
      "metadata": {
        "colab": {
          "base_uri": "https://localhost:8080/",
          "height": 136
        },
        "id": "qy7q5VuPjZnm",
        "outputId": "7191a76c-4751-4c97-c74d-a95d7b0652a8"
      },
      "source": [
        "# 람다 함수에서 변수를 만들 수 없음\n",
        "(lambda x: y = 10; x + y)(3)"
      ],
      "execution_count": 9,
      "outputs": [
        {
          "output_type": "error",
          "ename": "SyntaxError",
          "evalue": "ignored",
          "traceback": [
            "\u001b[0;36m  File \u001b[0;32m\"<ipython-input-9-533c9100b65e>\"\u001b[0;36m, line \u001b[0;32m2\u001b[0m\n\u001b[0;31m    (lambda x: y = 10; x + y)(3)\u001b[0m\n\u001b[0m                 ^\u001b[0m\n\u001b[0;31mSyntaxError\u001b[0m\u001b[0;31m:\u001b[0m invalid syntax\n"
          ]
        }
      ]
    },
    {
      "cell_type": "code",
      "metadata": {
        "colab": {
          "base_uri": "https://localhost:8080/"
        },
        "id": "NTtOVoXykRww",
        "outputId": "9cd0cf08-754d-4fd3-ca3b-fde08a27e269"
      },
      "source": [
        "y = 10\n",
        "(lambda x: x + y)(3)"
      ],
      "execution_count": 8,
      "outputs": [
        {
          "output_type": "execute_result",
          "data": {
            "text/plain": [
              "13"
            ]
          },
          "metadata": {
            "tags": []
          },
          "execution_count": 8
        }
      ]
    },
    {
      "cell_type": "markdown",
      "metadata": {
        "id": "Mj98rUsxk6Xt"
      },
      "source": [
        "### 조건부 함수"
      ]
    },
    {
      "cell_type": "code",
      "metadata": {
        "colab": {
          "base_uri": "https://localhost:8080/"
        },
        "id": "7iRWjvlpkYq2",
        "outputId": "7a63f291-20dd-4e42-d54f-1b2a22cd08ab"
      },
      "source": [
        "# 리스트 a에서 3의 배수를 문자열로 변환\n",
        "a = list(range(1, 11))\n",
        "list(map(lambda x: str(x) if x % 3 == 0 else x, a))"
      ],
      "execution_count": 11,
      "outputs": [
        {
          "output_type": "execute_result",
          "data": {
            "text/plain": [
              "[1, 2, '3', 4, 5, '6', 7, 8, '9', 10]"
            ]
          },
          "metadata": {
            "tags": []
          },
          "execution_count": 11
        }
      ]
    },
    {
      "cell_type": "code",
      "metadata": {
        "colab": {
          "base_uri": "https://localhost:8080/"
        },
        "id": "InREzQWClaky",
        "outputId": "8d97b376-1438-46d9-f950-c477768c0c2a"
      },
      "source": [
        "# 리스트 a에서 3의 배수는 문자열, 5의 배수는 실수로 변환\n",
        "list(map(lambda x: str(x) if x % 3 == 0 else float(x) if x % 5 ==0 else x, a))"
      ],
      "execution_count": 12,
      "outputs": [
        {
          "output_type": "execute_result",
          "data": {
            "text/plain": [
              "[1, 2, '3', 4, 5.0, '6', 7, 8, '9', 10.0]"
            ]
          },
          "metadata": {
            "tags": []
          },
          "execution_count": 12
        }
      ]
    },
    {
      "cell_type": "markdown",
      "metadata": {
        "id": "uUlVhUFBntCZ"
      },
      "source": [
        "### map에 여러 개의 객체 넣기"
      ]
    },
    {
      "cell_type": "code",
      "metadata": {
        "colab": {
          "base_uri": "https://localhost:8080/"
        },
        "id": "VNjJoLaLmUFe",
        "outputId": "5b3c82f3-7184-446e-a217-1a394ceef417"
      },
      "source": [
        "a = [1, 2, 3, 4, 5]\n",
        "b = [6, 7, 8, 9, 10]\n",
        "list(map(lambda x, y: x * y, a, b))"
      ],
      "execution_count": 13,
      "outputs": [
        {
          "output_type": "execute_result",
          "data": {
            "text/plain": [
              "[6, 14, 24, 36, 50]"
            ]
          },
          "metadata": {
            "tags": []
          },
          "execution_count": 13
        }
      ]
    },
    {
      "cell_type": "markdown",
      "metadata": {
        "id": "-HUz-53OoQqJ"
      },
      "source": [
        "### Filter"
      ]
    },
    {
      "cell_type": "code",
      "metadata": {
        "colab": {
          "base_uri": "https://localhost:8080/"
        },
        "id": "-6bfpUvOn9KA",
        "outputId": "96d2e84f-0e4d-4004-8a32-0f90015191fe"
      },
      "source": [
        "a = list(range(1, 11))\n",
        "list(filter(lambda x: 4 <= x < 8, a))"
      ],
      "execution_count": 14,
      "outputs": [
        {
          "output_type": "execute_result",
          "data": {
            "text/plain": [
              "[4, 5, 6, 7]"
            ]
          },
          "metadata": {
            "tags": []
          },
          "execution_count": 14
        }
      ]
    }
  ]
}