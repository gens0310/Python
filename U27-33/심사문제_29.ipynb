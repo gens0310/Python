{
  "nbformat": 4,
  "nbformat_minor": 0,
  "metadata": {
    "colab": {
      "name": "심사문제 29.ipynb",
      "provenance": [],
      "collapsed_sections": []
    },
    "kernelspec": {
      "name": "python3",
      "display_name": "Python 3"
    },
    "language_info": {
      "name": "python"
    }
  },
  "cells": [
    {
      "cell_type": "markdown",
      "metadata": {
        "id": "B-TcLWGsopeL"
      },
      "source": [
        "# 심사문제 29"
      ]
    },
    {
      "cell_type": "markdown",
      "metadata": {
        "id": "XwCi6wFVop8E"
      },
      "source": [
        "## 표준 입력으로 숫자 두 개가 입력됩니다. 다음 소스 코드를 완성하여 두 숫자의 덧셈, 뺄셈, 곱셈, 나눗셈의 결과가 출력되게 만드세요. 이때 나눗셈의 결과는 실수라야 합니다."
      ]
    },
    {
      "cell_type": "markdown",
      "metadata": {
        "id": "Vz9aruqmopu-"
      },
      "source": [
        "### judge_function.py\n",
        "x, y = map(int, input().split())\n",
        "\n",
        "________________\n",
        "________________\n",
        "\n",
        "a, s, m, d = calc(x, y)\n",
        "print('덧셈: {0}, 뺄셈: {1}, 곱셈: {2}, 나눗셈: {3}'.format(a, s, m, d))"
      ]
    },
    {
      "cell_type": "code",
      "metadata": {
        "colab": {
          "base_uri": "https://localhost:8080/"
        },
        "id": "2Aaii4Voomye",
        "outputId": "8b0fa4b1-66e3-47fa-d812-138838e07f6f"
      },
      "source": [
        "x, y = map(int, input().split())\n",
        "def calc(a, b):\n",
        "  return a + b, a - b, a * b, a / b\n",
        "add, sub, mul, div = calc(x, y)\n",
        "print('덧셈: {0}, 뺄셈: {1}, 곱셈: {2}, 나눗셈: {3}'.format(add, sub, mul, div))"
      ],
      "execution_count": null,
      "outputs": [
        {
          "output_type": "stream",
          "text": [
            "10 20\n",
            "덧셈: 30, 뺄셈: -10, 곱셈: 200, 나눗셈: 0.5\n"
          ],
          "name": "stdout"
        }
      ]
    }
  ]
}