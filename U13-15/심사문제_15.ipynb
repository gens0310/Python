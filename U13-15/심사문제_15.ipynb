{
  "nbformat": 4,
  "nbformat_minor": 0,
  "metadata": {
    "colab": {
      "name": "심사문제 15.ipynb",
      "provenance": [],
      "collapsed_sections": []
    },
    "kernelspec": {
      "name": "python3",
      "display_name": "Python 3"
    },
    "language_info": {
      "name": "python"
    }
  },
  "cells": [
    {
      "cell_type": "markdown",
      "metadata": {
        "id": "arKMJ8NPKuC9"
      },
      "source": [
        "# 심사문제 15"
      ]
    },
    {
      "cell_type": "markdown",
      "metadata": {
        "id": "WbyiqWEAKwJj"
      },
      "source": [
        "## 표준 입력으로 나이(만 나이)가 입력됩니다(입력 값은 7 이상 입력됨). 교통카드 시스템에서 시내버스 요금은 다음과 같으며 각 나이에 맞게 요금을 차감한 뒤 잔액이 출력되게 만드세요(if, elif 사용). 현재 교통카드에는 9,000원이 들어있습니다.\n",
        "- 어린이(초등학생, 만 7세 이상 12세 이하): 650원\n",
        "- 청소년(중∙고등학생, 만 13세 이상 18세 이하): 1,050원\n",
        "- 어른(일반, 만 19세 이상): 1,250원"
      ]
    },
    {
      "cell_type": "markdown",
      "metadata": {
        "id": "5GV20il4Kxhi"
      },
      "source": [
        "### judge_if_elif.py\n",
        "age = int(input())\n",
        "balance = 9000    # 교통카드 잔액\n",
        "\n",
        "________________\n",
        "________________\n",
        "________________\n",
        "________________\n",
        "________________\n",
        "________________\n",
        "\n",
        "print(balance)"
      ]
    },
    {
      "cell_type": "code",
      "metadata": {
        "id": "yaM0D7fdKhm7",
        "colab": {
          "base_uri": "https://localhost:8080/"
        },
        "outputId": "d87c5c19-b565-4f19-c63d-3e4cf8ef15b3"
      },
      "source": [
        "age = int(input())\n",
        "balance = 9000     # 교통카드 잔액\n",
        "if 7 <= age <= 12:\n",
        "    balance -= 650\n",
        "elif 13 <= age <= 18:\n",
        "    balance -= 1050\n",
        "elif age >= 19:\n",
        "    balance -= 1250\n",
        "print(balance)"
      ],
      "execution_count": 6,
      "outputs": [
        {
          "output_type": "stream",
          "text": [
            "12\n",
            "8350\n"
          ],
          "name": "stdout"
        }
      ]
    }
  ]
}