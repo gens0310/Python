{
  "nbformat": 4,
  "nbformat_minor": 0,
  "metadata": {
    "colab": {
      "name": "U14_else두방향분기.ipynb",
      "provenance": [],
      "collapsed_sections": []
    },
    "kernelspec": {
      "name": "python3",
      "display_name": "Python 3"
    },
    "language_info": {
      "name": "python"
    }
  },
  "cells": [
    {
      "cell_type": "markdown",
      "metadata": {
        "id": "HJvA9TUclzvP"
      },
      "source": [
        "# Unit 14. else"
      ]
    },
    {
      "cell_type": "code",
      "metadata": {
        "colab": {
          "base_uri": "https://localhost:8080/"
        },
        "id": "wi3iVfiFlPcp",
        "outputId": "41a435ad-7093-49a2-b3b4-11f3cc0cad70"
      },
      "source": [
        "x = 5\n",
        "if x == 10:\n",
        "    print('It is 10')\n",
        "else:\n",
        "    print('It is not 10')"
      ],
      "execution_count": null,
      "outputs": [
        {
          "output_type": "stream",
          "text": [
            "It is not 10\n"
          ],
          "name": "stdout"
        }
      ]
    },
    {
      "cell_type": "markdown",
      "metadata": {
        "id": "FpbauKjImvKC"
      },
      "source": [
        "### 3항 연산자\n",
        "- Java, JavaScript : a = (조건) ? 참일 때의 값 : 거짓일 때의 값\n",
        "- Python : a = 참일 때의 값 if, 거짓일 때의 값 else"
      ]
    },
    {
      "cell_type": "code",
      "metadata": {
        "colab": {
          "base_uri": "https://localhost:8080/",
          "height": 35
        },
        "id": "MUmwW8t4mcdB",
        "outputId": "898117af-d6d0-44a7-9786-fc1fae674a73"
      },
      "source": [
        "x = 1\n",
        "if x % 2 == 0:\n",
        "    y = 'even'\n",
        "else:\n",
        "    y = 'odd'\n",
        "y"
      ],
      "execution_count": null,
      "outputs": [
        {
          "output_type": "execute_result",
          "data": {
            "application/vnd.google.colaboratory.intrinsic+json": {
              "type": "string"
            },
            "text/plain": [
              "'odd'"
            ]
          },
          "metadata": {
            "tags": []
          },
          "execution_count": 2
        }
      ]
    },
    {
      "cell_type": "code",
      "metadata": {
        "colab": {
          "base_uri": "https://localhost:8080/",
          "height": 35
        },
        "id": "6h_PpluKnK-0",
        "outputId": "446e9661-13b6-4bce-b9e3-76393d3a4adf"
      },
      "source": [
        "y = 'even' if x % 2 == 0 else 'odd'\n",
        "y"
      ],
      "execution_count": null,
      "outputs": [
        {
          "output_type": "execute_result",
          "data": {
            "application/vnd.google.colaboratory.intrinsic+json": {
              "type": "string"
            },
            "text/plain": [
              "'odd'"
            ]
          },
          "metadata": {
            "tags": []
          },
          "execution_count": 4
        }
      ]
    },
    {
      "cell_type": "code",
      "metadata": {
        "colab": {
          "base_uri": "https://localhost:8080/"
        },
        "id": "To3UCHJCnVCF",
        "outputId": "0cf14764-3816-4588-b3ba-caccd8a9a8ef"
      },
      "source": [
        "# 90<= : A, 80~89 : B, 70~79 : C, 60~69 : D, >=59 : F\n",
        "score = int(input('점수 입력> '))\n",
        "if score >= 90:\n",
        "    grade = 'A'\n",
        "else:\n",
        "    if score >= 80:\n",
        "        grade = 'B'\n",
        "    else:\n",
        "        if score >= 70:\n",
        "            grade = 'C'\n",
        "        else:\n",
        "            if score >= 60:\n",
        "                grade = 'D'\n",
        "            else:\n",
        "                grade = 'F'\n",
        "print(grade)"
      ],
      "execution_count": null,
      "outputs": [
        {
          "output_type": "stream",
          "text": [
            "점수 입력> 85\n",
            "B\n"
          ],
          "name": "stdout"
        }
      ]
    },
    {
      "cell_type": "code",
      "metadata": {
        "colab": {
          "base_uri": "https://localhost:8080/"
        },
        "id": "3gNBTPp3qeSn",
        "outputId": "ac02d88e-4ba4-41ce-a544-973c90e8495c"
      },
      "source": [
        "score2 = int(input('점수 입력> '))\n",
        "grade2 = 'A' if score2 >= 90 else \\\n",
        "             'B' if score2 >= 80 else \\\n",
        "                 'C' if score2 >= 70 else \\\n",
        "                     'D' if score2 >= 60 else 'F'\n",
        "print(grade2)"
      ],
      "execution_count": null,
      "outputs": [
        {
          "output_type": "stream",
          "text": [
            "점수 입력> 99\n",
            "A\n"
          ],
          "name": "stdout"
        }
      ]
    },
    {
      "cell_type": "code",
      "metadata": {
        "colab": {
          "base_uri": "https://localhost:8080/"
        },
        "id": "hNyF3QSzrYgi",
        "outputId": "94e84e92-c570-4bb3-b4f6-66845155c32c"
      },
      "source": [
        "score3 = int(input('점수 입력> '))\n",
        "grade3 = 'A' if score3 >= 90 else 'B' if score3 >= 80 else 'C' if score3 >= 70 else 'D' if score3 >= 60 else 'F'\n",
        "print(grade3)"
      ],
      "execution_count": null,
      "outputs": [
        {
          "output_type": "stream",
          "text": [
            "점수 입력> 42\n",
            "F\n"
          ],
          "name": "stdout"
        }
      ]
    },
    {
      "cell_type": "markdown",
      "metadata": {
        "id": "CiiEkXi1umq6"
      },
      "source": [
        "### 조건식에서의 논리연산자"
      ]
    },
    {
      "cell_type": "code",
      "metadata": {
        "colab": {
          "base_uri": "https://localhost:8080/"
        },
        "id": "L2FP0Tttuo39",
        "outputId": "e6816bf8-e758-466e-eb83-33479e6720f6"
      },
      "source": [
        "x = 5\n",
        "if x > 0 and x < 10:\n",
        "    print('10보다 작은 양의 정수입니다')"
      ],
      "execution_count": 14,
      "outputs": [
        {
          "output_type": "stream",
          "text": [
            "10보다 작은 양의 정수입니다\n"
          ],
          "name": "stdout"
        }
      ]
    },
    {
      "cell_type": "code",
      "metadata": {
        "colab": {
          "base_uri": "https://localhost:8080/"
        },
        "id": "afjKu3aVu3K0",
        "outputId": "afa5dc21-68af-4cc8-c04c-172ec7cfa36b"
      },
      "source": [
        "if 0 < x < 10:\n",
        "    print('10보다 작은 양의 정수입니다')"
      ],
      "execution_count": 15,
      "outputs": [
        {
          "output_type": "stream",
          "text": [
            "10보다 작은 양의 정수입니다\n"
          ],
          "name": "stdout"
        }
      ]
    }
  ]
}