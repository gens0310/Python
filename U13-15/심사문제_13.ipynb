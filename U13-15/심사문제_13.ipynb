{
  "nbformat": 4,
  "nbformat_minor": 0,
  "metadata": {
    "colab": {
      "name": "심사문제 13.ipynb",
      "provenance": [],
      "collapsed_sections": []
    },
    "kernelspec": {
      "name": "python3",
      "display_name": "Python 3"
    },
    "language_info": {
      "name": "python"
    }
  },
  "cells": [
    {
      "cell_type": "markdown",
      "metadata": {
        "id": "0mv5X_a7iOCX"
      },
      "source": [
        "# 심사문제 13"
      ]
    },
    {
      "cell_type": "markdown",
      "metadata": {
        "id": "KEFaRCO2iSmB"
      },
      "source": [
        "## 표준 입력으로 가격(정수)과 쿠폰 이름이 각 줄에 입력됩니다. Cash3000 쿠폰은 3,000원, Cash5000 쿠폰은 5,000원을 할인합니다. 쿠폰에 따라 할인된 가격을 출력하는 프로그램을 만드세요(input에서 안내 문자열은 출력하지 않아야 합니다)."
      ]
    },
    {
      "cell_type": "markdown",
      "metadata": {
        "id": "SzUJdFOjiRw8"
      },
      "source": [
        "### judge_if.py\n",
        "________________\n",
        "________________\n",
        "________________\n",
        "________________\n",
        "________________\n",
        "________________\n",
        "________________"
      ]
    },
    {
      "cell_type": "code",
      "metadata": {
        "id": "z7bHmnh2iLra",
        "colab": {
          "base_uri": "https://localhost:8080/"
        },
        "outputId": "d54b2e1d-ac4a-466e-b512-5e5d584c859a"
      },
      "source": [
        "a = int(input())\n",
        "b = input()\n",
        "if b == 'Cash3000':\n",
        "    print(a-3000)\n",
        "if b == 'Cash5000':\n",
        "    print(a-5000)"
      ],
      "execution_count": 1,
      "outputs": [
        {
          "output_type": "stream",
          "text": [
            "12000\n",
            "Cash3000\n",
            "9000\n"
          ],
          "name": "stdout"
        }
      ]
    }
  ]
}