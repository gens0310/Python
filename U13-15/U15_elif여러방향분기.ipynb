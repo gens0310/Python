{
  "nbformat": 4,
  "nbformat_minor": 0,
  "metadata": {
    "colab": {
      "name": "U15_elif여러방향분기.ipynb",
      "provenance": [],
      "collapsed_sections": []
    },
    "kernelspec": {
      "name": "python3",
      "display_name": "Python 3"
    },
    "language_info": {
      "name": "python"
    }
  },
  "cells": [
    {
      "cell_type": "markdown",
      "metadata": {
        "id": "Vj6vT1L7s-k6"
      },
      "source": [
        "# Unit 15. elif"
      ]
    },
    {
      "cell_type": "code",
      "metadata": {
        "id": "EBI6jNxNs4wG",
        "colab": {
          "base_uri": "https://localhost:8080/"
        },
        "outputId": "927403fd-7339-400a-8bc7-71c66aca4e6b"
      },
      "source": [
        "x = 15\n",
        "if x == 10:\n",
        "    print('It is 10')\n",
        "elif x == 20:\n",
        "    print('It is 20')\n",
        "else:\n",
        "    print('It is not 10 or 20')"
      ],
      "execution_count": 2,
      "outputs": [
        {
          "output_type": "stream",
          "text": [
            "It is not 10 or 20\n"
          ],
          "name": "stdout"
        }
      ]
    },
    {
      "cell_type": "code",
      "metadata": {
        "colab": {
          "base_uri": "https://localhost:8080/"
        },
        "id": "jaR8CUdKouBk",
        "outputId": "e2a64f9e-a9d3-44e9-bac0-1b2710c5e59a"
      },
      "source": [
        "# 숫자 - 입력\n",
        "# 3의 배수이면 Fizz를 출력\n",
        "# 5의 배수이면 Buzz를 출력\n",
        "# 15의 배수이면 FizzBuzz를 출력\n",
        "number = int(input())\n",
        "if number % 15 == 0:\n",
        "    print('FizzBuzz') # 15의 배수\n",
        "elif number % 5 == 0:\n",
        "    print('Buzz')     # 5의 배수\n",
        "elif number % 3 == 0:\n",
        "    print('Fizz')     # 3의 배수"
      ],
      "execution_count": 3,
      "outputs": [
        {
          "output_type": "stream",
          "text": [
            "90\n",
            "FizzBuzz\n"
          ],
          "name": "stdout"
        }
      ]
    },
    {
      "cell_type": "code",
      "metadata": {
        "colab": {
          "base_uri": "https://localhost:8080/"
        },
        "id": "YajyqrhGqN2l",
        "outputId": "ea80bb16-4e78-46ce-faab-3e7bb3facdcf"
      },
      "source": [
        "number1 = int(input())\n",
        "print('Fizz' * (number1 % 3 == 0) + 'Buzz' * (number1 % 5 == 0) or number1)"
      ],
      "execution_count": 4,
      "outputs": [
        {
          "output_type": "stream",
          "text": [
            "45\n",
            "FizzBuzz\n"
          ],
          "name": "stdout"
        }
      ]
    }
  ]
}