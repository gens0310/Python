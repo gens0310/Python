{
  "nbformat": 4,
  "nbformat_minor": 0,
  "metadata": {
    "colab": {
      "name": "심사문제 14.ipynb",
      "provenance": [],
      "collapsed_sections": []
    },
    "kernelspec": {
      "name": "python3",
      "display_name": "Python 3"
    },
    "language_info": {
      "name": "python"
    }
  },
  "cells": [
    {
      "cell_type": "markdown",
      "metadata": {
        "id": "34tZ7sMApPfM"
      },
      "source": [
        "# 심사문제 14"
      ]
    },
    {
      "cell_type": "markdown",
      "metadata": {
        "id": "XNK7jJBQpS1u"
      },
      "source": [
        "## 표준 입력으로 국어, 영어, 수학, 과학 점수가 입력됩니다. 여기서 네 과목의 평균 점수가 80점 이상일 때 합격이라고 정했습니다. 평균 점수에 따라 '합격', '불합격'을 출력하는 프로그램을 만드세요(input에서 안내 문자열은 출력하지 않아야 합니다). 단, 점수는 0점부터 100점까지만 입력받을 수 있으며 범위를 벗어났다면 '잘못된 점수'를 출력하고 합격, 불합격 여부는 출력하지 않아야 합니다."
      ]
    },
    {
      "cell_type": "markdown",
      "metadata": {
        "id": "fURMekyjpR1o"
      },
      "source": [
        "### judge_if_else.py\n",
        "________________\n",
        "________________\n",
        "________________\n",
        "________________\n",
        "________________\n",
        "________________\n",
        "________________\n",
        "________________"
      ]
    },
    {
      "cell_type": "code",
      "metadata": {
        "colab": {
          "base_uri": "https://localhost:8080/"
        },
        "id": "oxqtxwzMpMkx",
        "outputId": "f2d80686-464e-4063-ccfd-19c3eb187c3b"
      },
      "source": [
        "s = ['kor', 'eng', 'mat', 'sci']\n",
        "n = input().split()\n",
        "d = dict(zip(s, list(map(int, n))))\n",
        "if 0 <= d['kor'] <= 100 and 0 <= d['eng'] <= 100 and 0 <= d['mat'] <= 100 and 0 <= d['sci'] <= 100:\n",
        "    if (d['kor']+d['eng']+d['mat']+d['sci']) / 4 >= 80:\n",
        "        print('합격')\n",
        "    else:\n",
        "        print('불합격')\n",
        "else:\n",
        "    print('잘못된 점수')"
      ],
      "execution_count": 6,
      "outputs": [
        {
          "output_type": "stream",
          "text": [
            "50 60 70 80\n",
            "불합격\n"
          ],
          "name": "stdout"
        }
      ]
    }
  ]
}