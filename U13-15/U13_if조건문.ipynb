{
  "nbformat": 4,
  "nbformat_minor": 0,
  "metadata": {
    "colab": {
      "name": "U13_if조건문.ipynb",
      "provenance": [],
      "collapsed_sections": []
    },
    "kernelspec": {
      "name": "python3",
      "display_name": "Python 3"
    },
    "language_info": {
      "name": "python"
    }
  },
  "cells": [
    {
      "cell_type": "markdown",
      "metadata": {
        "id": "WMW1v_96d0v-"
      },
      "source": [
        "# Unit 13. if 조건문"
      ]
    },
    {
      "cell_type": "markdown",
      "metadata": {
        "id": "2UXSZt_md99K"
      },
      "source": [
        "## 13.1 if 조건문"
      ]
    },
    {
      "cell_type": "code",
      "metadata": {
        "colab": {
          "base_uri": "https://localhost:8080/"
        },
        "id": "uIKIsR1ZdqJE",
        "outputId": "f00a6857-c3fd-4d58-8d90-46b777b62195"
      },
      "source": [
        "x = 10\n",
        "if x == 10:\n",
        "    print('It is 10')"
      ],
      "execution_count": 2,
      "outputs": [
        {
          "output_type": "stream",
          "text": [
            "It is 10\n"
          ],
          "name": "stdout"
        }
      ]
    },
    {
      "cell_type": "code",
      "metadata": {
        "colab": {
          "base_uri": "https://localhost:8080/"
        },
        "id": "OfBHwxNPi_PJ",
        "outputId": "f1964611-29f2-47e4-c11a-82d62a6f09ca"
      },
      "source": [
        "x = 9\n",
        "if x: # x가 0이 아니면 True\n",
        "    print('It is 10')"
      ],
      "execution_count": 3,
      "outputs": [
        {
          "output_type": "stream",
          "text": [
            "It is 10\n"
          ],
          "name": "stdout"
        }
      ]
    },
    {
      "cell_type": "markdown",
      "metadata": {
        "id": "JzLElkU6i026"
      },
      "source": [
        "## 13.2 들여쓰기"
      ]
    },
    {
      "cell_type": "code",
      "metadata": {
        "colab": {
          "base_uri": "https://localhost:8080/",
          "height": 136
        },
        "id": "YhxxITVFh3YE",
        "outputId": "e61979f4-855b-4634-e690-3ffa40ee7644"
      },
      "source": [
        "x = 10\n",
        "if x == 10:\n",
        "    print('It is')\n",
        "        print('10')"
      ],
      "execution_count": 4,
      "outputs": [
        {
          "output_type": "error",
          "ename": "IndentationError",
          "evalue": "ignored",
          "traceback": [
            "\u001b[0;36m  File \u001b[0;32m\"<ipython-input-4-e923f4b16606>\"\u001b[0;36m, line \u001b[0;32m4\u001b[0m\n\u001b[0;31m    print('10')\u001b[0m\n\u001b[0m    ^\u001b[0m\n\u001b[0;31mIndentationError\u001b[0m\u001b[0;31m:\u001b[0m unexpected indent\n"
          ]
        }
      ]
    },
    {
      "cell_type": "code",
      "metadata": {
        "colab": {
          "base_uri": "https://localhost:8080/"
        },
        "id": "4UJcJRxqjWA-",
        "outputId": "d71e9fbc-f2e0-49b8-fcd2-5c8d72472429"
      },
      "source": [
        "x = 10\n",
        "if x == 10:\n",
        "    print('It is')\n",
        "    print('10')"
      ],
      "execution_count": 5,
      "outputs": [
        {
          "output_type": "stream",
          "text": [
            "It is\n",
            "10\n"
          ],
          "name": "stdout"
        }
      ]
    },
    {
      "cell_type": "code",
      "metadata": {
        "colab": {
          "base_uri": "https://localhost:8080/"
        },
        "id": "f0aEKXyhjbWA",
        "outputId": "ed24fe51-682b-447a-a156-91fe54a7383f"
      },
      "source": [
        "x = 9\n",
        "if x == 10:\n",
        "    print('It is')\n",
        "    print('10')\n",
        "print('always')"
      ],
      "execution_count": 6,
      "outputs": [
        {
          "output_type": "stream",
          "text": [
            "always\n"
          ],
          "name": "stdout"
        }
      ]
    },
    {
      "cell_type": "markdown",
      "metadata": {
        "id": "RuHWkzYkj8Ra"
      },
      "source": [
        "## 13.3 중첩 if 조건문"
      ]
    },
    {
      "cell_type": "code",
      "metadata": {
        "colab": {
          "base_uri": "https://localhost:8080/"
        },
        "id": "fBY7Osavjnom",
        "outputId": "1c689788-c291-472c-e84f-a8360c4e9aa8"
      },
      "source": [
        "x = 15\n",
        "if x > 10:\n",
        "    print('10보다 큰 숫자입니다')\n",
        "    if x == 15:\n",
        "        print('15입니다')\n",
        "    if x == 20:\n",
        "        print('20입니다')"
      ],
      "execution_count": 7,
      "outputs": [
        {
          "output_type": "stream",
          "text": [
            "10보다 큰 숫자입니다\n",
            "15입니다\n"
          ],
          "name": "stdout"
        }
      ]
    },
    {
      "cell_type": "code",
      "metadata": {
        "colab": {
          "base_uri": "https://localhost:8080/"
        },
        "id": "KErOy4j9khdG",
        "outputId": "ba74f0f0-e777-458f-fbf5-46644871bfb0"
      },
      "source": [
        "x = 20\n",
        "if x > 10:\n",
        "    print('10보다 큰 숫자입니다')\n",
        "    if x == 15:\n",
        "        print('15입니다')\n",
        "    if x == 20:\n",
        "        print('20입니다')"
      ],
      "execution_count": 8,
      "outputs": [
        {
          "output_type": "stream",
          "text": [
            "10보다 큰 숫자입니다\n",
            "20입니다\n"
          ],
          "name": "stdout"
        }
      ]
    },
    {
      "cell_type": "code",
      "metadata": {
        "colab": {
          "base_uri": "https://localhost:8080/"
        },
        "id": "SyBFfPqLklAU",
        "outputId": "507761fe-e4d4-4f6a-e2ef-03ef2dc67396"
      },
      "source": [
        "x = int(input('정수를 입력하세요> '))\n",
        "if x > 10:\n",
        "    print('10보다 큰 숫자입니다')\n",
        "    if x == 15:\n",
        "        print('15입니다')\n",
        "    if x == 20:\n",
        "        print('20입니다')"
      ],
      "execution_count": 9,
      "outputs": [
        {
          "output_type": "stream",
          "text": [
            "정수를 입력하세요> 30\n",
            "10보다 큰 숫자입니다\n"
          ],
          "name": "stdout"
        }
      ]
    }
  ]
}