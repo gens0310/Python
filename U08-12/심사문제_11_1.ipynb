{
  "nbformat": 4,
  "nbformat_minor": 0,
  "metadata": {
    "colab": {
      "name": "심사문제 11-1.ipynb",
      "provenance": [],
      "collapsed_sections": []
    },
    "kernelspec": {
      "name": "python3",
      "display_name": "Python 3"
    },
    "language_info": {
      "name": "python"
    }
  },
  "cells": [
    {
      "cell_type": "markdown",
      "metadata": {
        "id": "x0Quk1j-JhQF"
      },
      "source": [
        "# 심사문제 11-1"
      ]
    },
    {
      "cell_type": "markdown",
      "metadata": {
        "id": "XIal1BFqJj92"
      },
      "source": [
        "## 표준 입력으로 숫자 또는 문자열 여러 개가 입력되어 리스트 x에 저장됩니다(입력되는 숫자 또는 문자열의 개수는 정해져 있지 않음). 다음 소스 코드를 완성하여 리스트 x의 마지막 요소 5개를 삭제한 뒤 튜플로 출력되게 만드세요."
      ]
    },
    {
      "cell_type": "markdown",
      "metadata": {
        "id": "BgzpVm2xJljD"
      },
      "source": [
        "### judge_del_slice.py\n",
        "x = input().split()\n",
        "\n",
        "________________\n",
        "________________"
      ]
    },
    {
      "cell_type": "code",
      "metadata": {
        "id": "3f8Ld3FxJeBl",
        "colab": {
          "base_uri": "https://localhost:8080/"
        },
        "outputId": "4e3a1411-d3b4-45b5-a16c-cf8cd50a264f"
      },
      "source": [
        "x = input().split()\n",
        "del x[-5:]\n",
        "print(tuple(x))"
      ],
      "execution_count": 9,
      "outputs": [
        {
          "output_type": "stream",
          "text": [
            "1 2 3 4 5 6 7 8 9\n",
            "('1', '2', '3', '4')\n"
          ],
          "name": "stdout"
        }
      ]
    }
  ]
}