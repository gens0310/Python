{
  "nbformat": 4,
  "nbformat_minor": 0,
  "metadata": {
    "colab": {
      "name": "U12_딕셔너리사용.ipynb",
      "provenance": [],
      "collapsed_sections": []
    },
    "kernelspec": {
      "name": "python3",
      "display_name": "Python 3"
    },
    "language_info": {
      "name": "python"
    }
  },
  "cells": [
    {
      "cell_type": "markdown",
      "metadata": {
        "id": "XEJyrUdyQjL5"
      },
      "source": [
        "# Unit 12. 딕셔너리(Dictionary)"
      ]
    },
    {
      "cell_type": "code",
      "metadata": {
        "colab": {
          "base_uri": "https://localhost:8080/"
        },
        "id": "tjmWNx5nQb8-",
        "outputId": "2db19478-06d2-4aeb-bee4-3686b4deb4b5"
      },
      "source": [
        "lux = [490, 334, 550, 18.72]\n",
        "lux"
      ],
      "execution_count": 1,
      "outputs": [
        {
          "output_type": "execute_result",
          "data": {
            "text/plain": [
              "[490, 334, 550, 18.72]"
            ]
          },
          "metadata": {
            "tags": []
          },
          "execution_count": 1
        }
      ]
    },
    {
      "cell_type": "code",
      "metadata": {
        "colab": {
          "base_uri": "https://localhost:8080/"
        },
        "id": "oD_4x2MfSCNL",
        "outputId": "7f51ce13-b40c-4171-bbed-efc4a31411bf"
      },
      "source": [
        "lux = {\n",
        "    'health': 490, #\n",
        "    'mana': 334,   #\n",
        "    'melee': 550,  #\n",
        "    'armor': 18.72 #\n",
        "}\n",
        "lux"
      ],
      "execution_count": 4,
      "outputs": [
        {
          "output_type": "execute_result",
          "data": {
            "text/plain": [
              "{'armor': 18.72, 'health': 490, 'mana': 334, 'melee': 550}"
            ]
          },
          "metadata": {
            "tags": []
          },
          "execution_count": 4
        }
      ]
    },
    {
      "cell_type": "markdown",
      "metadata": {
        "id": "97LBc8wBQnfM"
      },
      "source": [
        "## 12.1 딕셔너리 생성"
      ]
    },
    {
      "cell_type": "code",
      "metadata": {
        "colab": {
          "base_uri": "https://localhost:8080/"
        },
        "id": "-RCzZyGeSlcx",
        "outputId": "b01f428b-f39a-4801-ad78-d46890fe605c"
      },
      "source": [
        "lux = {\n",
        "    'health': 490, #\n",
        "    'health': 800, #\n",
        "    'mana': 334,   #\n",
        "    'melee': 550,  #\n",
        "    'armor': 18.72 #\n",
        "}\n",
        "lux"
      ],
      "execution_count": 5,
      "outputs": [
        {
          "output_type": "execute_result",
          "data": {
            "text/plain": [
              "{'armor': 18.72, 'health': 800, 'mana': 334, 'melee': 550}"
            ]
          },
          "metadata": {
            "tags": []
          },
          "execution_count": 5
        }
      ]
    },
    {
      "cell_type": "code",
      "metadata": {
        "colab": {
          "base_uri": "https://localhost:8080/"
        },
        "id": "HI4s6GTmTuqv",
        "outputId": "b00b6224-15cb-4422-b686-45c087dd3d84"
      },
      "source": [
        "a = {}\n",
        "b = dict()\n",
        "a, b"
      ],
      "execution_count": 6,
      "outputs": [
        {
          "output_type": "execute_result",
          "data": {
            "text/plain": [
              "({}, {})"
            ]
          },
          "metadata": {
            "tags": []
          },
          "execution_count": 6
        }
      ]
    },
    {
      "cell_type": "code",
      "metadata": {
        "colab": {
          "base_uri": "https://localhost:8080/"
        },
        "id": "4hqsuKQoUADB",
        "outputId": "aa84fc58-2315-40a4-92f9-09a496329d05"
      },
      "source": [
        "a = set((1, 2, 3))\n",
        "a"
      ],
      "execution_count": 7,
      "outputs": [
        {
          "output_type": "execute_result",
          "data": {
            "text/plain": [
              "{1, 2, 3}"
            ]
          },
          "metadata": {
            "tags": []
          },
          "execution_count": 7
        }
      ]
    },
    {
      "cell_type": "code",
      "metadata": {
        "colab": {
          "base_uri": "https://localhost:8080/"
        },
        "id": "4uYG2c8dVGM4",
        "outputId": "0ecc4734-4317-4135-9a84-a0448f01a06f"
      },
      "source": [
        "a = ['a', 'b', 'c', 'd']\n",
        "b = [1, 2, 3, 4]\n",
        "dict(zip(a, b))"
      ],
      "execution_count": 8,
      "outputs": [
        {
          "output_type": "execute_result",
          "data": {
            "text/plain": [
              "{'a': 1, 'b': 2, 'c': 3, 'd': 4}"
            ]
          },
          "metadata": {
            "tags": []
          },
          "execution_count": 8
        }
      ]
    },
    {
      "cell_type": "markdown",
      "metadata": {
        "id": "c6EP1Y68V1U2"
      },
      "source": [
        "## 12.2 딕셔너리의 키에 접근하고 값 할당"
      ]
    },
    {
      "cell_type": "code",
      "metadata": {
        "colab": {
          "base_uri": "https://localhost:8080/"
        },
        "id": "ZatvCo8FVs5R",
        "outputId": "5784e61c-68b9-4d96-995f-c7b907bd30e4"
      },
      "source": [
        "lux"
      ],
      "execution_count": 9,
      "outputs": [
        {
          "output_type": "execute_result",
          "data": {
            "text/plain": [
              "{'armor': 18.72, 'health': 800, 'mana': 334, 'melee': 550}"
            ]
          },
          "metadata": {
            "tags": []
          },
          "execution_count": 9
        }
      ]
    },
    {
      "cell_type": "code",
      "metadata": {
        "colab": {
          "base_uri": "https://localhost:8080/"
        },
        "id": "w75Y-_JFWH-A",
        "outputId": "4b0154ec-3cee-47d8-c317-a72e783f5404"
      },
      "source": [
        "lux['mana'], lux['armor']"
      ],
      "execution_count": 11,
      "outputs": [
        {
          "output_type": "execute_result",
          "data": {
            "text/plain": [
              "(334, 18.72)"
            ]
          },
          "metadata": {
            "tags": []
          },
          "execution_count": 11
        }
      ]
    },
    {
      "cell_type": "code",
      "metadata": {
        "colab": {
          "base_uri": "https://localhost:8080/"
        },
        "id": "7qu7GIunWKIJ",
        "outputId": "a2c2ec10-493c-4047-c493-aa665644a76d"
      },
      "source": [
        "# 키 값이 기존 딕셔너리에 없으면 새로 추가됨\n",
        "lux['magic'] = 120\n",
        "lux"
      ],
      "execution_count": 13,
      "outputs": [
        {
          "output_type": "execute_result",
          "data": {
            "text/plain": [
              "{'armor': 18.72, 'health': 800, 'magic': 120, 'mana': 334, 'melee': 550}"
            ]
          },
          "metadata": {
            "tags": []
          },
          "execution_count": 13
        }
      ]
    },
    {
      "cell_type": "code",
      "metadata": {
        "colab": {
          "base_uri": "https://localhost:8080/"
        },
        "id": "KrHN51-SXOPR",
        "outputId": "2b7bc683-944b-487c-a75d-020abd38172d"
      },
      "source": [
        "# 키 값이 기존 딕셔너리에 있으면 기존 값이 변경됨\n",
        "lux['armor'] = 600\n",
        "lux"
      ],
      "execution_count": 14,
      "outputs": [
        {
          "output_type": "execute_result",
          "data": {
            "text/plain": [
              "{'armor': 600, 'health': 800, 'magic': 120, 'mana': 334, 'melee': 550}"
            ]
          },
          "metadata": {
            "tags": []
          },
          "execution_count": 14
        }
      ]
    },
    {
      "cell_type": "code",
      "metadata": {
        "colab": {
          "base_uri": "https://localhost:8080/"
        },
        "id": "plmdDprgXegg",
        "outputId": "a323158d-1c59-4540-e52d-0124dee3a5c1"
      },
      "source": [
        "# 'mana' 항목이 존재하면  기존 값 + 100, 없으면 값이 50이 되게 만드시오\n",
        "e = {'mana': 150}\n",
        "if 'mana' in e:\n",
        "    e['mana'] = e['mana'] + 100\n",
        "else:\n",
        "    e['mana']=50\n",
        "e"
      ],
      "execution_count": 15,
      "outputs": [
        {
          "output_type": "execute_result",
          "data": {
            "text/plain": [
              "{'mana': 250}"
            ]
          },
          "metadata": {
            "tags": []
          },
          "execution_count": 15
        }
      ]
    },
    {
      "cell_type": "code",
      "metadata": {
        "colab": {
          "base_uri": "https://localhost:8080/"
        },
        "id": "k2g2WOwxZIf2",
        "outputId": "617264b4-3b87-412a-9013-b9e2df4ae265"
      },
      "source": [
        "e = {'health': 150}\n",
        "if 'mana' in e:\n",
        "    e['mana'] = e['mana'] + 100\n",
        "else:\n",
        "    e['mana']=50\n",
        "e"
      ],
      "execution_count": 16,
      "outputs": [
        {
          "output_type": "execute_result",
          "data": {
            "text/plain": [
              "{'health': 150, 'mana': 50}"
            ]
          },
          "metadata": {
            "tags": []
          },
          "execution_count": 16
        }
      ]
    },
    {
      "cell_type": "markdown",
      "metadata": {
        "id": "sU422a9dZRwP"
      },
      "source": [
        "### 딕셔너리 키의 개수"
      ]
    },
    {
      "cell_type": "code",
      "metadata": {
        "colab": {
          "base_uri": "https://localhost:8080/"
        },
        "id": "HAEpVO0xZNzu",
        "outputId": "3d0e70f5-5dc9-4b60-faa4-6ac2985042e0"
      },
      "source": [
        "lux"
      ],
      "execution_count": 17,
      "outputs": [
        {
          "output_type": "execute_result",
          "data": {
            "text/plain": [
              "{'armor': 600, 'health': 800, 'magic': 120, 'mana': 334, 'melee': 550}"
            ]
          },
          "metadata": {
            "tags": []
          },
          "execution_count": 17
        }
      ]
    },
    {
      "cell_type": "code",
      "metadata": {
        "colab": {
          "base_uri": "https://localhost:8080/"
        },
        "id": "-WJo0BrPZVoo",
        "outputId": "415c575b-b461-48c9-85ed-ef17cbf2e2f8"
      },
      "source": [
        "len(lux)"
      ],
      "execution_count": 18,
      "outputs": [
        {
          "output_type": "execute_result",
          "data": {
            "text/plain": [
              "5"
            ]
          },
          "metadata": {
            "tags": []
          },
          "execution_count": 18
        }
      ]
    },
    {
      "cell_type": "markdown",
      "metadata": {
        "id": "T1ZI935Ianeq"
      },
      "source": [
        "### 자료형"
      ]
    },
    {
      "cell_type": "code",
      "metadata": {
        "colab": {
          "base_uri": "https://localhost:8080/"
        },
        "id": "KSqcvrStapO1",
        "outputId": "750c485f-98d1-4995-bc9d-dda2537bc57e"
      },
      "source": [
        "type(lux)"
      ],
      "execution_count": 19,
      "outputs": [
        {
          "output_type": "execute_result",
          "data": {
            "text/plain": [
              "dict"
            ]
          },
          "metadata": {
            "tags": []
          },
          "execution_count": 19
        }
      ]
    },
    {
      "cell_type": "code",
      "metadata": {
        "colab": {
          "base_uri": "https://localhost:8080/"
        },
        "id": "PUXACyRIaozO",
        "outputId": "64bc103d-a145-4eb6-cc3f-01d1a800883f"
      },
      "source": [
        "type(lux['armor'])"
      ],
      "execution_count": 20,
      "outputs": [
        {
          "output_type": "execute_result",
          "data": {
            "text/plain": [
              "int"
            ]
          },
          "metadata": {
            "tags": []
          },
          "execution_count": 20
        }
      ]
    },
    {
      "cell_type": "code",
      "metadata": {
        "colab": {
          "base_uri": "https://localhost:8080/"
        },
        "id": "QAOrWk0davBP",
        "outputId": "6e0a256a-252b-4ff9-99ea-0bbf36c12752"
      },
      "source": [
        "lux['mana'], lux['armor']"
      ],
      "execution_count": 21,
      "outputs": [
        {
          "output_type": "execute_result",
          "data": {
            "text/plain": [
              "(334, 600)"
            ]
          },
          "metadata": {
            "tags": []
          },
          "execution_count": 21
        }
      ]
    },
    {
      "cell_type": "code",
      "metadata": {
        "colab": {
          "base_uri": "https://localhost:8080/"
        },
        "id": "m8q5Ij3iazwW",
        "outputId": "4fb35652-c0f2-4822-de27-f8f1663b1e84"
      },
      "source": [
        "lux.keys()"
      ],
      "execution_count": 22,
      "outputs": [
        {
          "output_type": "execute_result",
          "data": {
            "text/plain": [
              "dict_keys(['health', 'mana', 'melee', 'armor', 'magic'])"
            ]
          },
          "metadata": {
            "tags": []
          },
          "execution_count": 22
        }
      ]
    },
    {
      "cell_type": "markdown",
      "metadata": {
        "id": "tTA_7k4GbjrI"
      },
      "source": [
        "### 반복문"
      ]
    },
    {
      "cell_type": "code",
      "metadata": {
        "colab": {
          "base_uri": "https://localhost:8080/"
        },
        "id": "klFJkXkTa2d2",
        "outputId": "0c9cea85-69f6-4938-e21a-874c6cf569b4"
      },
      "source": [
        "for key in lux.keys():\n",
        "    print(f'{key}: {lux[key]}')"
      ],
      "execution_count": 23,
      "outputs": [
        {
          "output_type": "stream",
          "text": [
            "health: 800\n",
            "mana: 334\n",
            "melee: 550\n",
            "armor: 600\n",
            "magic: 120\n"
          ],
          "name": "stdout"
        }
      ]
    },
    {
      "cell_type": "code",
      "metadata": {
        "colab": {
          "base_uri": "https://localhost:8080/"
        },
        "id": "ZMFurPjwbNHP",
        "outputId": "5f4c44c1-078b-4218-db68-1ea450b4eccc"
      },
      "source": [
        "for key, value in lux.items():\n",
        "    print(f'{key}: {value}')"
      ],
      "execution_count": 24,
      "outputs": [
        {
          "output_type": "stream",
          "text": [
            "health: 800\n",
            "mana: 334\n",
            "melee: 550\n",
            "armor: 600\n",
            "magic: 120\n"
          ],
          "name": "stdout"
        }
      ]
    }
  ]
}