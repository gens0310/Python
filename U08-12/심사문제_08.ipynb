{
  "nbformat": 4,
  "nbformat_minor": 0,
  "metadata": {
    "colab": {
      "name": "심사문제 08.ipynb",
      "provenance": [],
      "collapsed_sections": []
    },
    "kernelspec": {
      "name": "python3",
      "display_name": "Python 3"
    },
    "language_info": {
      "name": "python"
    }
  },
  "cells": [
    {
      "cell_type": "markdown",
      "metadata": {
        "id": "MCZCrs3_HGqi"
      },
      "source": [
        "# 심사문제 08"
      ]
    },
    {
      "cell_type": "markdown",
      "metadata": {
        "id": "lIazl6jvHJsK"
      },
      "source": [
        "## 표준 입력으로 국어, 영어, 수학, 과학 점수가 입력됩니다. 국어는 90점 이상, 영어는 80점 초과, 수학은 85점 초과, 과학은 80점 이상일 때 합격이라고 정했습니다(한 과목이라도 조건에 만족하지 않으면 불합격). 다음 소스 코드를 완성하여 합격이면 True, 불합격이면 False가 출력되게 만드세요(input에서 안내 문자열은 출력하지 않아야 합니다)."
      ]
    },
    {
      "cell_type": "markdown",
      "metadata": {
        "id": "gqrct27WHJo_"
      },
      "source": [
        "### judge_comparison_logical_operator.py\n",
        "________________\n",
        "________________"
      ]
    },
    {
      "cell_type": "code",
      "metadata": {
        "colab": {
          "base_uri": "https://localhost:8080/"
        },
        "id": "HBAKlBZOHDX8",
        "outputId": "b3011994-fa40-408b-b7c4-318b0faace65"
      },
      "source": [
        "kor, eng, mat, sci = map(int, input().split())\n",
        "print(kor >= 90 and eng > 80 and mat > 85 and sci >= 80)"
      ],
      "execution_count": 1,
      "outputs": [
        {
          "output_type": "stream",
          "text": [
            "90 81 86 79\n",
            "False\n"
          ],
          "name": "stdout"
        }
      ]
    }
  ]
}