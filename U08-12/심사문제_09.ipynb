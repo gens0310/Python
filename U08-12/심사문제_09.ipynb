{
  "nbformat": 4,
  "nbformat_minor": 0,
  "metadata": {
    "colab": {
      "name": "심사문제 09.ipynb",
      "provenance": [],
      "collapsed_sections": []
    },
    "kernelspec": {
      "name": "python3",
      "display_name": "Python 3"
    },
    "language_info": {
      "name": "python"
    }
  },
  "cells": [
    {
      "cell_type": "markdown",
      "metadata": {
        "id": "63qvxw55JGC0"
      },
      "source": [
        "# 심사문제 09"
      ]
    },
    {
      "cell_type": "markdown",
      "metadata": {
        "id": "5pS94BBgJI1W"
      },
      "source": [
        "## 다음 소스 코드를 완성하여 실행 결과대로 문자열이 출력되게 만드세요."
      ]
    },
    {
      "cell_type": "markdown",
      "metadata": {
        "id": "BUubcp1eJKXE"
      },
      "source": [
        "### judge_multiline_string.py\n",
        "________________\n",
        "________________\n",
        "________________\n",
        "________________\n",
        "\n",
        "print(s)\n",
        "예\n",
        "결과\n",
        "'Python' is a \"programming language\"\n",
        "that lets you work quickly\n",
        "and\n",
        "integrate systems more effectively."
      ]
    },
    {
      "cell_type": "code",
      "metadata": {
        "id": "P8B5tIyJJAzS",
        "colab": {
          "base_uri": "https://localhost:8080/"
        },
        "outputId": "64d9e809-32e7-4272-b839-9e3eb1c8ac68"
      },
      "source": [
        "s = ''''Python' is a \"programming language\"\n",
        "that lets you work quickly\n",
        "and\n",
        "integrate systems more effectively.'''\n",
        "print(s)"
      ],
      "execution_count": 4,
      "outputs": [
        {
          "output_type": "stream",
          "text": [
            "'Python' is a \"programming language\"\n",
            "that lets you work quickly\n",
            "and\n",
            "integrate systems more effectively.\n"
          ],
          "name": "stdout"
        }
      ]
    }
  ]
}