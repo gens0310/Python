{
  "nbformat": 4,
  "nbformat_minor": 0,
  "metadata": {
    "colab": {
      "name": "심사문제 10.ipynb",
      "provenance": [],
      "collapsed_sections": []
    },
    "kernelspec": {
      "name": "python3",
      "display_name": "Python 3"
    },
    "language_info": {
      "name": "python"
    }
  },
  "cells": [
    {
      "cell_type": "markdown",
      "metadata": {
        "id": "Zd4m3eC9JU2k"
      },
      "source": [
        "# 심사문제 10"
      ]
    },
    {
      "cell_type": "markdown",
      "metadata": {
        "id": "UQuD3nWVJXIM"
      },
      "source": [
        "## 표준 입력으로 정수가 입력됩니다. range의 시작하는 숫자는 -10, 끝나는 숫자는 10이며 입력된 정수만큼 증가하는 숫자가 들어가도록 튜플을 만들고, 해당 튜플을 출력하는 프로그램을 만드세요(input에서 안내 문자열은 출력하지 않아야 합니다)."
      ]
    },
    {
      "cell_type": "markdown",
      "metadata": {
        "id": "76r7uXXYJYSK"
      },
      "source": [
        "### judge_tuple.py\n",
        "________________\n",
        "________________\n",
        "________________"
      ]
    },
    {
      "cell_type": "code",
      "metadata": {
        "id": "tK6ulqKlJQSN",
        "colab": {
          "base_uri": "https://localhost:8080/"
        },
        "outputId": "134e7d61-0f4c-4466-ea11-531263547b3e"
      },
      "source": [
        "step = input()\n",
        "a = tuple(range(-10, 10, int(step)))\n",
        "print(a)"
      ],
      "execution_count": 2,
      "outputs": [
        {
          "output_type": "stream",
          "text": [
            "3\n",
            "(-10, -7, -4, -1, 2, 5, 8)\n"
          ],
          "name": "stdout"
        }
      ]
    }
  ]
}