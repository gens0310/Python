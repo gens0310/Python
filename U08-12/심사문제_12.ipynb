{
  "nbformat": 4,
  "nbformat_minor": 0,
  "metadata": {
    "colab": {
      "name": "심사문제 12.ipynb",
      "provenance": [],
      "collapsed_sections": []
    },
    "kernelspec": {
      "name": "python3",
      "display_name": "Python 3"
    },
    "language_info": {
      "name": "python"
    }
  },
  "cells": [
    {
      "cell_type": "markdown",
      "metadata": {
        "id": "g3D4bjpZQwMa"
      },
      "source": [
        "# 심사문제 12"
      ]
    },
    {
      "cell_type": "markdown",
      "metadata": {
        "id": "95z7MQABQ1XJ"
      },
      "source": [
        "## 표준 입력으로 문자열 여러 개와 숫자(실수) 여러 개가 두 줄로 입력됩니다. 입력된 첫 번째 줄은 키, 두 번째 줄은 값으로 하여 딕셔너리를 생성한 뒤 딕셔너리를 출력하는 프로그램을 만드세요. input().split()의 결과를 변수 한 개에 저장하면 리스트로 저장됩니다."
      ]
    },
    {
      "cell_type": "markdown",
      "metadata": {
        "id": "L-vpXnG_Q0dq"
      },
      "source": [
        "### judge_dict.py\n",
        "________________\n",
        "________________\n",
        "________________\n",
        "________________"
      ]
    },
    {
      "cell_type": "code",
      "metadata": {
        "id": "SQr64YlMQtvb",
        "colab": {
          "base_uri": "https://localhost:8080/"
        },
        "outputId": "53b5562b-a972-4a0e-ea7f-a99fb68be7ce"
      },
      "source": [
        "a = input().split()\n",
        "b = input().split()\n",
        "print(dict(zip(a, list(map(float, b)))))"
      ],
      "execution_count": 3,
      "outputs": [
        {
          "output_type": "stream",
          "text": [
            "health mana damage stamina\n",
            "101.3 56.2 987.0 81.2\n",
            "{'health': 101.3, 'mana': 56.2, 'damage': 987.0, 'stamina': 81.2}\n"
          ],
          "name": "stdout"
        }
      ]
    }
  ]
}