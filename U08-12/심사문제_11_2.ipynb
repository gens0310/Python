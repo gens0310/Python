{
  "nbformat": 4,
  "nbformat_minor": 0,
  "metadata": {
    "colab": {
      "name": "심사문제 11-2.ipynb",
      "provenance": [],
      "collapsed_sections": []
    },
    "kernelspec": {
      "name": "python3",
      "display_name": "Python 3"
    },
    "language_info": {
      "name": "python"
    }
  },
  "cells": [
    {
      "cell_type": "markdown",
      "metadata": {
        "id": "0nEnLzHY3TWb"
      },
      "source": [
        "# 심사문제 11-2"
      ]
    },
    {
      "cell_type": "markdown",
      "metadata": {
        "id": "D7i_nyKH3Trg"
      },
      "source": [
        "## 표준 입력으로 문자열 두 개가 각 줄에 입력됩니다(문자열의 길이는 정해져 있지 않음). 첫 번째 문자열에서 인덱스가 홀수인 문자와 두 번째 문자열에서 인덱스가 짝수인 문자를 연결하여 출력하는 프로그램을 만드세요(input에서 안내 문자열은 출력하지 않아야 합니다). 연결 순서는 첫 번째 문자열, 두 번째 문자열 순입니다. 그리고 0은 짝수로 처리합니다."
      ]
    },
    {
      "cell_type": "markdown",
      "metadata": {
        "id": "AcDLbWvk3Vhp"
      },
      "source": [
        "### judge_slice_concatenation.py\n",
        "________________\n",
        "________________\n",
        "________________"
      ]
    },
    {
      "cell_type": "code",
      "metadata": {
        "colab": {
          "base_uri": "https://localhost:8080/"
        },
        "id": "JgyGyXluMMLS",
        "outputId": "3b80577d-4895-42cf-cd1d-484534a3278b"
      },
      "source": [
        "a = input()\n",
        "b = input()\n",
        "print(a[1::2]+b[0::2])"
      ],
      "execution_count": 63,
      "outputs": [
        {
          "output_type": "stream",
          "text": [
            "abcdef\n",
            "abcdef\n",
            "bdface\n"
          ],
          "name": "stdout"
        }
      ]
    }
  ]
}